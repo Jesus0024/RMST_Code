{
 "cells": [
  {
   "cell_type": "code",
   "execution_count": 2,
   "metadata": {
    "vscode": {
     "languageId": "r"
    }
   },
   "outputs": [],
   "source": [
    "if (!require(survRM2)) install.packages('survRM2')\n",
    "library('survRM2') \n",
    "if (!require(mvtnorm)) install.packages('mvtnorm')\n",
    "library('mvtnorm')\n",
    "if (!require(survival)) install.packages('survival')\n",
    "library('survival')\n",
    "if (!require(nph)) install.packages('nph')\n",
    "library('nph')\n",
    "if (!require(foreach)) install.packages(\"foreach\")\n",
    "library('foreach') \n",
    "if (!require(doParallel)) install.packages(\"doParallel\")\n",
    "library('doParallel')\n",
    "if (!require(ggplot2)) install.packages(\"ggplot2\")\n",
    "library('ggplot2')\n",
    "if (!require(cowplot)) install.packages(\"cowplot\")\n",
    "library('cowplot')\n",
    "library('IRdisplay')\n",
    "if (!require(abind)) install.packages(\"abind\")\n",
    "library('abind')\n",
    "\n",
    "n_cores <- detectCores()\n",
    "cluster <- makeCluster(16) # How many cores we use\n",
    "registerDoParallel(cluster)\n",
    "# multi thread\n",
    "invisible(clusterEvalQ(cluster, #import packages to parallel \n",
    "  {\n",
    "  library('survRM2')\n",
    "  library('mvtnorm')\n",
    "  library('survival')\n",
    "  library('nph')\n",
    "  library(\"simtrial\")\n",
    "  library(\"foreach\")\n",
    "  }))\n",
    "\n",
    "source('/home/r27user6/RMST_Code/Function.R')\n",
    "clusterExport(cluster, \"expo_gen_2stages\")"
   ]
  },
  {
   "cell_type": "markdown",
   "metadata": {},
   "source": [
    "# 3 Methods Comparison Under Proportional Hazard\n",
    "\n",
    "### 2 stages Rejection region of overall:\n",
    "### 1. Log rank test\n",
    "#### $\\textcolor{lightgreen}{\\frac{W_1}{\\sigma_1}>c_1\\ \\&\\ \\frac{W}{\\sigma}>c}$\n",
    "### 2. Simple RMST Difference\n",
    "#### $ \\textcolor{lightgreen}{E(\\tau_1) - C(\\tau_1) > m_1\\ \\&\\  E(\\tau_2)-C(\\tau_2)>m_2 }$\n",
    "### 3. Our RMST Rejection method\n",
    "#### $ \\textcolor{lightgreen}{E(\\tau_1)-C(\\tau_1)>m_1\\ \\&\\  E(\\tau_1)>t_1\\ \\&\\  E(\\tau_2)-C(\\tau_2)>m_2\\ \\&\\  E(\\tau_2)>t_2}$\n",
    "--------"
   ]
  },
  {
   "cell_type": "markdown",
   "metadata": {},
   "source": [
    "#### Different from the setting in Jung's 2017 table 1:\n",
    "#### We set the total accrual time = 2 years and follow up 1 year\n",
    "#### Recruit rate is 60(30 per arm) per year calculate the test power of 3 method controling $\\alpha = 0.05$\n",
    "#### Interim period we set at $c(1,\\ 1.2,\\ 1.4,\\ 1.6,\\ 1.8)$ year\n"
   ]
  },
  {
   "cell_type": "code",
   "execution_count": 20,
   "metadata": {
    "vscode": {
     "languageId": "r"
    }
   },
   "outputs": [],
   "source": [
    "sim_size <- 5000\n",
    "acc_time <- 2\n",
    "cen_time <- 1\n",
    "delta <- 1.8\n",
    "lambda_H1 <- 0.9\n",
    "lambda_H0 <- 0.9 * delta\n",
    "r <- 60  # patient recruit rate\n",
    "acc_time <- 2\n",
    "interim_list <- c(1, 1.2, 1.4, 1.6, 1.8)\n",
    "n <- acc_time * r / 2  # total sample size per arm\n",
    "set.seed(2024)\n",
    "\n",
    "data_C <- expo_gen_2stages(N = n * sim_size, acc_time = acc_time, lambda = lambda_H0, dist = 'exp', \n",
    "                            cen_time = cen_time, arm = 0, interim = interim_list)    \n",
    "data_E_H0 <- expo_gen_2stages(N = n * sim_size, acc_time = acc_time, lambda = lambda_H0, dist = 'exp', \n",
    "                            cen_time = cen_time, arm = 1, interim = interim_list)                    \n",
    "data_E_H1 <- expo_gen_2stages(N = n * sim_size, acc_time = acc_time, lambda = lambda_H1, dist = 'exp', \n",
    "                            cen_time = cen_time, arm = 1, interim = interim_list)\n",
    "\n",
    "test_data <- foreach(i = 1 : length(interim_list), .combine = 'cbind', .packages = 'foreach') %dopar% \n",
    "    {\n",
    "        interim <- interim_list[i]\n",
    "        rmst_h0_int <- RMST_sim_cal(n = n,data_E = data_E_H0[ , c(2,3,1), i], \n",
    "                                data_C = data_C[ , c(2,3,1), i],tau = interim, sim_size = sim_size)\n",
    "        rmst_h1_int <- RMST_sim_cal(n = n,data_E = data_E_H1[ , c(2,3,1), i], \n",
    "                                data_C = data_C[ , c(2,3,1), i],tau = interim, sim_size = sim_size)\n",
    "        rmst_h0_fin <- RMST_sim_cal(n = n,data_E = data_E_H0[ , c(4,5,1), i], \n",
    "                                data_C = data_C[ , c(4,5,1), i],tau = acc_time + cen_time,sim_size = sim_size)\n",
    "        rmst_h1_fin <- RMST_sim_cal(n = n,data_E = data_E_H1[ , c(4,5,1), i], \n",
    "                                data_C = data_C[ , c(4,5,1), i],tau = acc_time + cen_time,sim_size = sim_size)\n",
    "        rmst_data <- rbind(rmst_h0_int, rmst_h1_int, rmst_h0_fin, rmst_h1_fin)\n",
    "        #Log rank\n",
    "        z_stats_h0_int <- log_rank_sim(data_C = data_C[ , c(2,3,1), i], \n",
    "                                data_E = data_E_H0[ , c(2,3,1), i], sim_size =  sim_size,\n",
    "                            n = n, alpha = 0.05, sided = 'greater')$z_stats\n",
    "        z_stats_h1_int <- log_rank_sim(data_C = data_C[ , c(2,3,1), i], \n",
    "                                data_E = data_E_H1[ , c(2,3,1), i], sim_size =  sim_size,\n",
    "                            n = n, alpha = 0.05, sided = 'greater')$z_stats\n",
    "        z_stats_h0_fin <- log_rank_sim(data_C = data_C[ , c(4,5,1), i], \n",
    "                                data_E = data_E_H0[ , c(4,5,1), i], sim_size =  sim_size,\n",
    "                            n = n, alpha = 0.05, sided = 'greater')$z_stats\n",
    "        z_stats_h1_fin <- log_rank_sim(data_C = data_C[ , c(4,5,1), i], \n",
    "                                data_E = data_E_H1[ , c(4,5,1), i], sim_size =  sim_size,\n",
    "                            n = n, alpha = 0.05, sided = 'greater')$z_stats\n",
    "        logrank_data <- rbind(z_stats_h0_int, z_stats_h1_int, z_stats_h0_fin, z_stats_h1_fin)\n",
    "        return(list(rmst_data = rmst_data, logrank_data = logrank_data))\n",
    "    }\n"
   ]
  },
  {
   "cell_type": "markdown",
   "metadata": {},
   "source": [
    "## <span style=\"color:yellow\">Grid search remarks:\n",
    "### The searching range should be consistant under a specific experiment setting\n",
    "###  1. Searching range of m (RMST difference):\n",
    "#### $\\qquad$ Lower bound slightly smaller than $E_1 - C_1|H_0\\ $; Upper bound larger than $E_2 - C_2|H_1$\n",
    "#### $\\qquad$ upper bound is controled by m_low + search_times * search_step\n",
    "### 2. Searching range of t (RMST of experiment group):\n",
    "#### $\\qquad$ t_low slightly smaller than $E_1\\ $; t_up slightly larger than $E_2$\n",
    "#### $\\qquad$ search_step of t = (upper - lower) / searching times\n",
    "### 3. Searching range of c (critical value of Log rank):\n",
    "#### $\\qquad$ Lower bound slightly smaller than $\\frac{W_1}{\\sigma_1}|H_0\\ $; Upper bound larger than $\\frac{W}{\\sigma}|H_1$\n",
    "### · <font color=LightSeaGreen>Control PET0, PET1 and overall alpha, search for the highest power\n",
    "### Once the search_times is set, the running time is fixed. "
   ]
  },
  {
   "cell_type": "code",
   "execution_count": 21,
   "metadata": {
    "vscode": {
     "languageId": "r"
    }
   },
   "outputs": [],
   "source": [
    "# search for parameter under different interim period\n",
    "best_result <- foreach(i = 1 : length(interim_list), .combine = 'cbind', .packages = 'foreach') %dopar% \n",
    "    {   rmst_data <- test_data[,i]$rmst_data\n",
    "        logrank_data <- test_data[,i]$logrank_data\n",
    "        search_times <- 500\n",
    "\n",
    "        #RMST\n",
    "        m_low <- quantile((rmst_data[2,] - rmst_data[1,]), 0.1 )\n",
    "        # Smallest RMST difference: interim under H0\n",
    "        m_up <- quantile((rmst_data[8,] - rmst_data[7,]), 0.9 )\n",
    "        # Largest RMST difference: final under H1\n",
    "        search_step_rmst <- (m_up - m_low) / search_times\n",
    "        t_low <- quantile((rmst_data[2,]), 0.1)\n",
    "        # Smallest experiment RMST: interim under H0\n",
    "        t_up <- quantile((rmst_data[8,]), 0.9)\n",
    "\n",
    "        #Log rank\n",
    "        c_low <- min(logrank_data)\n",
    "        c_up <- max(logrank_data)\n",
    "        search_step_lr <- (c_up - c_low) / search_times\n",
    "\n",
    "        # Control PET0 and PET1\n",
    "        tar_a1 <- 0.8      #Upper bound of 1-PET0\n",
    "        tar_pow1_low <- 0.1  # lower bound of 1-PET1\n",
    "        tar_alpha <- 0.05\n",
    "\n",
    "        best_our_rmst <- find_m_t_RMST(m_low = m_low, t_low = t_low, t_up = t_up, rmst_data = rmst_data, \n",
    "                            search_times = search_times, search_step = search_step_rmst, tar_a1 = tar_a1, \n",
    "                            tar_pow1_low = tar_pow1_low, tar_a2 = tar_alpha, sim_size = sim_size)\n",
    "\n",
    "        best_simple_rmst <- find_m_t_RMST(m_low = m_low, t_low = -Inf, t_up = t_up, rmst_data = rmst_data, \n",
    "                            search_times = search_times, search_step = search_step_rmst, tar_a1 = tar_a1, \n",
    "                            tar_pow1_low = tar_pow1_low, tar_a2 = tar_alpha, sim_size = sim_size)\n",
    "\n",
    "        best_log_rank <- find_m_logrank(m_low = c_low, logrank_data = logrank_data, \n",
    "                            search_times = search_times, search_step = search_step_lr, tar_a1 = tar_a1, \n",
    "                            tar_pow1_low = tar_pow1_low, tar_a2 = tar_alpha, sim_size = sim_size)\n",
    "        # best result in dataframe\n",
    "        return(list(best_our_rmst = best_our_rmst, \n",
    "                    best_simple_rmst = best_simple_rmst,\n",
    "                    best_log_rank = best_log_rank))\n",
    "    }"
   ]
  },
  {
   "cell_type": "code",
   "execution_count": 22,
   "metadata": {
    "vscode": {
     "languageId": "r"
    }
   },
   "outputs": [
    {
     "data": {
      "text/html": [
       "<table class=\"dataframe\">\n",
       "<caption>A matrix: 3 × 5</caption>\n",
       "<thead>\n",
       "\t<tr><th></th><th scope=col>result.1</th><th scope=col>result.2</th><th scope=col>result.3</th><th scope=col>result.4</th><th scope=col>result.5</th></tr>\n",
       "\t<tr><th></th><th scope=col>&lt;df[,8]&gt;</th><th scope=col>&lt;df[,8]&gt;</th><th scope=col>&lt;NULL&gt;</th><th scope=col>&lt;df[,8]&gt;</th><th scope=col>&lt;df[,8]&gt;</th><th scope=col>&lt;NULL&gt;</th><th scope=col>&lt;df[,8]&gt;</th><th scope=col>&lt;df[,8]&gt;</th><th scope=col>&lt;NULL&gt;</th><th scope=col>&lt;df[,8]&gt;</th><th scope=col>&lt;df[,8]&gt;</th><th scope=col>&lt;NULL&gt;</th><th scope=col>&lt;df[,8]&gt;</th><th scope=col>&lt;df[,8]&gt;</th><th scope=col>&lt;df[,6]&gt;</th></tr>\n",
       "</thead>\n",
       "<tbody>\n",
       "\t<tr><th scope=row>best_our_rmst</th><td>-0.11856032, 0.38922503, 0.20120000, 0.00840000, -0.09399512, 0.72921410, 0.04940000, 0.98480000</td><td>-0.12379270, 0.42083100, 0.20080000, 0.00440000, -0.08805762, 0.72786275, 0.04920000, 0.98840000</td><td>-0.12957824, 0.44787872, 0.20500000, 0.00200000, -0.04164365, 0.72730862, 0.04900000, 0.99020000</td><td>-0.12351818, 0.46359468, 0.20360000, 0.00120000, -0.04161879, 0.72503021, 0.04940000, 0.99020000</td><td>-0.12472958, 0.47924806, 0.20320000, 0.00080000, -0.03599863, 0.72153112, 0.04840000, 0.99040000</td></tr>\n",
       "\t<tr><th scope=row>best_simple_rmst</th><td>-0.07625359, -Inf, 0.20060000, 0.01480000, 0.17349256, -Inf, 0.04860000, 0.93640000</td><td>-0.08393435, -Inf, 0.20100000, 0.01000000, 0.17308334, -Inf, 0.04900000, 0.94060000</td><td>-0.08286299, -Inf, 0.20160000, 0.00660000, 0.17407088, -Inf, 0.04860000, 0.93920000</td><td>-0.08393348, -Inf, 0.20200000, 0.00340000, 0.17404960, -Inf, 0.04860000, 0.93860000</td><td>-0.08305292, -Inf, 0.20020000, 0.00240000, 0.16969585, -Inf, 0.04940000, 0.94120000</td></tr>\n",
       "\t<tr><th scope=row>best_log_rank</th><td>NULL</td><td>NULL</td><td>NULL</td><td>NULL</td><td>-0.8425079, 0.2030000, 0.0022000, 1.6783691, 0.0488000, 0.8972000</td></tr>\n",
       "</tbody>\n",
       "</table>\n"
      ],
      "text/latex": [
       "A matrix: 3 × 5\n",
       "\\begin{tabular}{r|lllll}\n",
       "  & result.1 & result.2 & result.3 & result.4 & result.5\\\\\n",
       "  & <df{[},8{]}> & <df{[},8{]}> & <NULL> & <df{[},8{]}> & <df{[},8{]}> & <NULL> & <df{[},8{]}> & <df{[},8{]}> & <NULL> & <df{[},8{]}> & <df{[},8{]}> & <NULL> & <df{[},8{]}> & <df{[},8{]}> & <df{[},6{]}>\\\\\n",
       "\\hline\n",
       "\tbest\\_our\\_rmst & -0.11856032, 0.38922503, 0.20120000, 0.00840000, -0.09399512, 0.72921410, 0.04940000, 0.98480000 & -0.12379270, 0.42083100, 0.20080000, 0.00440000, -0.08805762, 0.72786275, 0.04920000, 0.98840000 & -0.12957824, 0.44787872, 0.20500000, 0.00200000, -0.04164365, 0.72730862, 0.04900000, 0.99020000 & -0.12351818, 0.46359468, 0.20360000, 0.00120000, -0.04161879, 0.72503021, 0.04940000, 0.99020000 & -0.12472958, 0.47924806, 0.20320000, 0.00080000, -0.03599863, 0.72153112, 0.04840000, 0.99040000\\\\\n",
       "\tbest\\_simple\\_rmst & -0.07625359, -Inf, 0.20060000, 0.01480000, 0.17349256, -Inf, 0.04860000, 0.93640000 & -0.08393435, -Inf, 0.20100000, 0.01000000, 0.17308334, -Inf, 0.04900000, 0.94060000 & -0.08286299, -Inf, 0.20160000, 0.00660000, 0.17407088, -Inf, 0.04860000, 0.93920000 & -0.08393348, -Inf, 0.20200000, 0.00340000, 0.17404960, -Inf, 0.04860000, 0.93860000 & -0.08305292, -Inf, 0.20020000, 0.00240000, 0.16969585, -Inf, 0.04940000, 0.94120000\\\\\n",
       "\tbest\\_log\\_rank & NULL & NULL & NULL & NULL & -0.8425079, 0.2030000, 0.0022000, 1.6783691, 0.0488000, 0.8972000\\\\\n",
       "\\end{tabular}\n"
      ],
      "text/markdown": [
       "\n",
       "A matrix: 3 × 5\n",
       "\n",
       "| <!--/--> | result.1 &lt;df[,8]&gt; | result.2 &lt;df[,8]&gt; | result.3 &lt;NULL&gt; | result.4 &lt;df[,8]&gt; | result.5 &lt;df[,8]&gt; | result.1 &lt;NULL&gt; | result.2 &lt;df[,8]&gt; | result.3 &lt;df[,8]&gt; | result.4 &lt;NULL&gt; | result.5 &lt;df[,8]&gt; | result.1 &lt;df[,8]&gt; | result.2 &lt;NULL&gt; | result.3 &lt;df[,8]&gt; | result.4 &lt;df[,8]&gt; | result.5 &lt;df[,6]&gt; |\n",
       "|---|---|---|---|---|---|\n",
       "| best_our_rmst | -0.11856032, 0.38922503, 0.20120000, 0.00840000, -0.09399512, 0.72921410, 0.04940000, 0.98480000 | -0.12379270, 0.42083100, 0.20080000, 0.00440000, -0.08805762, 0.72786275, 0.04920000, 0.98840000 | -0.12957824, 0.44787872, 0.20500000, 0.00200000, -0.04164365, 0.72730862, 0.04900000, 0.99020000 | -0.12351818, 0.46359468, 0.20360000, 0.00120000, -0.04161879, 0.72503021, 0.04940000, 0.99020000 | -0.12472958, 0.47924806, 0.20320000, 0.00080000, -0.03599863, 0.72153112, 0.04840000, 0.99040000 |\n",
       "| best_simple_rmst | -0.07625359, -Inf, 0.20060000, 0.01480000, 0.17349256, -Inf, 0.04860000, 0.93640000 | -0.08393435, -Inf, 0.20100000, 0.01000000, 0.17308334, -Inf, 0.04900000, 0.94060000 | -0.08286299, -Inf, 0.20160000, 0.00660000, 0.17407088, -Inf, 0.04860000, 0.93920000 | -0.08393348, -Inf, 0.20200000, 0.00340000, 0.17404960, -Inf, 0.04860000, 0.93860000 | -0.08305292, -Inf, 0.20020000, 0.00240000, 0.16969585, -Inf, 0.04940000, 0.94120000 |\n",
       "| best_log_rank | NULL | NULL | NULL | NULL | -0.8425079, 0.2030000, 0.0022000, 1.6783691, 0.0488000, 0.8972000 |\n",
       "\n"
      ],
      "text/plain": [
       "                 result.1                                                                                        \n",
       "best_our_rmst    -0.11856032, 0.38922503, 0.20120000, 0.00840000, -0.09399512, 0.72921410, 0.04940000, 0.98480000\n",
       "best_simple_rmst -0.07625359, -Inf, 0.20060000, 0.01480000, 0.17349256, -Inf, 0.04860000, 0.93640000             \n",
       "best_log_rank    NULL                                                                                            \n",
       "                 result.2                                                                                        \n",
       "best_our_rmst    -0.12379270, 0.42083100, 0.20080000, 0.00440000, -0.08805762, 0.72786275, 0.04920000, 0.98840000\n",
       "best_simple_rmst -0.08393435, -Inf, 0.20100000, 0.01000000, 0.17308334, -Inf, 0.04900000, 0.94060000             \n",
       "best_log_rank    NULL                                                                                            \n",
       "                 result.3                                                                                        \n",
       "best_our_rmst    -0.12957824, 0.44787872, 0.20500000, 0.00200000, -0.04164365, 0.72730862, 0.04900000, 0.99020000\n",
       "best_simple_rmst -0.08286299, -Inf, 0.20160000, 0.00660000, 0.17407088, -Inf, 0.04860000, 0.93920000             \n",
       "best_log_rank    NULL                                                                                            \n",
       "                 result.4                                                                                        \n",
       "best_our_rmst    -0.12351818, 0.46359468, 0.20360000, 0.00120000, -0.04161879, 0.72503021, 0.04940000, 0.99020000\n",
       "best_simple_rmst -0.08393348, -Inf, 0.20200000, 0.00340000, 0.17404960, -Inf, 0.04860000, 0.93860000             \n",
       "best_log_rank    NULL                                                                                            \n",
       "                 result.5                                                                                        \n",
       "best_our_rmst    -0.12472958, 0.47924806, 0.20320000, 0.00080000, -0.03599863, 0.72153112, 0.04840000, 0.99040000\n",
       "best_simple_rmst -0.08305292, -Inf, 0.20020000, 0.00240000, 0.16969585, -Inf, 0.04940000, 0.94120000             \n",
       "best_log_rank    -0.8425079, 0.2030000, 0.0022000, 1.6783691, 0.0488000, 0.8972000                               "
      ]
     },
     "metadata": {},
     "output_type": "display_data"
    }
   ],
   "source": [
    "best_result"
   ]
  },
  {
   "cell_type": "code",
   "execution_count": null,
   "metadata": {
    "vscode": {
     "languageId": "r"
    }
   },
   "outputs": [],
   "source": []
  }
 ],
 "metadata": {
  "kernelspec": {
   "display_name": "R",
   "language": "R",
   "name": "ir"
  },
  "language_info": {
   "codemirror_mode": "r",
   "file_extension": ".r",
   "mimetype": "text/x-r-source",
   "name": "R",
   "pygments_lexer": "r",
   "version": "4.4.1"
  }
 },
 "nbformat": 4,
 "nbformat_minor": 2
}
