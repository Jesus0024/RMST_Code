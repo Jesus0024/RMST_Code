{
 "cells": [
  {
   "cell_type": "code",
   "execution_count": 2,
   "metadata": {
    "vscode": {
     "languageId": "r"
    }
   },
   "outputs": [],
   "source": [
    "if (!require(survRM2)) install.packages('survRM2')\n",
    "library('survRM2') \n",
    "if (!require(mvtnorm)) install.packages('mvtnorm')\n",
    "library('mvtnorm')\n",
    "if (!require(survival)) install.packages('survival')\n",
    "library('survival')\n",
    "if (!require(nph)) install.packages('nph')\n",
    "library('nph')\n",
    "if (!require(foreach)) install.packages(\"foreach\")\n",
    "library('foreach') \n",
    "if (!require(doParallel)) install.packages(\"doParallel\")\n",
    "library('doParallel')\n",
    "if (!require(ggplot2)) install.packages(\"ggplot2\")\n",
    "library('ggplot2')\n",
    "if (!require(cowplot)) install.packages(\"cowplot\")\n",
    "library('cowplot')\n",
    "library('IRdisplay')\n",
    "if (!require(abind)) install.packages(\"abind\")\n",
    "library('abind')\n",
    "\n",
    "n_cores <- detectCores()\n",
    "cluster <- makeCluster(16) # How many cores we use\n",
    "registerDoParallel(cluster)\n",
    "# multi thread\n",
    "invisible(clusterEvalQ(cluster, #import packages to parallel \n",
    "  {\n",
    "  library('survRM2')\n",
    "  library('mvtnorm')\n",
    "  library('survival')\n",
    "  library('nph')\n",
    "  library(\"simtrial\")\n",
    "  library(\"foreach\")\n",
    "  }))\n",
    "\n",
    "source('/home/r27user6/RMST_Code/Function.R')\n",
    "clusterExport(cluster, \"expo_gen_2stages\")"
   ]
  },
  {
   "cell_type": "markdown",
   "metadata": {},
   "source": [
    "# 3 Methods Comparison Under Proportional Hazard\n",
    "\n",
    "### 2 stages Rejection region of overall:\n",
    "### 1. Log rank test\n",
    "#### $\\textcolor{lightgreen}{\\frac{W_1}{\\sigma_1}>c_1\\ \\&\\ \\frac{W}{\\sigma}>c}$\n",
    "### 2. Simple RMST Difference\n",
    "#### $ \\textcolor{lightgreen}{E(\\tau_1) - C(\\tau_1) > m_1\\ \\&\\  E(\\tau_2)-C(\\tau_2)>m_2 }$\n",
    "### 3. Our RMST Rejection method\n",
    "#### $ \\textcolor{lightgreen}{E(\\tau_1)-C(\\tau_1)>m_1\\ \\&\\  E(\\tau_1)>t_1\\ \\&\\  E(\\tau_2)-C(\\tau_2)>m_2\\ \\&\\  E(\\tau_2)>t_2}$\n",
    "--------"
   ]
  },
  {
   "cell_type": "markdown",
   "metadata": {},
   "source": [
    "#### Different from the setting in Jung's 2017 table 1:\n",
    "#### We set the total accrual time = 2 years and follow up 1 year\n",
    "#### Recruit rate is 60(30 per arm) per year calculate the test power of 3 method controling $\\alpha = 0.05$\n",
    "#### Interim period we set at $c(1,\\ 1.2,\\ 1.4,\\ 1.6,\\ 1.8)$ year\n"
   ]
  },
  {
   "cell_type": "code",
   "execution_count": 14,
   "metadata": {
    "vscode": {
     "languageId": "r"
    }
   },
   "outputs": [],
   "source": [
    "sim_size <- 5000\n",
    "acc_time <- 2\n",
    "cen_time <- 1\n",
    "delta <- 1.5\n",
    "lambda_H1 <- 0.9\n",
    "lambda_H0 <- 0.9 * delta\n",
    "r <- 60  # patient recruit rate\n",
    "acc_time <- 2\n",
    "interim_list <- c(1, 1.2, 1.4, 1.6, 1.8)\n",
    "n <- acc_time * r / 2  # total sample size per arm\n",
    "\n",
    "data_C <- expo_gen_2stages(N = n * sim_size, acc_time = acc_time, lambda = lambda_H0, dist = 'exp', \n",
    "                            cen_time = cen_time, arm = 0, interim = interim_list)    \n",
    "data_E_H0 <- expo_gen_2stages(N = n * sim_size, acc_time = acc_time, lambda = lambda_H0, dist = 'exp', \n",
    "                            cen_time = cen_time, arm = 1, interim = interim_list)                    \n",
    "data_E_H1 <- expo_gen_2stages(N = n * sim_size, acc_time = acc_time, lambda = lambda_H1, dist = 'exp', \n",
    "                            cen_time = cen_time, arm = 1, interim = interim_list)\n",
    "\n",
    "test_data <- foreach(i = 1 : length(interim_list), .combine = 'cbind', .packages = 'foreach') %dopar% \n",
    "    {\n",
    "        interim <- interim_list[i]\n",
    "        rmst_h0_int <- RMST_sim_cal(n = n,data_E = data_E_H0[ , c(2,3,1), i], \n",
    "                                data_C = data_C[ , c(2,3,1), i],tau = interim, sim_size = sim_size)\n",
    "        rmst_h1_int <- RMST_sim_cal(n = n,data_E = data_E_H1[ , c(2,3,1), i], \n",
    "                                data_C = data_C[ , c(2,3,1), i],tau = interim, sim_size = sim_size)\n",
    "        rmst_h0_fin <- RMST_sim_cal(n = n,data_E = data_E_H0[ , c(4,5,1), i], \n",
    "                                data_C = data_C[ , c(4,5,1), i],tau = acc_time + cen_time,sim_size = sim_size)\n",
    "        rmst_h1_fin <- RMST_sim_cal(n = n,data_E = data_E_H1[ , c(4,5,1), i], \n",
    "                                data_C = data_C[ , c(4,5,1), i],tau = acc_time + cen_time,sim_size = sim_size)\n",
    "        rmst_data <- rbind(rmst_h0_int, rmst_h1_int, rmst_h0_fin, rmst_h1_fin)\n",
    "        #Log rank\n",
    "        z_stats_h0_int <- log_rank_sim(data_C = data_C[ , c(2,3,1), i], \n",
    "                                data_E = data_E_H0[ , c(2,3,1), i], sim_size =  sim_size,\n",
    "                            n = n, alpha = 0.05, sided = 'greater')$z_stats\n",
    "        z_stats_h1_int <- log_rank_sim(data_C = data_C[ , c(2,3,1), i], \n",
    "                                data_E = data_E_H1[ , c(2,3,1), i], sim_size =  sim_size,\n",
    "                            n = n, alpha = 0.05, sided = 'greater')$z_stats\n",
    "        z_stats_h0_fin <- log_rank_sim(data_C = data_C[ , c(4,5,1), i], \n",
    "                                data_E = data_E_H0[ , c(4,5,1), i], sim_size =  sim_size,\n",
    "                            n = n, alpha = 0.05, sided = 'greater')$z_stats\n",
    "        z_stats_h1_fin <- log_rank_sim(data_C = data_C[ , c(4,5,1), i], \n",
    "                                data_E = data_E_H1[ , c(4,5,1), i], sim_size =  sim_size,\n",
    "                            n = n, alpha = 0.05, sided = 'greater')$z_stats\n",
    "        logrank_data <- rbind(z_stats_h0_int, z_stats_h1_int, z_stats_h0_fin, z_stats_h1_fin)\n",
    "        return(list(rmst_data = rmst_data, logrank_data = logrank_data))\n",
    "    }\n"
   ]
  },
  {
   "cell_type": "code",
   "execution_count": 28,
   "metadata": {
    "vscode": {
     "languageId": "r"
    }
   },
   "outputs": [
    {
     "data": {
      "text/html": [
       "<table class=\"dataframe\">\n",
       "<caption>A matrix: 4 × 5000 of type dbl</caption>\n",
       "<thead>\n",
       "\t<tr><th></th><th scope=col>result.1</th><th scope=col>result.2</th><th scope=col>result.3</th><th scope=col>result.4</th><th scope=col>result.5</th><th scope=col>result.6</th><th scope=col>result.7</th><th scope=col>result.8</th><th scope=col>result.9</th><th scope=col>result.10</th><th scope=col>⋯</th><th scope=col>result.4991</th><th scope=col>result.4992</th><th scope=col>result.4993</th><th scope=col>result.4994</th><th scope=col>result.4995</th><th scope=col>result.4996</th><th scope=col>result.4997</th><th scope=col>result.4998</th><th scope=col>result.4999</th><th scope=col>result.5000</th></tr>\n",
       "</thead>\n",
       "<tbody>\n",
       "\t<tr><th scope=row>z_stats_h0_int</th><td>-0.06362659</td><td>-1.9482975</td><td>0.4941906</td><td>0.9826726</td><td>-1.0889203</td><td>-1.6114202</td><td>-0.8804308</td><td>0.91203955</td><td>-0.002453364</td><td>-0.7166760</td><td>⋯</td><td> 0.4651835</td><td>-0.76867322</td><td>1.6936863</td><td>-0.3594900</td><td> 0.005801764</td><td>0.6119510</td><td>-0.4710424</td><td>0.03883499</td><td>-0.4701056</td><td>-0.8274910</td></tr>\n",
       "\t<tr><th scope=row>z_stats_h1_int</th><td> 0.25862594</td><td> 1.8046191</td><td>0.2523339</td><td>3.3720426</td><td> 0.6177109</td><td>-1.0570513</td><td> 0.5133817</td><td>2.62933285</td><td> 0.473871271</td><td> 0.2233641</td><td>⋯</td><td> 1.6134682</td><td>-0.22099132</td><td>0.7669526</td><td> 0.8400872</td><td> 1.928472005</td><td>2.6077548</td><td> 0.8139987</td><td>1.23482100</td><td> 1.4902955</td><td> 1.7672285</td></tr>\n",
       "\t<tr><th scope=row>z_stats_h0_fin</th><td> 0.17703856</td><td> 0.6174016</td><td>0.3393320</td><td>1.5354990</td><td>-1.3942624</td><td>-2.6290006</td><td>-1.3772224</td><td>0.01216219</td><td>-0.035932570</td><td>-0.8888801</td><td>⋯</td><td>-0.9475598</td><td>-0.03573187</td><td>0.3269426</td><td>-1.1470394</td><td>-1.127876730</td><td>0.3715104</td><td> 0.1929692</td><td>0.86966320</td><td> 1.6171024</td><td>-0.6185291</td></tr>\n",
       "\t<tr><th scope=row>z_stats_h1_fin</th><td> 1.20905441</td><td> 2.5118186</td><td>2.2023461</td><td>3.8111299</td><td> 2.2928636</td><td> 0.2557972</td><td> 2.3085942</td><td>3.37511838</td><td> 0.647333648</td><td> 0.6734068</td><td>⋯</td><td> 0.9712828</td><td> 1.76799959</td><td>1.2345521</td><td> 1.4560690</td><td> 1.921450974</td><td>3.0721935</td><td> 1.6451877</td><td>2.56324443</td><td> 3.6778658</td><td> 3.3925848</td></tr>\n",
       "</tbody>\n",
       "</table>\n"
      ],
      "text/latex": [
       "A matrix: 4 × 5000 of type dbl\n",
       "\\begin{tabular}{r|lllllllllllllllllllll}\n",
       "  & result.1 & result.2 & result.3 & result.4 & result.5 & result.6 & result.7 & result.8 & result.9 & result.10 & ⋯ & result.4991 & result.4992 & result.4993 & result.4994 & result.4995 & result.4996 & result.4997 & result.4998 & result.4999 & result.5000\\\\\n",
       "\\hline\n",
       "\tz\\_stats\\_h0\\_int & -0.06362659 & -1.9482975 & 0.4941906 & 0.9826726 & -1.0889203 & -1.6114202 & -0.8804308 & 0.91203955 & -0.002453364 & -0.7166760 & ⋯ &  0.4651835 & -0.76867322 & 1.6936863 & -0.3594900 &  0.005801764 & 0.6119510 & -0.4710424 & 0.03883499 & -0.4701056 & -0.8274910\\\\\n",
       "\tz\\_stats\\_h1\\_int &  0.25862594 &  1.8046191 & 0.2523339 & 3.3720426 &  0.6177109 & -1.0570513 &  0.5133817 & 2.62933285 &  0.473871271 &  0.2233641 & ⋯ &  1.6134682 & -0.22099132 & 0.7669526 &  0.8400872 &  1.928472005 & 2.6077548 &  0.8139987 & 1.23482100 &  1.4902955 &  1.7672285\\\\\n",
       "\tz\\_stats\\_h0\\_fin &  0.17703856 &  0.6174016 & 0.3393320 & 1.5354990 & -1.3942624 & -2.6290006 & -1.3772224 & 0.01216219 & -0.035932570 & -0.8888801 & ⋯ & -0.9475598 & -0.03573187 & 0.3269426 & -1.1470394 & -1.127876730 & 0.3715104 &  0.1929692 & 0.86966320 &  1.6171024 & -0.6185291\\\\\n",
       "\tz\\_stats\\_h1\\_fin &  1.20905441 &  2.5118186 & 2.2023461 & 3.8111299 &  2.2928636 &  0.2557972 &  2.3085942 & 3.37511838 &  0.647333648 &  0.6734068 & ⋯ &  0.9712828 &  1.76799959 & 1.2345521 &  1.4560690 &  1.921450974 & 3.0721935 &  1.6451877 & 2.56324443 &  3.6778658 &  3.3925848\\\\\n",
       "\\end{tabular}\n"
      ],
      "text/markdown": [
       "\n",
       "A matrix: 4 × 5000 of type dbl\n",
       "\n",
       "| <!--/--> | result.1 | result.2 | result.3 | result.4 | result.5 | result.6 | result.7 | result.8 | result.9 | result.10 | ⋯ | result.4991 | result.4992 | result.4993 | result.4994 | result.4995 | result.4996 | result.4997 | result.4998 | result.4999 | result.5000 |\n",
       "|---|---|---|---|---|---|---|---|---|---|---|---|---|---|---|---|---|---|---|---|---|---|\n",
       "| z_stats_h0_int | -0.06362659 | -1.9482975 | 0.4941906 | 0.9826726 | -1.0889203 | -1.6114202 | -0.8804308 | 0.91203955 | -0.002453364 | -0.7166760 | ⋯ |  0.4651835 | -0.76867322 | 1.6936863 | -0.3594900 |  0.005801764 | 0.6119510 | -0.4710424 | 0.03883499 | -0.4701056 | -0.8274910 |\n",
       "| z_stats_h1_int |  0.25862594 |  1.8046191 | 0.2523339 | 3.3720426 |  0.6177109 | -1.0570513 |  0.5133817 | 2.62933285 |  0.473871271 |  0.2233641 | ⋯ |  1.6134682 | -0.22099132 | 0.7669526 |  0.8400872 |  1.928472005 | 2.6077548 |  0.8139987 | 1.23482100 |  1.4902955 |  1.7672285 |\n",
       "| z_stats_h0_fin |  0.17703856 |  0.6174016 | 0.3393320 | 1.5354990 | -1.3942624 | -2.6290006 | -1.3772224 | 0.01216219 | -0.035932570 | -0.8888801 | ⋯ | -0.9475598 | -0.03573187 | 0.3269426 | -1.1470394 | -1.127876730 | 0.3715104 |  0.1929692 | 0.86966320 |  1.6171024 | -0.6185291 |\n",
       "| z_stats_h1_fin |  1.20905441 |  2.5118186 | 2.2023461 | 3.8111299 |  2.2928636 |  0.2557972 |  2.3085942 | 3.37511838 |  0.647333648 |  0.6734068 | ⋯ |  0.9712828 |  1.76799959 | 1.2345521 |  1.4560690 |  1.921450974 | 3.0721935 |  1.6451877 | 2.56324443 |  3.6778658 |  3.3925848 |\n",
       "\n"
      ],
      "text/plain": [
       "               result.1    result.2   result.3  result.4  result.5   result.6  \n",
       "z_stats_h0_int -0.06362659 -1.9482975 0.4941906 0.9826726 -1.0889203 -1.6114202\n",
       "z_stats_h1_int  0.25862594  1.8046191 0.2523339 3.3720426  0.6177109 -1.0570513\n",
       "z_stats_h0_fin  0.17703856  0.6174016 0.3393320 1.5354990 -1.3942624 -2.6290006\n",
       "z_stats_h1_fin  1.20905441  2.5118186 2.2023461 3.8111299  2.2928636  0.2557972\n",
       "               result.7   result.8   result.9     result.10  ⋯ result.4991\n",
       "z_stats_h0_int -0.8804308 0.91203955 -0.002453364 -0.7166760 ⋯  0.4651835 \n",
       "z_stats_h1_int  0.5133817 2.62933285  0.473871271  0.2233641 ⋯  1.6134682 \n",
       "z_stats_h0_fin -1.3772224 0.01216219 -0.035932570 -0.8888801 ⋯ -0.9475598 \n",
       "z_stats_h1_fin  2.3085942 3.37511838  0.647333648  0.6734068 ⋯  0.9712828 \n",
       "               result.4992 result.4993 result.4994 result.4995  result.4996\n",
       "z_stats_h0_int -0.76867322 1.6936863   -0.3594900   0.005801764 0.6119510  \n",
       "z_stats_h1_int -0.22099132 0.7669526    0.8400872   1.928472005 2.6077548  \n",
       "z_stats_h0_fin -0.03573187 0.3269426   -1.1470394  -1.127876730 0.3715104  \n",
       "z_stats_h1_fin  1.76799959 1.2345521    1.4560690   1.921450974 3.0721935  \n",
       "               result.4997 result.4998 result.4999 result.5000\n",
       "z_stats_h0_int -0.4710424  0.03883499  -0.4701056  -0.8274910 \n",
       "z_stats_h1_int  0.8139987  1.23482100   1.4902955   1.7672285 \n",
       "z_stats_h0_fin  0.1929692  0.86966320   1.6171024  -0.6185291 \n",
       "z_stats_h1_fin  1.6451877  2.56324443   3.6778658   3.3925848 "
      ]
     },
     "metadata": {},
     "output_type": "display_data"
    }
   ],
   "source": [
    "test_data[,1]$logrank_data"
   ]
  },
  {
   "cell_type": "code",
   "execution_count": 19,
   "metadata": {
    "vscode": {
     "languageId": "r"
    }
   },
   "outputs": [
    {
     "data": {
      "text/html": [
       "<style>\n",
       ".list-inline {list-style: none; margin:0; padding: 0}\n",
       ".list-inline>li {display: inline-block}\n",
       ".list-inline>li:not(:last-child)::after {content: \"\\00b7\"; padding: 0 .5ex}\n",
       "</style>\n",
       "<ol class=list-inline><li>2</li><li>5</li></ol>\n"
      ],
      "text/latex": [
       "\\begin{enumerate*}\n",
       "\\item 2\n",
       "\\item 5\n",
       "\\end{enumerate*}\n"
      ],
      "text/markdown": [
       "1. 2\n",
       "2. 5\n",
       "\n",
       "\n"
      ],
      "text/plain": [
       "[1] 2 5"
      ]
     },
     "metadata": {},
     "output_type": "display_data"
    }
   ],
   "source": [
    "dim(test_data)"
   ]
  },
  {
   "cell_type": "markdown",
   "metadata": {},
   "source": [
    "## <span style=\"color:yellow\">Grid search remarks:\n",
    "### The searching range should be consistant under a specific experiment setting\n",
    "###  1. Searching range of m (RMST difference):\n",
    "#### $\\qquad$ Lower bound slightly smaller than $E_1 - C_1|H_0\\ $; Upper bound larger than $E_2 - C_2|H_1$\n",
    "#### $\\qquad$ upper bound is controled by m_low + search_times * search_step\n",
    "### 2. Searching range of t (RMST of experiment group):\n",
    "#### $\\qquad$ t_low slightly smaller than $E_1\\ $; t_up slightly larger than $E_2$\n",
    "#### $\\qquad$ search_step of t = (upper - lower) / searching times\n",
    "### 3. Searching range of c (critical value of Log rank):\n",
    "#### $\\qquad$ Lower bound slightly smaller than $\\frac{W_1}{\\sigma_1}|H_0\\ $; Upper bound larger than $\\frac{W}{\\sigma}|H_1$\n",
    "### · <font color=LightSeaGreen>Control PET0, PET1 and overall $\\alpha$, search for the highest power"
   ]
  },
  {
   "cell_type": "code",
   "execution_count": 26,
   "metadata": {
    "vscode": {
     "languageId": "r"
    }
   },
   "outputs": [],
   "source": [
    "# search for parameter under different interim period\n",
    "best_result <- foreach(i = 1 : length(interim_list), .combine = 'cbind', .packages = 'foreach') %dopar% \n",
    "    {   rmst_data <- test_data[,i]$rmst_data\n",
    "        logrank_data <- test_data[,i]$logrank_data\n",
    "        search_times <- 500\n",
    "\n",
    "        #RMST\n",
    "        m_low <- mean(rmst_data[2,] - rmst_data[1,]) - 3 * sd(rmst_data[2,] - rmst_data[1,]) \n",
    "        # Smallest RMST difference: interim under H0\n",
    "        m_up <- mean(rmst_data[8,] - rmst_data[7,]) + 3 * sd(rmst_data[8,] - rmst_data[7,]) \n",
    "        # Largest RMST difference: final under H1\n",
    "        search_step_rmst <- (m_up - m_low) / search_times\n",
    "        t_low <- mean(rmst_data[2,]) - 3 * sd(rmst_data[2,])\n",
    "        # Smallest experiment RMST: interim under H0\n",
    "        t_up <- mean(rmst_data[8,]) + 3 * sd(rmst_data[8,]) \n",
    "\n",
    "        #Log rank\n",
    "        c_low <- mean(logrank_data[1,]) - 3 * sd(logrank_data[1,])\n",
    "        c_up <- mean(logrank_data[4,]) + 3 * sd(logrank_data[4,])\n",
    "        search_step_lr <- (c_up - c_low) / search_times\n",
    "\n",
    "        # Control PET0 and PET1\n",
    "        tar_a1 <- 0.8      #Upper bound of 1-PET0\n",
    "        tar_pow1_low <- 0.2  # lower bound of 1-PET1\n",
    "        tar_alpha <- 0.05\n",
    "\n",
    "        best_our_rmst <- find_m_t_RMST(m_low = m_low, t_low = t_low, t_up = t_up, rmst_data = rmst_data, \n",
    "                            search_times = search_times, search_step = search_step_rmst, tar_a1 = tar_a1, \n",
    "                            tar_pow1_low = tar_pow1_low, tar_a2 = tar_alpha, sim_size = sim_size)\n",
    "\n",
    "        best_simple_rmst <- find_m_t_RMST(m_low = m_low, t_low = -Inf, t_up = t_up, rmst_data = rmst_data, \n",
    "                            search_times = search_times, search_step = search_step_rmst, tar_a1 = tar_a1, \n",
    "                            tar_pow1_low = tar_pow1_low, tar_a2 = tar_alpha, sim_size = sim_size)\n",
    "\n",
    "        best_log_rank <- find_m_logrank(m_low = c_low, logrank_data = logrank_data, \n",
    "                            search_times = search_times, search_step = search_step_lr, tar_a1 = tar_a1, \n",
    "                            tar_pow1_low = tar_pow1_low, tar_a2 = tar_alpha, sim_size = sim_size)\n",
    "        # best result in dataframe\n",
    "        return(list(best_our_rmst = best_our_rmst, \n",
    "                    best_simple_rmst = best_simple_rmst,\n",
    "                    best_log_rank = best_log_rank))\n",
    "    }"
   ]
  },
  {
   "cell_type": "code",
   "execution_count": 30,
   "metadata": {
    "vscode": {
     "languageId": "r"
    }
   },
   "outputs": [
    {
     "data": {
      "text/html": [
       "<style>\n",
       ".list-inline {list-style: none; margin:0; padding: 0}\n",
       ".list-inline>li {display: inline-block}\n",
       ".list-inline>li:not(:last-child)::after {content: \"\\00b7\"; padding: 0 .5ex}\n",
       "</style>\n",
       "<ol class=list-inline><li>3</li><li>5</li></ol>\n"
      ],
      "text/latex": [
       "\\begin{enumerate*}\n",
       "\\item 3\n",
       "\\item 5\n",
       "\\end{enumerate*}\n"
      ],
      "text/markdown": [
       "1. 3\n",
       "2. 5\n",
       "\n",
       "\n"
      ],
      "text/plain": [
       "[1] 3 5"
      ]
     },
     "metadata": {},
     "output_type": "display_data"
    }
   ],
   "source": [
    "dim(best_result)"
   ]
  },
  {
   "cell_type": "code",
   "execution_count": 31,
   "metadata": {
    "vscode": {
     "languageId": "r"
    }
   },
   "outputs": [
    {
     "data": {
      "text/html": [
       "<dl>\n",
       "\t<dt>$result.1</dt>\n",
       "\t\t<dd>NULL</dd>\n",
       "\t<dt>$result.2</dt>\n",
       "\t\t<dd>NULL</dd>\n",
       "\t<dt>$result.3</dt>\n",
       "\t\t<dd>NULL</dd>\n",
       "\t<dt>$result.4</dt>\n",
       "\t\t<dd><table class=\"dataframe\">\n",
       "<caption>A data.frame: 1 × 6</caption>\n",
       "<thead>\n",
       "\t<tr><th scope=col>m1</th><th scope=col>PET0</th><th scope=col>PET1</th><th scope=col>m2</th><th scope=col>alpha</th><th scope=col>Power</th></tr>\n",
       "\t<tr><th scope=col>&lt;dbl&gt;</th><th scope=col>&lt;dbl&gt;</th><th scope=col>&lt;dbl&gt;</th><th scope=col>&lt;dbl&gt;</th><th scope=col>&lt;dbl&gt;</th><th scope=col>&lt;dbl&gt;</th></tr>\n",
       "</thead>\n",
       "<tbody>\n",
       "\t<tr><td>-0.870153</td><td>0.2038</td><td>0.0112</td><td>1.660033</td><td>0.0482</td><td>0.6502</td></tr>\n",
       "</tbody>\n",
       "</table>\n",
       "</dd>\n",
       "\t<dt>$result.5</dt>\n",
       "\t\t<dd>NULL</dd>\n",
       "</dl>\n"
      ],
      "text/latex": [
       "\\begin{description}\n",
       "\\item[\\$result.1] NULL\n",
       "\\item[\\$result.2] NULL\n",
       "\\item[\\$result.3] NULL\n",
       "\\item[\\$result.4] A data.frame: 1 × 6\n",
       "\\begin{tabular}{llllll}\n",
       " m1 & PET0 & PET1 & m2 & alpha & Power\\\\\n",
       " <dbl> & <dbl> & <dbl> & <dbl> & <dbl> & <dbl>\\\\\n",
       "\\hline\n",
       "\t -0.870153 & 0.2038 & 0.0112 & 1.660033 & 0.0482 & 0.6502\\\\\n",
       "\\end{tabular}\n",
       "\n",
       "\\item[\\$result.5] NULL\n",
       "\\end{description}\n"
      ],
      "text/markdown": [
       "$result.1\n",
       ":   NULL\n",
       "$result.2\n",
       ":   NULL\n",
       "$result.3\n",
       ":   NULL\n",
       "$result.4\n",
       ":   \n",
       "A data.frame: 1 × 6\n",
       "\n",
       "| m1 &lt;dbl&gt; | PET0 &lt;dbl&gt; | PET1 &lt;dbl&gt; | m2 &lt;dbl&gt; | alpha &lt;dbl&gt; | Power &lt;dbl&gt; |\n",
       "|---|---|---|---|---|---|\n",
       "| -0.870153 | 0.2038 | 0.0112 | 1.660033 | 0.0482 | 0.6502 |\n",
       "\n",
       "\n",
       "$result.5\n",
       ":   NULL\n",
       "\n",
       "\n"
      ],
      "text/plain": [
       "$result.1\n",
       "NULL\n",
       "\n",
       "$result.2\n",
       "NULL\n",
       "\n",
       "$result.3\n",
       "NULL\n",
       "\n",
       "$result.4\n",
       "         m1   PET0   PET1       m2  alpha  Power\n",
       "1 -0.870153 0.2038 0.0112 1.660033 0.0482 0.6502\n",
       "\n",
       "$result.5\n",
       "NULL\n"
      ]
     },
     "metadata": {},
     "output_type": "display_data"
    }
   ],
   "source": [
    "best_result[3,]"
   ]
  },
  {
   "cell_type": "code",
   "execution_count": null,
   "metadata": {
    "vscode": {
     "languageId": "r"
    }
   },
   "outputs": [],
   "source": []
  }
 ],
 "metadata": {
  "kernelspec": {
   "display_name": "R",
   "language": "R",
   "name": "ir"
  },
  "language_info": {
   "codemirror_mode": "r",
   "file_extension": ".r",
   "mimetype": "text/x-r-source",
   "name": "R",
   "pygments_lexer": "r",
   "version": "4.4.1"
  }
 },
 "nbformat": 4,
 "nbformat_minor": 2
}
