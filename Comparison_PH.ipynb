{
 "cells": [
  {
   "cell_type": "code",
   "execution_count": 2,
   "metadata": {
    "vscode": {
     "languageId": "r"
    }
   },
   "outputs": [],
   "source": [
    "if (!require(survRM2)) install.packages('survRM2')\n",
    "library('survRM2') \n",
    "if (!require(mvtnorm)) install.packages('mvtnorm')\n",
    "library('mvtnorm')\n",
    "if (!require(survival)) install.packages('survival')\n",
    "library('survival')\n",
    "if (!require(nph)) install.packages('nph')\n",
    "library('nph')\n",
    "if (!require(foreach)) install.packages(\"foreach\")\n",
    "library('foreach') \n",
    "if (!require(doParallel)) install.packages(\"doParallel\")\n",
    "library('doParallel')\n",
    "if (!require(ggplot2)) install.packages(\"ggplot2\")\n",
    "library('ggplot2')\n",
    "if (!require(cowplot)) install.packages(\"cowplot\")\n",
    "library('cowplot')\n",
    "library('IRdisplay')\n",
    "\n",
    "n_cores <- detectCores()\n",
    "cluster <- makeCluster(16) # How many cores we use\n",
    "registerDoParallel(cluster)\n",
    "# multi thread\n",
    "invisible(clusterEvalQ(cluster, #import packages to parallel \n",
    "  {\n",
    "  library('survRM2')\n",
    "  library('mvtnorm')\n",
    "  library('survival')\n",
    "  library('nph')\n",
    "  library(\"simtrial\")\n",
    "  library(\"foreach\")\n",
    "  }))\n",
    "\n",
    "source('/home/r27user6/RMST_Code/Function.R')\n",
    "clusterExport(cluster, \"expo_gen_2stages\")"
   ]
  },
  {
   "cell_type": "markdown",
   "metadata": {},
   "source": [
    "# 3 Methods Comparison Under Proportional Hazard\n",
    "#### Rejection region of overall:\n",
    "### 1. Log rank test\n",
    "#### $\\textcolor{lightgreen}{\\frac{W_1}{\\sigma_1}>c_1\\ \\&\\ \\frac{W}{\\sigma}>c}$\n",
    "### 2. Simple RMST Difference\n",
    "#### $ \\textcolor{lightgreen}{E(\\tau_1) - C(\\tau_1) > m_1\\ \\&\\  E(\\tau_2)-C(\\tau_2)>m_2 }$\n",
    "### 3. Our RMST Rejection method\n",
    "#### $ \\textcolor{lightgreen}{E(\\tau_1)-C(\\tau_1)>m_1\\ \\&\\  E(\\tau_1)>t_1\\ \\&\\  E(\\tau_2)-C(\\tau_2)>m_2\\ \\&\\  E(\\tau_2)>t_2}$"
   ]
  },
  {
   "cell_type": "code",
   "execution_count": null,
   "metadata": {
    "vscode": {
     "languageId": "r"
    }
   },
   "outputs": [],
   "source": []
  }
 ],
 "metadata": {
  "kernelspec": {
   "display_name": "R",
   "language": "R",
   "name": "ir"
  },
  "language_info": {
   "codemirror_mode": "r",
   "file_extension": ".r",
   "mimetype": "text/x-r-source",
   "name": "R",
   "pygments_lexer": "r",
   "version": "4.4.1"
  }
 },
 "nbformat": 4,
 "nbformat_minor": 2
}
