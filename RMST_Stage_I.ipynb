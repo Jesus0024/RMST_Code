{
 "cells": [
  {
   "cell_type": "code",
   "execution_count": 2,
   "metadata": {
    "dotnet_interactive": {
     "language": "csharp"
    },
    "polyglot_notebook": {
     "kernelName": "csharp"
    },
    "vscode": {
     "languageId": "r"
    }
   },
   "outputs": [],
   "source": [
    "if (!require(survRM2)) install.packages('survRM2') # nolint\n",
    "library('survRM2') # nolint\n",
    "if (!require(mvtnorm)) install.packages('mvtnorm') # nolint\n",
    "library('mvtnorm')\n",
    "if (!require(survival)) install.packages('survival')\n",
    "library('survival')\n",
    "if (!require(nph)) install.packages('nph')\n",
    "library('nph')\n",
    "if (!require(foreach)) install.packages(\"foreach\")\n",
    "library('foreach')\n",
    "if (!require(doParallel)) install.packages(\"doParallel\")\n",
    "library('doParallel')\n",
    "if (!require(ggplot2)) install.packages(\"ggplot2\")\n",
    "library('ggplot2')\n",
    "if (!require(cowplot)) install.packages(\"cowplot\")\n",
    "library('cowplot') # nolint"
   ]
  },
  {
   "cell_type": "code",
   "execution_count": 4,
   "metadata": {
    "dotnet_interactive": {
     "language": "csharp"
    },
    "polyglot_notebook": {
     "kernelName": "csharp"
    },
    "vscode": {
     "languageId": "r"
    }
   },
   "outputs": [
    {
     "data": {
      "text/html": [
       "128"
      ],
      "text/latex": [
       "128"
      ],
      "text/markdown": [
       "128"
      ],
      "text/plain": [
       "[1] 128"
      ]
     },
     "metadata": {},
     "output_type": "display_data"
    },
    {
     "data": {
      "text/html": [
       "<ol>\n",
       "\t<li><style>\n",
       ".list-inline {list-style: none; margin:0; padding: 0}\n",
       ".list-inline>li {display: inline-block}\n",
       ".list-inline>li:not(:last-child)::after {content: \"\\00b7\"; padding: 0 .5ex}\n",
       "</style>\n",
       "<ol class=list-inline><li>'nph'</li><li>'mvtnorm'</li><li>'survRM2'</li><li>'survival'</li><li>'stats'</li><li>'graphics'</li><li>'grDevices'</li><li>'utils'</li><li>'datasets'</li><li>'methods'</li><li>'base'</li></ol>\n",
       "</li>\n",
       "\t<li><style>\n",
       ".list-inline {list-style: none; margin:0; padding: 0}\n",
       ".list-inline>li {display: inline-block}\n",
       ".list-inline>li:not(:last-child)::after {content: \"\\00b7\"; padding: 0 .5ex}\n",
       "</style>\n",
       "<ol class=list-inline><li>'nph'</li><li>'mvtnorm'</li><li>'survRM2'</li><li>'survival'</li><li>'stats'</li><li>'graphics'</li><li>'grDevices'</li><li>'utils'</li><li>'datasets'</li><li>'methods'</li><li>'base'</li></ol>\n",
       "</li>\n",
       "\t<li><style>\n",
       ".list-inline {list-style: none; margin:0; padding: 0}\n",
       ".list-inline>li {display: inline-block}\n",
       ".list-inline>li:not(:last-child)::after {content: \"\\00b7\"; padding: 0 .5ex}\n",
       "</style>\n",
       "<ol class=list-inline><li>'nph'</li><li>'mvtnorm'</li><li>'survRM2'</li><li>'survival'</li><li>'stats'</li><li>'graphics'</li><li>'grDevices'</li><li>'utils'</li><li>'datasets'</li><li>'methods'</li><li>'base'</li></ol>\n",
       "</li>\n",
       "\t<li><style>\n",
       ".list-inline {list-style: none; margin:0; padding: 0}\n",
       ".list-inline>li {display: inline-block}\n",
       ".list-inline>li:not(:last-child)::after {content: \"\\00b7\"; padding: 0 .5ex}\n",
       "</style>\n",
       "<ol class=list-inline><li>'nph'</li><li>'mvtnorm'</li><li>'survRM2'</li><li>'survival'</li><li>'stats'</li><li>'graphics'</li><li>'grDevices'</li><li>'utils'</li><li>'datasets'</li><li>'methods'</li><li>'base'</li></ol>\n",
       "</li>\n",
       "\t<li><style>\n",
       ".list-inline {list-style: none; margin:0; padding: 0}\n",
       ".list-inline>li {display: inline-block}\n",
       ".list-inline>li:not(:last-child)::after {content: \"\\00b7\"; padding: 0 .5ex}\n",
       "</style>\n",
       "<ol class=list-inline><li>'nph'</li><li>'mvtnorm'</li><li>'survRM2'</li><li>'survival'</li><li>'stats'</li><li>'graphics'</li><li>'grDevices'</li><li>'utils'</li><li>'datasets'</li><li>'methods'</li><li>'base'</li></ol>\n",
       "</li>\n",
       "\t<li><style>\n",
       ".list-inline {list-style: none; margin:0; padding: 0}\n",
       ".list-inline>li {display: inline-block}\n",
       ".list-inline>li:not(:last-child)::after {content: \"\\00b7\"; padding: 0 .5ex}\n",
       "</style>\n",
       "<ol class=list-inline><li>'nph'</li><li>'mvtnorm'</li><li>'survRM2'</li><li>'survival'</li><li>'stats'</li><li>'graphics'</li><li>'grDevices'</li><li>'utils'</li><li>'datasets'</li><li>'methods'</li><li>'base'</li></ol>\n",
       "</li>\n",
       "\t<li><style>\n",
       ".list-inline {list-style: none; margin:0; padding: 0}\n",
       ".list-inline>li {display: inline-block}\n",
       ".list-inline>li:not(:last-child)::after {content: \"\\00b7\"; padding: 0 .5ex}\n",
       "</style>\n",
       "<ol class=list-inline><li>'nph'</li><li>'mvtnorm'</li><li>'survRM2'</li><li>'survival'</li><li>'stats'</li><li>'graphics'</li><li>'grDevices'</li><li>'utils'</li><li>'datasets'</li><li>'methods'</li><li>'base'</li></ol>\n",
       "</li>\n",
       "\t<li><style>\n",
       ".list-inline {list-style: none; margin:0; padding: 0}\n",
       ".list-inline>li {display: inline-block}\n",
       ".list-inline>li:not(:last-child)::after {content: \"\\00b7\"; padding: 0 .5ex}\n",
       "</style>\n",
       "<ol class=list-inline><li>'nph'</li><li>'mvtnorm'</li><li>'survRM2'</li><li>'survival'</li><li>'stats'</li><li>'graphics'</li><li>'grDevices'</li><li>'utils'</li><li>'datasets'</li><li>'methods'</li><li>'base'</li></ol>\n",
       "</li>\n",
       "\t<li><style>\n",
       ".list-inline {list-style: none; margin:0; padding: 0}\n",
       ".list-inline>li {display: inline-block}\n",
       ".list-inline>li:not(:last-child)::after {content: \"\\00b7\"; padding: 0 .5ex}\n",
       "</style>\n",
       "<ol class=list-inline><li>'nph'</li><li>'mvtnorm'</li><li>'survRM2'</li><li>'survival'</li><li>'stats'</li><li>'graphics'</li><li>'grDevices'</li><li>'utils'</li><li>'datasets'</li><li>'methods'</li><li>'base'</li></ol>\n",
       "</li>\n",
       "\t<li><style>\n",
       ".list-inline {list-style: none; margin:0; padding: 0}\n",
       ".list-inline>li {display: inline-block}\n",
       ".list-inline>li:not(:last-child)::after {content: \"\\00b7\"; padding: 0 .5ex}\n",
       "</style>\n",
       "<ol class=list-inline><li>'nph'</li><li>'mvtnorm'</li><li>'survRM2'</li><li>'survival'</li><li>'stats'</li><li>'graphics'</li><li>'grDevices'</li><li>'utils'</li><li>'datasets'</li><li>'methods'</li><li>'base'</li></ol>\n",
       "</li>\n",
       "\t<li><style>\n",
       ".list-inline {list-style: none; margin:0; padding: 0}\n",
       ".list-inline>li {display: inline-block}\n",
       ".list-inline>li:not(:last-child)::after {content: \"\\00b7\"; padding: 0 .5ex}\n",
       "</style>\n",
       "<ol class=list-inline><li>'nph'</li><li>'mvtnorm'</li><li>'survRM2'</li><li>'survival'</li><li>'stats'</li><li>'graphics'</li><li>'grDevices'</li><li>'utils'</li><li>'datasets'</li><li>'methods'</li><li>'base'</li></ol>\n",
       "</li>\n",
       "\t<li><style>\n",
       ".list-inline {list-style: none; margin:0; padding: 0}\n",
       ".list-inline>li {display: inline-block}\n",
       ".list-inline>li:not(:last-child)::after {content: \"\\00b7\"; padding: 0 .5ex}\n",
       "</style>\n",
       "<ol class=list-inline><li>'nph'</li><li>'mvtnorm'</li><li>'survRM2'</li><li>'survival'</li><li>'stats'</li><li>'graphics'</li><li>'grDevices'</li><li>'utils'</li><li>'datasets'</li><li>'methods'</li><li>'base'</li></ol>\n",
       "</li>\n",
       "\t<li><style>\n",
       ".list-inline {list-style: none; margin:0; padding: 0}\n",
       ".list-inline>li {display: inline-block}\n",
       ".list-inline>li:not(:last-child)::after {content: \"\\00b7\"; padding: 0 .5ex}\n",
       "</style>\n",
       "<ol class=list-inline><li>'nph'</li><li>'mvtnorm'</li><li>'survRM2'</li><li>'survival'</li><li>'stats'</li><li>'graphics'</li><li>'grDevices'</li><li>'utils'</li><li>'datasets'</li><li>'methods'</li><li>'base'</li></ol>\n",
       "</li>\n",
       "\t<li><style>\n",
       ".list-inline {list-style: none; margin:0; padding: 0}\n",
       ".list-inline>li {display: inline-block}\n",
       ".list-inline>li:not(:last-child)::after {content: \"\\00b7\"; padding: 0 .5ex}\n",
       "</style>\n",
       "<ol class=list-inline><li>'nph'</li><li>'mvtnorm'</li><li>'survRM2'</li><li>'survival'</li><li>'stats'</li><li>'graphics'</li><li>'grDevices'</li><li>'utils'</li><li>'datasets'</li><li>'methods'</li><li>'base'</li></ol>\n",
       "</li>\n",
       "\t<li><style>\n",
       ".list-inline {list-style: none; margin:0; padding: 0}\n",
       ".list-inline>li {display: inline-block}\n",
       ".list-inline>li:not(:last-child)::after {content: \"\\00b7\"; padding: 0 .5ex}\n",
       "</style>\n",
       "<ol class=list-inline><li>'nph'</li><li>'mvtnorm'</li><li>'survRM2'</li><li>'survival'</li><li>'stats'</li><li>'graphics'</li><li>'grDevices'</li><li>'utils'</li><li>'datasets'</li><li>'methods'</li><li>'base'</li></ol>\n",
       "</li>\n",
       "\t<li><style>\n",
       ".list-inline {list-style: none; margin:0; padding: 0}\n",
       ".list-inline>li {display: inline-block}\n",
       ".list-inline>li:not(:last-child)::after {content: \"\\00b7\"; padding: 0 .5ex}\n",
       "</style>\n",
       "<ol class=list-inline><li>'nph'</li><li>'mvtnorm'</li><li>'survRM2'</li><li>'survival'</li><li>'stats'</li><li>'graphics'</li><li>'grDevices'</li><li>'utils'</li><li>'datasets'</li><li>'methods'</li><li>'base'</li></ol>\n",
       "</li>\n",
       "</ol>\n"
      ],
      "text/latex": [
       "\\begin{enumerate}\n",
       "\\item \\begin{enumerate*}\n",
       "\\item 'nph'\n",
       "\\item 'mvtnorm'\n",
       "\\item 'survRM2'\n",
       "\\item 'survival'\n",
       "\\item 'stats'\n",
       "\\item 'graphics'\n",
       "\\item 'grDevices'\n",
       "\\item 'utils'\n",
       "\\item 'datasets'\n",
       "\\item 'methods'\n",
       "\\item 'base'\n",
       "\\end{enumerate*}\n",
       "\n",
       "\\item \\begin{enumerate*}\n",
       "\\item 'nph'\n",
       "\\item 'mvtnorm'\n",
       "\\item 'survRM2'\n",
       "\\item 'survival'\n",
       "\\item 'stats'\n",
       "\\item 'graphics'\n",
       "\\item 'grDevices'\n",
       "\\item 'utils'\n",
       "\\item 'datasets'\n",
       "\\item 'methods'\n",
       "\\item 'base'\n",
       "\\end{enumerate*}\n",
       "\n",
       "\\item \\begin{enumerate*}\n",
       "\\item 'nph'\n",
       "\\item 'mvtnorm'\n",
       "\\item 'survRM2'\n",
       "\\item 'survival'\n",
       "\\item 'stats'\n",
       "\\item 'graphics'\n",
       "\\item 'grDevices'\n",
       "\\item 'utils'\n",
       "\\item 'datasets'\n",
       "\\item 'methods'\n",
       "\\item 'base'\n",
       "\\end{enumerate*}\n",
       "\n",
       "\\item \\begin{enumerate*}\n",
       "\\item 'nph'\n",
       "\\item 'mvtnorm'\n",
       "\\item 'survRM2'\n",
       "\\item 'survival'\n",
       "\\item 'stats'\n",
       "\\item 'graphics'\n",
       "\\item 'grDevices'\n",
       "\\item 'utils'\n",
       "\\item 'datasets'\n",
       "\\item 'methods'\n",
       "\\item 'base'\n",
       "\\end{enumerate*}\n",
       "\n",
       "\\item \\begin{enumerate*}\n",
       "\\item 'nph'\n",
       "\\item 'mvtnorm'\n",
       "\\item 'survRM2'\n",
       "\\item 'survival'\n",
       "\\item 'stats'\n",
       "\\item 'graphics'\n",
       "\\item 'grDevices'\n",
       "\\item 'utils'\n",
       "\\item 'datasets'\n",
       "\\item 'methods'\n",
       "\\item 'base'\n",
       "\\end{enumerate*}\n",
       "\n",
       "\\item \\begin{enumerate*}\n",
       "\\item 'nph'\n",
       "\\item 'mvtnorm'\n",
       "\\item 'survRM2'\n",
       "\\item 'survival'\n",
       "\\item 'stats'\n",
       "\\item 'graphics'\n",
       "\\item 'grDevices'\n",
       "\\item 'utils'\n",
       "\\item 'datasets'\n",
       "\\item 'methods'\n",
       "\\item 'base'\n",
       "\\end{enumerate*}\n",
       "\n",
       "\\item \\begin{enumerate*}\n",
       "\\item 'nph'\n",
       "\\item 'mvtnorm'\n",
       "\\item 'survRM2'\n",
       "\\item 'survival'\n",
       "\\item 'stats'\n",
       "\\item 'graphics'\n",
       "\\item 'grDevices'\n",
       "\\item 'utils'\n",
       "\\item 'datasets'\n",
       "\\item 'methods'\n",
       "\\item 'base'\n",
       "\\end{enumerate*}\n",
       "\n",
       "\\item \\begin{enumerate*}\n",
       "\\item 'nph'\n",
       "\\item 'mvtnorm'\n",
       "\\item 'survRM2'\n",
       "\\item 'survival'\n",
       "\\item 'stats'\n",
       "\\item 'graphics'\n",
       "\\item 'grDevices'\n",
       "\\item 'utils'\n",
       "\\item 'datasets'\n",
       "\\item 'methods'\n",
       "\\item 'base'\n",
       "\\end{enumerate*}\n",
       "\n",
       "\\item \\begin{enumerate*}\n",
       "\\item 'nph'\n",
       "\\item 'mvtnorm'\n",
       "\\item 'survRM2'\n",
       "\\item 'survival'\n",
       "\\item 'stats'\n",
       "\\item 'graphics'\n",
       "\\item 'grDevices'\n",
       "\\item 'utils'\n",
       "\\item 'datasets'\n",
       "\\item 'methods'\n",
       "\\item 'base'\n",
       "\\end{enumerate*}\n",
       "\n",
       "\\item \\begin{enumerate*}\n",
       "\\item 'nph'\n",
       "\\item 'mvtnorm'\n",
       "\\item 'survRM2'\n",
       "\\item 'survival'\n",
       "\\item 'stats'\n",
       "\\item 'graphics'\n",
       "\\item 'grDevices'\n",
       "\\item 'utils'\n",
       "\\item 'datasets'\n",
       "\\item 'methods'\n",
       "\\item 'base'\n",
       "\\end{enumerate*}\n",
       "\n",
       "\\item \\begin{enumerate*}\n",
       "\\item 'nph'\n",
       "\\item 'mvtnorm'\n",
       "\\item 'survRM2'\n",
       "\\item 'survival'\n",
       "\\item 'stats'\n",
       "\\item 'graphics'\n",
       "\\item 'grDevices'\n",
       "\\item 'utils'\n",
       "\\item 'datasets'\n",
       "\\item 'methods'\n",
       "\\item 'base'\n",
       "\\end{enumerate*}\n",
       "\n",
       "\\item \\begin{enumerate*}\n",
       "\\item 'nph'\n",
       "\\item 'mvtnorm'\n",
       "\\item 'survRM2'\n",
       "\\item 'survival'\n",
       "\\item 'stats'\n",
       "\\item 'graphics'\n",
       "\\item 'grDevices'\n",
       "\\item 'utils'\n",
       "\\item 'datasets'\n",
       "\\item 'methods'\n",
       "\\item 'base'\n",
       "\\end{enumerate*}\n",
       "\n",
       "\\item \\begin{enumerate*}\n",
       "\\item 'nph'\n",
       "\\item 'mvtnorm'\n",
       "\\item 'survRM2'\n",
       "\\item 'survival'\n",
       "\\item 'stats'\n",
       "\\item 'graphics'\n",
       "\\item 'grDevices'\n",
       "\\item 'utils'\n",
       "\\item 'datasets'\n",
       "\\item 'methods'\n",
       "\\item 'base'\n",
       "\\end{enumerate*}\n",
       "\n",
       "\\item \\begin{enumerate*}\n",
       "\\item 'nph'\n",
       "\\item 'mvtnorm'\n",
       "\\item 'survRM2'\n",
       "\\item 'survival'\n",
       "\\item 'stats'\n",
       "\\item 'graphics'\n",
       "\\item 'grDevices'\n",
       "\\item 'utils'\n",
       "\\item 'datasets'\n",
       "\\item 'methods'\n",
       "\\item 'base'\n",
       "\\end{enumerate*}\n",
       "\n",
       "\\item \\begin{enumerate*}\n",
       "\\item 'nph'\n",
       "\\item 'mvtnorm'\n",
       "\\item 'survRM2'\n",
       "\\item 'survival'\n",
       "\\item 'stats'\n",
       "\\item 'graphics'\n",
       "\\item 'grDevices'\n",
       "\\item 'utils'\n",
       "\\item 'datasets'\n",
       "\\item 'methods'\n",
       "\\item 'base'\n",
       "\\end{enumerate*}\n",
       "\n",
       "\\item \\begin{enumerate*}\n",
       "\\item 'nph'\n",
       "\\item 'mvtnorm'\n",
       "\\item 'survRM2'\n",
       "\\item 'survival'\n",
       "\\item 'stats'\n",
       "\\item 'graphics'\n",
       "\\item 'grDevices'\n",
       "\\item 'utils'\n",
       "\\item 'datasets'\n",
       "\\item 'methods'\n",
       "\\item 'base'\n",
       "\\end{enumerate*}\n",
       "\n",
       "\\end{enumerate}\n"
      ],
      "text/markdown": [
       "1. 1. 'nph'\n",
       "2. 'mvtnorm'\n",
       "3. 'survRM2'\n",
       "4. 'survival'\n",
       "5. 'stats'\n",
       "6. 'graphics'\n",
       "7. 'grDevices'\n",
       "8. 'utils'\n",
       "9. 'datasets'\n",
       "10. 'methods'\n",
       "11. 'base'\n",
       "\n",
       "\n",
       "\n",
       "2. 1. 'nph'\n",
       "2. 'mvtnorm'\n",
       "3. 'survRM2'\n",
       "4. 'survival'\n",
       "5. 'stats'\n",
       "6. 'graphics'\n",
       "7. 'grDevices'\n",
       "8. 'utils'\n",
       "9. 'datasets'\n",
       "10. 'methods'\n",
       "11. 'base'\n",
       "\n",
       "\n",
       "\n",
       "3. 1. 'nph'\n",
       "2. 'mvtnorm'\n",
       "3. 'survRM2'\n",
       "4. 'survival'\n",
       "5. 'stats'\n",
       "6. 'graphics'\n",
       "7. 'grDevices'\n",
       "8. 'utils'\n",
       "9. 'datasets'\n",
       "10. 'methods'\n",
       "11. 'base'\n",
       "\n",
       "\n",
       "\n",
       "4. 1. 'nph'\n",
       "2. 'mvtnorm'\n",
       "3. 'survRM2'\n",
       "4. 'survival'\n",
       "5. 'stats'\n",
       "6. 'graphics'\n",
       "7. 'grDevices'\n",
       "8. 'utils'\n",
       "9. 'datasets'\n",
       "10. 'methods'\n",
       "11. 'base'\n",
       "\n",
       "\n",
       "\n",
       "5. 1. 'nph'\n",
       "2. 'mvtnorm'\n",
       "3. 'survRM2'\n",
       "4. 'survival'\n",
       "5. 'stats'\n",
       "6. 'graphics'\n",
       "7. 'grDevices'\n",
       "8. 'utils'\n",
       "9. 'datasets'\n",
       "10. 'methods'\n",
       "11. 'base'\n",
       "\n",
       "\n",
       "\n",
       "6. 1. 'nph'\n",
       "2. 'mvtnorm'\n",
       "3. 'survRM2'\n",
       "4. 'survival'\n",
       "5. 'stats'\n",
       "6. 'graphics'\n",
       "7. 'grDevices'\n",
       "8. 'utils'\n",
       "9. 'datasets'\n",
       "10. 'methods'\n",
       "11. 'base'\n",
       "\n",
       "\n",
       "\n",
       "7. 1. 'nph'\n",
       "2. 'mvtnorm'\n",
       "3. 'survRM2'\n",
       "4. 'survival'\n",
       "5. 'stats'\n",
       "6. 'graphics'\n",
       "7. 'grDevices'\n",
       "8. 'utils'\n",
       "9. 'datasets'\n",
       "10. 'methods'\n",
       "11. 'base'\n",
       "\n",
       "\n",
       "\n",
       "8. 1. 'nph'\n",
       "2. 'mvtnorm'\n",
       "3. 'survRM2'\n",
       "4. 'survival'\n",
       "5. 'stats'\n",
       "6. 'graphics'\n",
       "7. 'grDevices'\n",
       "8. 'utils'\n",
       "9. 'datasets'\n",
       "10. 'methods'\n",
       "11. 'base'\n",
       "\n",
       "\n",
       "\n",
       "9. 1. 'nph'\n",
       "2. 'mvtnorm'\n",
       "3. 'survRM2'\n",
       "4. 'survival'\n",
       "5. 'stats'\n",
       "6. 'graphics'\n",
       "7. 'grDevices'\n",
       "8. 'utils'\n",
       "9. 'datasets'\n",
       "10. 'methods'\n",
       "11. 'base'\n",
       "\n",
       "\n",
       "\n",
       "10. 1. 'nph'\n",
       "2. 'mvtnorm'\n",
       "3. 'survRM2'\n",
       "4. 'survival'\n",
       "5. 'stats'\n",
       "6. 'graphics'\n",
       "7. 'grDevices'\n",
       "8. 'utils'\n",
       "9. 'datasets'\n",
       "10. 'methods'\n",
       "11. 'base'\n",
       "\n",
       "\n",
       "\n",
       "11. 1. 'nph'\n",
       "2. 'mvtnorm'\n",
       "3. 'survRM2'\n",
       "4. 'survival'\n",
       "5. 'stats'\n",
       "6. 'graphics'\n",
       "7. 'grDevices'\n",
       "8. 'utils'\n",
       "9. 'datasets'\n",
       "10. 'methods'\n",
       "11. 'base'\n",
       "\n",
       "\n",
       "\n",
       "12. 1. 'nph'\n",
       "2. 'mvtnorm'\n",
       "3. 'survRM2'\n",
       "4. 'survival'\n",
       "5. 'stats'\n",
       "6. 'graphics'\n",
       "7. 'grDevices'\n",
       "8. 'utils'\n",
       "9. 'datasets'\n",
       "10. 'methods'\n",
       "11. 'base'\n",
       "\n",
       "\n",
       "\n",
       "13. 1. 'nph'\n",
       "2. 'mvtnorm'\n",
       "3. 'survRM2'\n",
       "4. 'survival'\n",
       "5. 'stats'\n",
       "6. 'graphics'\n",
       "7. 'grDevices'\n",
       "8. 'utils'\n",
       "9. 'datasets'\n",
       "10. 'methods'\n",
       "11. 'base'\n",
       "\n",
       "\n",
       "\n",
       "14. 1. 'nph'\n",
       "2. 'mvtnorm'\n",
       "3. 'survRM2'\n",
       "4. 'survival'\n",
       "5. 'stats'\n",
       "6. 'graphics'\n",
       "7. 'grDevices'\n",
       "8. 'utils'\n",
       "9. 'datasets'\n",
       "10. 'methods'\n",
       "11. 'base'\n",
       "\n",
       "\n",
       "\n",
       "15. 1. 'nph'\n",
       "2. 'mvtnorm'\n",
       "3. 'survRM2'\n",
       "4. 'survival'\n",
       "5. 'stats'\n",
       "6. 'graphics'\n",
       "7. 'grDevices'\n",
       "8. 'utils'\n",
       "9. 'datasets'\n",
       "10. 'methods'\n",
       "11. 'base'\n",
       "\n",
       "\n",
       "\n",
       "16. 1. 'nph'\n",
       "2. 'mvtnorm'\n",
       "3. 'survRM2'\n",
       "4. 'survival'\n",
       "5. 'stats'\n",
       "6. 'graphics'\n",
       "7. 'grDevices'\n",
       "8. 'utils'\n",
       "9. 'datasets'\n",
       "10. 'methods'\n",
       "11. 'base'\n",
       "\n",
       "\n",
       "\n",
       "\n",
       "\n"
      ],
      "text/plain": [
       "[[1]]\n",
       " [1] \"nph\"       \"mvtnorm\"   \"survRM2\"   \"survival\"  \"stats\"     \"graphics\" \n",
       " [7] \"grDevices\" \"utils\"     \"datasets\"  \"methods\"   \"base\"     \n",
       "\n",
       "[[2]]\n",
       " [1] \"nph\"       \"mvtnorm\"   \"survRM2\"   \"survival\"  \"stats\"     \"graphics\" \n",
       " [7] \"grDevices\" \"utils\"     \"datasets\"  \"methods\"   \"base\"     \n",
       "\n",
       "[[3]]\n",
       " [1] \"nph\"       \"mvtnorm\"   \"survRM2\"   \"survival\"  \"stats\"     \"graphics\" \n",
       " [7] \"grDevices\" \"utils\"     \"datasets\"  \"methods\"   \"base\"     \n",
       "\n",
       "[[4]]\n",
       " [1] \"nph\"       \"mvtnorm\"   \"survRM2\"   \"survival\"  \"stats\"     \"graphics\" \n",
       " [7] \"grDevices\" \"utils\"     \"datasets\"  \"methods\"   \"base\"     \n",
       "\n",
       "[[5]]\n",
       " [1] \"nph\"       \"mvtnorm\"   \"survRM2\"   \"survival\"  \"stats\"     \"graphics\" \n",
       " [7] \"grDevices\" \"utils\"     \"datasets\"  \"methods\"   \"base\"     \n",
       "\n",
       "[[6]]\n",
       " [1] \"nph\"       \"mvtnorm\"   \"survRM2\"   \"survival\"  \"stats\"     \"graphics\" \n",
       " [7] \"grDevices\" \"utils\"     \"datasets\"  \"methods\"   \"base\"     \n",
       "\n",
       "[[7]]\n",
       " [1] \"nph\"       \"mvtnorm\"   \"survRM2\"   \"survival\"  \"stats\"     \"graphics\" \n",
       " [7] \"grDevices\" \"utils\"     \"datasets\"  \"methods\"   \"base\"     \n",
       "\n",
       "[[8]]\n",
       " [1] \"nph\"       \"mvtnorm\"   \"survRM2\"   \"survival\"  \"stats\"     \"graphics\" \n",
       " [7] \"grDevices\" \"utils\"     \"datasets\"  \"methods\"   \"base\"     \n",
       "\n",
       "[[9]]\n",
       " [1] \"nph\"       \"mvtnorm\"   \"survRM2\"   \"survival\"  \"stats\"     \"graphics\" \n",
       " [7] \"grDevices\" \"utils\"     \"datasets\"  \"methods\"   \"base\"     \n",
       "\n",
       "[[10]]\n",
       " [1] \"nph\"       \"mvtnorm\"   \"survRM2\"   \"survival\"  \"stats\"     \"graphics\" \n",
       " [7] \"grDevices\" \"utils\"     \"datasets\"  \"methods\"   \"base\"     \n",
       "\n",
       "[[11]]\n",
       " [1] \"nph\"       \"mvtnorm\"   \"survRM2\"   \"survival\"  \"stats\"     \"graphics\" \n",
       " [7] \"grDevices\" \"utils\"     \"datasets\"  \"methods\"   \"base\"     \n",
       "\n",
       "[[12]]\n",
       " [1] \"nph\"       \"mvtnorm\"   \"survRM2\"   \"survival\"  \"stats\"     \"graphics\" \n",
       " [7] \"grDevices\" \"utils\"     \"datasets\"  \"methods\"   \"base\"     \n",
       "\n",
       "[[13]]\n",
       " [1] \"nph\"       \"mvtnorm\"   \"survRM2\"   \"survival\"  \"stats\"     \"graphics\" \n",
       " [7] \"grDevices\" \"utils\"     \"datasets\"  \"methods\"   \"base\"     \n",
       "\n",
       "[[14]]\n",
       " [1] \"nph\"       \"mvtnorm\"   \"survRM2\"   \"survival\"  \"stats\"     \"graphics\" \n",
       " [7] \"grDevices\" \"utils\"     \"datasets\"  \"methods\"   \"base\"     \n",
       "\n",
       "[[15]]\n",
       " [1] \"nph\"       \"mvtnorm\"   \"survRM2\"   \"survival\"  \"stats\"     \"graphics\" \n",
       " [7] \"grDevices\" \"utils\"     \"datasets\"  \"methods\"   \"base\"     \n",
       "\n",
       "[[16]]\n",
       " [1] \"nph\"       \"mvtnorm\"   \"survRM2\"   \"survival\"  \"stats\"     \"graphics\" \n",
       " [7] \"grDevices\" \"utils\"     \"datasets\"  \"methods\"   \"base\"     \n"
      ]
     },
     "metadata": {},
     "output_type": "display_data"
    }
   ],
   "source": [
    "n_cores <- detectCores()\n",
    "n_cores\n",
    "cluster <- makeCluster(16) \n",
    "registerDoParallel(cluster)\n",
    "# multi thread\n",
    "clusterEvalQ(cluster,\n",
    "  {\n",
    "  library('survRM2')\n",
    "  library('mvtnorm')\n",
    "  library('survival')\n",
    "  library('nph')\n",
    "  })"
   ]
  },
  {
   "cell_type": "code",
   "execution_count": 5,
   "metadata": {
    "dotnet_interactive": {
     "language": "csharp"
    },
    "polyglot_notebook": {
     "kernelName": "csharp"
    },
    "vscode": {
     "languageId": "r"
    }
   },
   "outputs": [],
   "source": [
    "source('/home/r27user6/RMST_Code/Function.R')\n",
    "clusterExport(cluster, \"expo_gen\")"
   ]
  },
  {
   "cell_type": "markdown",
   "metadata": {},
   "source": [
    "# Experiments"
   ]
  },
  {
   "cell_type": "markdown",
   "metadata": {
    "id": "RzXK2j4Wxko-"
   },
   "source": [
    "## Test the simulation time"
   ]
  },
  {
   "cell_type": "code",
   "execution_count": 19,
   "metadata": {
    "dotnet_interactive": {
     "language": "csharp"
    },
    "polyglot_notebook": {
     "kernelName": "csharp"
    },
    "vscode": {
     "languageId": "r"
    }
   },
   "outputs": [
    {
     "data": {
      "text/plain": [
       "   user  system elapsed \n",
       "  1.540   0.200   4.266 "
      ]
     },
     "metadata": {},
     "output_type": "display_data"
    },
    {
     "name": "stdout",
     "output_type": "stream",
     "text": [
      "The number of CPU cores is: 128"
     ]
    },
    {
     "data": {
      "text/html": [
       "<table class=\"dataframe\">\n",
       "<caption>A matrix: 2 × 10000 of type dbl</caption>\n",
       "<thead>\n",
       "\t<tr><th></th><th scope=col>result.1</th><th scope=col>result.2</th><th scope=col>result.3</th><th scope=col>result.4</th><th scope=col>result.5</th><th scope=col>result.6</th><th scope=col>result.7</th><th scope=col>result.8</th><th scope=col>result.9</th><th scope=col>result.10</th><th scope=col>⋯</th><th scope=col>result.9991</th><th scope=col>result.9992</th><th scope=col>result.9993</th><th scope=col>result.9994</th><th scope=col>result.9995</th><th scope=col>result.9996</th><th scope=col>result.9997</th><th scope=col>result.9998</th><th scope=col>result.9999</th><th scope=col>result.10000</th></tr>\n",
       "</thead>\n",
       "<tbody>\n",
       "\t<tr><th scope=row>Est.</th><td>11.98977</td><td>12.63016</td><td>11.55131</td><td>11.57564</td><td>10.73894</td><td>11.46113</td><td>10.94301</td><td>12.28098</td><td>12.60761</td><td>12.07753</td><td>⋯</td><td>11.11695</td><td>11.26235</td><td>11.55545</td><td>12.06182</td><td>11.33173</td><td>10.46052</td><td>11.56933</td><td>11.27868</td><td>10.28490</td><td>11.48207</td></tr>\n",
       "\t<tr><th scope=row>Est.</th><td>14.07420</td><td>15.10010</td><td>15.94941</td><td>15.17315</td><td>13.98012</td><td>14.21043</td><td>14.46474</td><td>13.57096</td><td>14.64042</td><td>13.58081</td><td>⋯</td><td>14.95890</td><td>14.92288</td><td>13.22591</td><td>13.84063</td><td>12.82356</td><td>13.71179</td><td>14.15749</td><td>13.81820</td><td>15.57138</td><td>14.80665</td></tr>\n",
       "</tbody>\n",
       "</table>\n"
      ],
      "text/latex": [
       "A matrix: 2 × 10000 of type dbl\n",
       "\\begin{tabular}{r|lllllllllllllllllllll}\n",
       "  & result.1 & result.2 & result.3 & result.4 & result.5 & result.6 & result.7 & result.8 & result.9 & result.10 & ⋯ & result.9991 & result.9992 & result.9993 & result.9994 & result.9995 & result.9996 & result.9997 & result.9998 & result.9999 & result.10000\\\\\n",
       "\\hline\n",
       "\tEst. & 11.98977 & 12.63016 & 11.55131 & 11.57564 & 10.73894 & 11.46113 & 10.94301 & 12.28098 & 12.60761 & 12.07753 & ⋯ & 11.11695 & 11.26235 & 11.55545 & 12.06182 & 11.33173 & 10.46052 & 11.56933 & 11.27868 & 10.28490 & 11.48207\\\\\n",
       "\tEst. & 14.07420 & 15.10010 & 15.94941 & 15.17315 & 13.98012 & 14.21043 & 14.46474 & 13.57096 & 14.64042 & 13.58081 & ⋯ & 14.95890 & 14.92288 & 13.22591 & 13.84063 & 12.82356 & 13.71179 & 14.15749 & 13.81820 & 15.57138 & 14.80665\\\\\n",
       "\\end{tabular}\n"
      ],
      "text/markdown": [
       "\n",
       "A matrix: 2 × 10000 of type dbl\n",
       "\n",
       "| <!--/--> | result.1 | result.2 | result.3 | result.4 | result.5 | result.6 | result.7 | result.8 | result.9 | result.10 | ⋯ | result.9991 | result.9992 | result.9993 | result.9994 | result.9995 | result.9996 | result.9997 | result.9998 | result.9999 | result.10000 |\n",
       "|---|---|---|---|---|---|---|---|---|---|---|---|---|---|---|---|---|---|---|---|---|---|\n",
       "| Est. | 11.98977 | 12.63016 | 11.55131 | 11.57564 | 10.73894 | 11.46113 | 10.94301 | 12.28098 | 12.60761 | 12.07753 | ⋯ | 11.11695 | 11.26235 | 11.55545 | 12.06182 | 11.33173 | 10.46052 | 11.56933 | 11.27868 | 10.28490 | 11.48207 |\n",
       "| Est. | 14.07420 | 15.10010 | 15.94941 | 15.17315 | 13.98012 | 14.21043 | 14.46474 | 13.57096 | 14.64042 | 13.58081 | ⋯ | 14.95890 | 14.92288 | 13.22591 | 13.84063 | 12.82356 | 13.71179 | 14.15749 | 13.81820 | 15.57138 | 14.80665 |\n",
       "\n"
      ],
      "text/plain": [
       "     result.1 result.2 result.3 result.4 result.5 result.6 result.7 result.8\n",
       "Est. 11.98977 12.63016 11.55131 11.57564 10.73894 11.46113 10.94301 12.28098\n",
       "Est. 14.07420 15.10010 15.94941 15.17315 13.98012 14.21043 14.46474 13.57096\n",
       "     result.9 result.10 ⋯ result.9991 result.9992 result.9993 result.9994\n",
       "Est. 12.60761 12.07753  ⋯ 11.11695    11.26235    11.55545    12.06182   \n",
       "Est. 14.64042 13.58081  ⋯ 14.95890    14.92288    13.22591    13.84063   \n",
       "     result.9995 result.9996 result.9997 result.9998 result.9999 result.10000\n",
       "Est. 11.33173    10.46052    11.56933    11.27868    10.28490    11.48207    \n",
       "Est. 12.82356    13.71179    14.15749    13.81820    15.57138    14.80665    "
      ]
     },
     "metadata": {},
     "output_type": "display_data"
    }
   ],
   "source": [
    "lambda_H0 = log(2)/10\n",
    "lambda_H1 = (log(2)/10) * 0.67\n",
    "acc_time = 24\n",
    "cen_time = 12\n",
    "tau = 24\n",
    "sim_size = 10000\n",
    "n = 100\n",
    "set.seed(2024)\n",
    "\n",
    "data_C <- expo_gen(N = n*sim_size, acc_time = acc_time, lambda = lambda_H0, cen_time = cen_time,arm = 0)\n",
    "data_E <- expo_gen(N = n*sim_size, acc_time = acc_time, lambda = lambda_H1, cen_time = cen_time,arm = 1)\n",
    "\n",
    "system.time(result_test <- RMST_sim_cal(n = n,data_E = data_E, data_C = data_C,tau = tau, sim_size = sim_size))\n",
    "cat('The number of CPU cores is:',n_cores)\n",
    "result_test"
   ]
  },
  {
   "cell_type": "markdown",
   "metadata": {
    "id": "cuuABdvga8c9"
   },
   "source": [
    "## Stage I ( Proportional Hazard Assumption)\n",
    "### According to Jung (2017) double arms 2 stages log rank test (page 642)   \n",
    "###  $H_0 : \\lambda_0 = \\lambda_1 = 1.609$    \n",
    "###  $H_1 : \\lambda_0 = 1.609,\\ \\lambda_1 = 0.916$  \n",
    "### α = 0.1, power = 0.9. Sample size = 102 (51 per arm)   \n",
    "\n",
    "Then we calculate the empirical RMST of $E$, $C$ under $H_1$ to decide the searching region of $m_1, t_1$ and estimate τ  \n",
    "Here I used mean($Sur_C$) + 3 * std($Sur_C$) as estimated τ."
   ]
  },
  {
   "cell_type": "code",
   "execution_count": 20,
   "metadata": {
    "dotnet_interactive": {
     "language": "csharp"
    },
    "polyglot_notebook": {
     "kernelName": "csharp"
    },
    "vscode": {
     "languageId": "r"
    }
   },
   "outputs": [
    {
     "name": "stdout",
     "output_type": "stream",
     "text": [
      "0.5978719 0.9118425 1.97215"
     ]
    }
   ],
   "source": [
    "set.seed(2024)\n",
    "emp_result <- emp_est(acc_time = 1.67,cen_time = 1, lambda_H0 = 1.609, lambda_H1 = 0.916)\n",
    "emp_c <- emp_result[1]\n",
    "emp_e <- emp_result[2]\n",
    "emp_tau <-  emp_result[3]\n",
    "\n",
    "cat(emp_c,emp_e,emp_tau)"
   ]
  },
  {
   "cell_type": "markdown",
   "metadata": {
    "id": "vk-ekZnyGmZh"
   },
   "source": [
    "## We can search for $m_1, t_1$ under a specific $n_1$\n",
    "## Find a suitable critical value to meet $\\alpha = 0.1, power = 0.9$\n"
   ]
  },
  {
   "cell_type": "code",
   "execution_count": 22,
   "metadata": {
    "dotnet_interactive": {
     "language": "csharp"
    },
    "polyglot_notebook": {
     "kernelName": "csharp"
    },
    "vscode": {
     "languageId": "r"
    }
   },
   "outputs": [
    {
     "name": "stdout",
     "output_type": "stream",
     "text": [
      "19.20153"
     ]
    }
   ],
   "source": [
    "result_n1 <- c()\n",
    "mark_c <- c() # store the result of each m1,t1\n",
    "sim_size <- 1000  #simulate 1000 pairs of (E,C) under H0 and H1 respectively. Save time\n",
    "acc_time <- 1.67\n",
    "cen_time <- 1\n",
    "lambda_H0 <- 1.609\n",
    "lambda_H1 <- 0.916\n",
    "set.seed(2024)\n",
    "\n",
    "\n",
    "start_time <- Sys.time() \n",
    "\n",
    "for (n1 in 35:45)  #n1 here is the sample size per arm\n",
    "{\n",
    "  if(length(result_n1) != 0)  # find the minimal n1\n",
    "  {break}\n",
    "  else\n",
    "  {\n",
    "    data_C <- expo_gen(N = n1*sim_size, acc_time = acc_time, lambda = lambda_H0, cen_time = cen_time,arm = 0)\n",
    "    data_E_H0 <- expo_gen(N = n1*sim_size, acc_time = acc_time, lambda = lambda_H0, cen_time = cen_time,arm = 1)\n",
    "    data_E_H1 <- expo_gen(N = n1*sim_size, acc_time = acc_time, lambda = lambda_H1, cen_time = cen_time,arm = 1)\n",
    "    rmst_h0 <- RMST_sim_cal(n = n1,data_E = data_E_H0, data_C = data_C,tau = emp_tau,sim_size = sim_size)\n",
    "    rmst_h1 <- RMST_sim_cal(n = n1,data_E = data_E_H1, data_C = data_C,tau = emp_tau,sim_size = sim_size)\n",
    "\n",
    "    result_n1 <- foreach(i = 1:100, .combine = 'cbind') %dopar% { # step = 1/100\n",
    "        m1 = i * 1/100\n",
    "        for (t1 in seq(from = 0.5, to = 1.5, by = 1/100)) # search 100 times in the interval\n",
    "            {\n",
    "                c0 = 0\n",
    "                c1 = 0\n",
    "                for (k in 1:sim_size)\n",
    "                    {\n",
    "                      if (rmst_h0[2,k] - rmst_h0[1,k] > m1 & rmst_h0[2,k] > t1)\n",
    "                      {c0 = c0 + 1}\n",
    "                      else if (rmst_h1[2,k] - rmst_h1[1,k] > m1 & rmst_h1[2,k] > t1)\n",
    "                      {c1 = c1 + 1}\n",
    "                    }\n",
    "        \n",
    "                if (c0/sim_size > 0 & c0/sim_size < 0.1 & c1/sim_size >= 0.9)\n",
    "                {mark_c <- c(n1,m1,t1,c0/sim_size,c1/sim_size)}\n",
    "          }\n",
    "        mark_c\n",
    "        }\n",
    "  }\n",
    "}\n",
    "\n",
    "end_time <- Sys.time()\n",
    "cat(end_time - start_time)"
   ]
  },
  {
   "cell_type": "code",
   "execution_count": 23,
   "metadata": {
    "dotnet_interactive": {
     "language": "csharp"
    },
    "polyglot_notebook": {
     "kernelName": "csharp"
    },
    "vscode": {
     "languageId": "r"
    }
   },
   "outputs": [
    {
     "data": {
      "text/html": [
       "<table class=\"dataframe\">\n",
       "<caption>A data.frame: 5 × 8</caption>\n",
       "<thead>\n",
       "\t<tr><th></th><th scope=col>result.1</th><th scope=col>result.15</th><th scope=col>result.29</th><th scope=col>result.43</th><th scope=col>result.57</th><th scope=col>result.70</th><th scope=col>result.85</th><th scope=col>result.99</th></tr>\n",
       "\t<tr><th></th><th scope=col>&lt;dbl&gt;</th><th scope=col>&lt;dbl&gt;</th><th scope=col>&lt;dbl&gt;</th><th scope=col>&lt;dbl&gt;</th><th scope=col>&lt;dbl&gt;</th><th scope=col>&lt;dbl&gt;</th><th scope=col>&lt;dbl&gt;</th><th scope=col>&lt;dbl&gt;</th></tr>\n",
       "</thead>\n",
       "<tbody>\n",
       "\t<tr><th scope=row>n1</th><td>40.000</td><td>40.000</td><td>40.000</td><td>40.000</td><td>40.000</td><td>40.000</td><td>40.000</td><td>40.000</td></tr>\n",
       "\t<tr><th scope=row>m1</th><td> 0.010</td><td> 0.010</td><td> 0.010</td><td> 0.010</td><td> 0.010</td><td> 0.010</td><td> 0.010</td><td> 0.010</td></tr>\n",
       "\t<tr><th scope=row>t1</th><td> 0.740</td><td> 0.740</td><td> 0.740</td><td> 0.740</td><td> 0.740</td><td> 0.740</td><td> 0.740</td><td> 0.740</td></tr>\n",
       "\t<tr><th scope=row>alpha</th><td> 0.043</td><td> 0.043</td><td> 0.043</td><td> 0.043</td><td> 0.043</td><td> 0.043</td><td> 0.043</td><td> 0.043</td></tr>\n",
       "\t<tr><th scope=row>power</th><td> 0.900</td><td> 0.900</td><td> 0.900</td><td> 0.900</td><td> 0.900</td><td> 0.900</td><td> 0.900</td><td> 0.900</td></tr>\n",
       "</tbody>\n",
       "</table>\n"
      ],
      "text/latex": [
       "A data.frame: 5 × 8\n",
       "\\begin{tabular}{r|llllllll}\n",
       "  & result.1 & result.15 & result.29 & result.43 & result.57 & result.70 & result.85 & result.99\\\\\n",
       "  & <dbl> & <dbl> & <dbl> & <dbl> & <dbl> & <dbl> & <dbl> & <dbl>\\\\\n",
       "\\hline\n",
       "\tn1 & 40.000 & 40.000 & 40.000 & 40.000 & 40.000 & 40.000 & 40.000 & 40.000\\\\\n",
       "\tm1 &  0.010 &  0.010 &  0.010 &  0.010 &  0.010 &  0.010 &  0.010 &  0.010\\\\\n",
       "\tt1 &  0.740 &  0.740 &  0.740 &  0.740 &  0.740 &  0.740 &  0.740 &  0.740\\\\\n",
       "\talpha &  0.043 &  0.043 &  0.043 &  0.043 &  0.043 &  0.043 &  0.043 &  0.043\\\\\n",
       "\tpower &  0.900 &  0.900 &  0.900 &  0.900 &  0.900 &  0.900 &  0.900 &  0.900\\\\\n",
       "\\end{tabular}\n"
      ],
      "text/markdown": [
       "\n",
       "A data.frame: 5 × 8\n",
       "\n",
       "| <!--/--> | result.1 &lt;dbl&gt; | result.15 &lt;dbl&gt; | result.29 &lt;dbl&gt; | result.43 &lt;dbl&gt; | result.57 &lt;dbl&gt; | result.70 &lt;dbl&gt; | result.85 &lt;dbl&gt; | result.99 &lt;dbl&gt; |\n",
       "|---|---|---|---|---|---|---|---|---|\n",
       "| n1 | 40.000 | 40.000 | 40.000 | 40.000 | 40.000 | 40.000 | 40.000 | 40.000 |\n",
       "| m1 |  0.010 |  0.010 |  0.010 |  0.010 |  0.010 |  0.010 |  0.010 |  0.010 |\n",
       "| t1 |  0.740 |  0.740 |  0.740 |  0.740 |  0.740 |  0.740 |  0.740 |  0.740 |\n",
       "| alpha |  0.043 |  0.043 |  0.043 |  0.043 |  0.043 |  0.043 |  0.043 |  0.043 |\n",
       "| power |  0.900 |  0.900 |  0.900 |  0.900 |  0.900 |  0.900 |  0.900 |  0.900 |\n",
       "\n"
      ],
      "text/plain": [
       "      result.1 result.15 result.29 result.43 result.57 result.70 result.85\n",
       "n1    40.000   40.000    40.000    40.000    40.000    40.000    40.000   \n",
       "m1     0.010    0.010     0.010     0.010     0.010     0.010     0.010   \n",
       "t1     0.740    0.740     0.740     0.740     0.740     0.740     0.740   \n",
       "alpha  0.043    0.043     0.043     0.043     0.043     0.043     0.043   \n",
       "power  0.900    0.900     0.900     0.900     0.900     0.900     0.900   \n",
       "      result.99\n",
       "n1    40.000   \n",
       "m1     0.010   \n",
       "t1     0.740   \n",
       "alpha  0.043   \n",
       "power  0.900   "
      ]
     },
     "metadata": {},
     "output_type": "display_data"
    },
    {
     "data": {
      "text/html": [
       "<table class=\"dataframe\">\n",
       "<caption>A data.frame: 5 × 16</caption>\n",
       "<thead>\n",
       "\t<tr><th></th><th scope=col>result.1</th><th scope=col>result.1.1</th><th scope=col>result.1.2</th><th scope=col>result.1.3</th><th scope=col>result.1.4</th><th scope=col>result.1.5</th><th scope=col>result.1.6</th><th scope=col>result.1.7</th><th scope=col>result.1.8</th><th scope=col>result.15</th><th scope=col>result.29</th><th scope=col>result.43</th><th scope=col>result.57</th><th scope=col>result.70</th><th scope=col>result.85</th><th scope=col>result.99</th></tr>\n",
       "\t<tr><th></th><th scope=col>&lt;dbl&gt;</th><th scope=col>&lt;dbl&gt;</th><th scope=col>&lt;dbl&gt;</th><th scope=col>&lt;dbl&gt;</th><th scope=col>&lt;dbl&gt;</th><th scope=col>&lt;dbl&gt;</th><th scope=col>&lt;dbl&gt;</th><th scope=col>&lt;dbl&gt;</th><th scope=col>&lt;dbl&gt;</th><th scope=col>&lt;dbl&gt;</th><th scope=col>&lt;dbl&gt;</th><th scope=col>&lt;dbl&gt;</th><th scope=col>&lt;dbl&gt;</th><th scope=col>&lt;dbl&gt;</th><th scope=col>&lt;dbl&gt;</th><th scope=col>&lt;dbl&gt;</th></tr>\n",
       "</thead>\n",
       "<tbody>\n",
       "\t<tr><th scope=row>n1</th><td>40.000</td><td>40.000</td><td>40.000</td><td>40.000</td><td>40.000</td><td>40.000</td><td>40.000</td><td>40.000</td><td>40.000</td><td>40.000</td><td>40.000</td><td>40.000</td><td>40.000</td><td>40.000</td><td>40.000</td><td>40.000</td></tr>\n",
       "\t<tr><th scope=row>m1</th><td> 0.010</td><td> 0.010</td><td> 0.010</td><td> 0.010</td><td> 0.010</td><td> 0.010</td><td> 0.010</td><td> 0.010</td><td> 0.010</td><td> 0.010</td><td> 0.010</td><td> 0.010</td><td> 0.010</td><td> 0.010</td><td> 0.010</td><td> 0.010</td></tr>\n",
       "\t<tr><th scope=row>t1</th><td> 0.740</td><td> 0.740</td><td> 0.740</td><td> 0.740</td><td> 0.740</td><td> 0.740</td><td> 0.740</td><td> 0.740</td><td> 0.740</td><td> 0.740</td><td> 0.740</td><td> 0.740</td><td> 0.740</td><td> 0.740</td><td> 0.740</td><td> 0.740</td></tr>\n",
       "\t<tr><th scope=row>alpha</th><td> 0.043</td><td> 0.043</td><td> 0.043</td><td> 0.043</td><td> 0.043</td><td> 0.043</td><td> 0.043</td><td> 0.043</td><td> 0.043</td><td> 0.043</td><td> 0.043</td><td> 0.043</td><td> 0.043</td><td> 0.043</td><td> 0.043</td><td> 0.043</td></tr>\n",
       "\t<tr><th scope=row>power</th><td> 0.900</td><td> 0.900</td><td> 0.900</td><td> 0.900</td><td> 0.900</td><td> 0.900</td><td> 0.900</td><td> 0.900</td><td> 0.900</td><td> 0.900</td><td> 0.900</td><td> 0.900</td><td> 0.900</td><td> 0.900</td><td> 0.900</td><td> 0.900</td></tr>\n",
       "</tbody>\n",
       "</table>\n"
      ],
      "text/latex": [
       "A data.frame: 5 × 16\n",
       "\\begin{tabular}{r|llllllllllllllll}\n",
       "  & result.1 & result.1.1 & result.1.2 & result.1.3 & result.1.4 & result.1.5 & result.1.6 & result.1.7 & result.1.8 & result.15 & result.29 & result.43 & result.57 & result.70 & result.85 & result.99\\\\\n",
       "  & <dbl> & <dbl> & <dbl> & <dbl> & <dbl> & <dbl> & <dbl> & <dbl> & <dbl> & <dbl> & <dbl> & <dbl> & <dbl> & <dbl> & <dbl> & <dbl>\\\\\n",
       "\\hline\n",
       "\tn1 & 40.000 & 40.000 & 40.000 & 40.000 & 40.000 & 40.000 & 40.000 & 40.000 & 40.000 & 40.000 & 40.000 & 40.000 & 40.000 & 40.000 & 40.000 & 40.000\\\\\n",
       "\tm1 &  0.010 &  0.010 &  0.010 &  0.010 &  0.010 &  0.010 &  0.010 &  0.010 &  0.010 &  0.010 &  0.010 &  0.010 &  0.010 &  0.010 &  0.010 &  0.010\\\\\n",
       "\tt1 &  0.740 &  0.740 &  0.740 &  0.740 &  0.740 &  0.740 &  0.740 &  0.740 &  0.740 &  0.740 &  0.740 &  0.740 &  0.740 &  0.740 &  0.740 &  0.740\\\\\n",
       "\talpha &  0.043 &  0.043 &  0.043 &  0.043 &  0.043 &  0.043 &  0.043 &  0.043 &  0.043 &  0.043 &  0.043 &  0.043 &  0.043 &  0.043 &  0.043 &  0.043\\\\\n",
       "\tpower &  0.900 &  0.900 &  0.900 &  0.900 &  0.900 &  0.900 &  0.900 &  0.900 &  0.900 &  0.900 &  0.900 &  0.900 &  0.900 &  0.900 &  0.900 &  0.900\\\\\n",
       "\\end{tabular}\n"
      ],
      "text/markdown": [
       "\n",
       "A data.frame: 5 × 16\n",
       "\n",
       "| <!--/--> | result.1 &lt;dbl&gt; | result.1.1 &lt;dbl&gt; | result.1.2 &lt;dbl&gt; | result.1.3 &lt;dbl&gt; | result.1.4 &lt;dbl&gt; | result.1.5 &lt;dbl&gt; | result.1.6 &lt;dbl&gt; | result.1.7 &lt;dbl&gt; | result.1.8 &lt;dbl&gt; | result.15 &lt;dbl&gt; | result.29 &lt;dbl&gt; | result.43 &lt;dbl&gt; | result.57 &lt;dbl&gt; | result.70 &lt;dbl&gt; | result.85 &lt;dbl&gt; | result.99 &lt;dbl&gt; |\n",
       "|---|---|---|---|---|---|---|---|---|---|---|---|---|---|---|---|---|\n",
       "| n1 | 40.000 | 40.000 | 40.000 | 40.000 | 40.000 | 40.000 | 40.000 | 40.000 | 40.000 | 40.000 | 40.000 | 40.000 | 40.000 | 40.000 | 40.000 | 40.000 |\n",
       "| m1 |  0.010 |  0.010 |  0.010 |  0.010 |  0.010 |  0.010 |  0.010 |  0.010 |  0.010 |  0.010 |  0.010 |  0.010 |  0.010 |  0.010 |  0.010 |  0.010 |\n",
       "| t1 |  0.740 |  0.740 |  0.740 |  0.740 |  0.740 |  0.740 |  0.740 |  0.740 |  0.740 |  0.740 |  0.740 |  0.740 |  0.740 |  0.740 |  0.740 |  0.740 |\n",
       "| alpha |  0.043 |  0.043 |  0.043 |  0.043 |  0.043 |  0.043 |  0.043 |  0.043 |  0.043 |  0.043 |  0.043 |  0.043 |  0.043 |  0.043 |  0.043 |  0.043 |\n",
       "| power |  0.900 |  0.900 |  0.900 |  0.900 |  0.900 |  0.900 |  0.900 |  0.900 |  0.900 |  0.900 |  0.900 |  0.900 |  0.900 |  0.900 |  0.900 |  0.900 |\n",
       "\n"
      ],
      "text/plain": [
       "      result.1 result.1.1 result.1.2 result.1.3 result.1.4 result.1.5\n",
       "n1    40.000   40.000     40.000     40.000     40.000     40.000    \n",
       "m1     0.010    0.010      0.010      0.010      0.010      0.010    \n",
       "t1     0.740    0.740      0.740      0.740      0.740      0.740    \n",
       "alpha  0.043    0.043      0.043      0.043      0.043      0.043    \n",
       "power  0.900    0.900      0.900      0.900      0.900      0.900    \n",
       "      result.1.6 result.1.7 result.1.8 result.15 result.29 result.43 result.57\n",
       "n1    40.000     40.000     40.000     40.000    40.000    40.000    40.000   \n",
       "m1     0.010      0.010      0.010      0.010     0.010     0.010     0.010   \n",
       "t1     0.740      0.740      0.740      0.740     0.740     0.740     0.740   \n",
       "alpha  0.043      0.043      0.043      0.043     0.043     0.043     0.043   \n",
       "power  0.900      0.900      0.900      0.900     0.900     0.900     0.900   \n",
       "      result.70 result.85 result.99\n",
       "n1    40.000    40.000    40.000   \n",
       "m1     0.010     0.010     0.010   \n",
       "t1     0.740     0.740     0.740   \n",
       "alpha  0.043     0.043     0.043   \n",
       "power  0.900     0.900     0.900   "
      ]
     },
     "metadata": {},
     "output_type": "display_data"
    }
   ],
   "source": [
    "result_n1 <- data.frame(result_n1)\n",
    "rownames(result_n1) <- c('n1','m1','t1','alpha','power')\n",
    "result_n1\n",
    "\n",
    "best_n1 <- result_n1[,which(result_n1[5,] == max(result_n1[5,]), arr.ind=TRUE)]\n",
    "best_n1"
   ]
  },
  {
   "cell_type": "markdown",
   "metadata": {
    "id": "gbxF-bF1IB1M"
   },
   "source": [
    "## Generate simulation data and compare our method with one sided log rank test"
   ]
  },
  {
   "cell_type": "markdown",
   "metadata": {
    "id": "v7mUGs_wXoTE"
   },
   "source": [
    "### Test the simulated alpha of logrank.test function\n",
    "### It is annouced that the power of 2 sample one-sided log rank test with N = 51 per arm can reach 0.9 when α = 0.1. \n",
    "(Jung 2017 page5 example 1)\n"
   ]
  },
  {
   "cell_type": "code",
   "execution_count": 24,
   "metadata": {
    "dotnet_interactive": {
     "language": "csharp"
    },
    "polyglot_notebook": {
     "kernelName": "csharp"
    },
    "vscode": {
     "languageId": "r"
    }
   },
   "outputs": [
    {
     "data": {
      "text/plain": [
       "   user  system elapsed \n",
       "  1.869   0.272   5.123 "
      ]
     },
     "metadata": {},
     "output_type": "display_data"
    },
    {
     "name": "stdout",
     "output_type": "stream",
     "text": [
      "The simulated alpha of one-sided log rank test is: 0.1032"
     ]
    }
   ],
   "source": [
    "set.seed(2024)\n",
    "sim_size = 10000\n",
    "count_logrank <- 0\n",
    "n = 51\n",
    "acc_time <- 1.67\n",
    "cen_time <- 1\n",
    "\n",
    "#Under H0\n",
    "data_C <- expo_gen(N = n*sim_size ,acc_time = acc_time, lambda = 1.609, cen_time = cen_time, arm = 0) # nolint\n",
    "data_E <- expo_gen(N = n*sim_size ,acc_time = acc_time, lambda = 1.609, cen_time = cen_time, arm = 1)\n",
    "\n",
    "system.time(log_rank_a <- log_rank_sim(data_C = data_C,data_E = data_E,sim_size = sim_size,n = n,alpha = 0.1 ,sided = 'greater')) #function 4\n",
    "cat('The simulated alpha of one-sided log rank test is:', log_rank_a)"
   ]
  },
  {
   "cell_type": "markdown",
   "metadata": {},
   "source": [
    "The logrank function should be reliable."
   ]
  },
  {
   "cell_type": "markdown",
   "metadata": {
    "id": "sdTEs_2xK_tY"
   },
   "source": [
    "## Compare the power of our rejection method with log rank under $H_1$\n"
   ]
  },
  {
   "cell_type": "code",
   "execution_count": 25,
   "metadata": {
    "dotnet_interactive": {
     "language": "csharp"
    },
    "polyglot_notebook": {
     "kernelName": "csharp"
    },
    "vscode": {
     "languageId": "r"
    }
   },
   "outputs": [
    {
     "name": "stdout",
     "output_type": "stream",
     "text": [
      "10.80339"
     ]
    }
   ],
   "source": [
    "sim_size <- 10000  #simulate 10000 pairs of (E,C) under H0 and H1 respectively\n",
    "acc_time <- 1.67\n",
    "cen_time <- 1\n",
    "tau <- 2\n",
    "count_rmst <- 0\n",
    "n1 <- 51\n",
    "\n",
    "set.seed(2024)\n",
    "start_time <- Sys.time() \n",
    "# Under H1\n",
    "data_C <- expo_gen(N = n1 * sim_size,acc_time = acc_time, lambda = 1.609, cen_time = cen_time, arm = 0)\n",
    "data_E <- expo_gen(N = n1 * sim_size,acc_time = acc_time, lambda = 0.916, cen_time = cen_time, arm = 1)\n",
    "power_lr <- log_rank_sim(data_C = data_C, data_E = data_E,sim_size = sim_size,n = n1,alpha = 0.1, sided = 'greater') #function 4\n",
    "\n",
    "rmst_h1 <- RMST_sim_cal(n = n1,data_E = data_E, data_C = data_C,tau = 2,sim_size = sim_size) \n",
    "count_rmst_rej <- foreach(k = 1:sim_size, .combine = '+') %dopar% {\n",
    "        if (rmst_h1[2,k] - rmst_h1[1,k] > best_n1[2,1] & rmst_h1[2,k] > best_n1[3,1]) # most powerful m1,n1\n",
    "            {count_rmst <- 1}\n",
    "        else\n",
    "            {count_rmst <- 0}\n",
    "        count_rmst\n",
    "      }\n",
    "\n",
    "end_time <- Sys.time()\n",
    "cat(end_time - start_time)"
   ]
  },
  {
   "cell_type": "code",
   "execution_count": 26,
   "metadata": {
    "dotnet_interactive": {
     "language": "csharp"
    },
    "polyglot_notebook": {
     "kernelName": "csharp"
    },
    "vscode": {
     "languageId": "r"
    }
   },
   "outputs": [
    {
     "name": "stdout",
     "output_type": "stream",
     "text": [
      "Power of log rank test = 0.9137 . Power of our method = 0.9595"
     ]
    }
   ],
   "source": [
    "cat('Power of log rank test =', power_lr, '. Power of our method =' ,count_rmst_rej/sim_size)"
   ]
  },
  {
   "cell_type": "markdown",
   "metadata": {},
   "source": [
    "## This does not mean that our method is way better than log rank under proportional hazard\n",
    "## We use $\\tau = 2$ here while the interim analysis period should be around 1.\n",
    "## If we spend 2 years on stage I, the whole trail would be very long."
   ]
  },
  {
   "cell_type": "markdown",
   "metadata": {},
   "source": [
    "# Discussion"
   ]
  },
  {
   "cell_type": "markdown",
   "metadata": {
    "id": "AIeg3D-8OL7A"
   },
   "source": [
    "## 1. The relationship between power and sample size under this hypothesis.\n",
    "\n",
    "### Find the most powerful m1,t1 pairs under each n1. Larger sample size should lead to a larger $\\beta$\n"
   ]
  },
  {
   "cell_type": "code",
   "execution_count": 27,
   "metadata": {
    "dotnet_interactive": {
     "language": "csharp"
    },
    "polyglot_notebook": {
     "kernelName": "csharp"
    },
    "vscode": {
     "languageId": "r"
    }
   },
   "outputs": [
    {
     "name": "stdout",
     "output_type": "stream",
     "text": [
      "11.28227"
     ]
    }
   ],
   "source": [
    "sim_size <- 10000  #simulate 10000 pairs of (E,C) under H0 and H1 respectively\n",
    "acc_time <- 1.67\n",
    "cen_time <- 1\n",
    "tau <- 2\n",
    "set.seed(2024)\n",
    "\n",
    "start_time <- Sys.time()\n",
    "\n",
    "result_alln1 <- foreach(n1 = 35:55, .combine = 'cbind',.packages = 'foreach') %dopar% {  #n1 here is the sample size per arm\n",
    "    \n",
    "    data_C <- expo_gen(N = n1*sim_size, acc_time = acc_time, lambda = 1.609, cen_time = cen_time,arm = 0)\n",
    "    data_E_H0 <- expo_gen(N = n1*sim_size, acc_time = acc_time, lambda = 1.609, cen_time = cen_time,arm = 1)\n",
    "    data_E_H1 <- expo_gen(N = n1*sim_size, acc_time = acc_time, lambda = 0.916, cen_time = cen_time,arm = 1)\n",
    "    rmst_h0 <- RMST_sim_cal(n = n1,data_E = data_E_H0, data_C = data_C,tau = 2,sim_size = sim_size)\n",
    "    rmst_h1 <- RMST_sim_cal(n = n1,data_E = data_E_H1, data_C = data_C,tau = 2,sim_size = sim_size)\n",
    "    opt_alpha <- 1\n",
    "    opt_power <- 0\n",
    "    opt_m1 <- 0\n",
    "    opt_t1 <- 0\n",
    "    opt_mt <- c()\n",
    "    \n",
    "     for (m1 in seq(from = 0, to = 1, by = 1/100))\n",
    "         { # step = 1/100\n",
    "         for (t1 in seq(from = 0.5, to = 1.5, by = 1/100)) # search 100 times in the interval\n",
    "             {\n",
    "                c0 <- 0\n",
    "                c1 <- 0\n",
    "                for (k in 1:sim_size)\n",
    "                    {\n",
    "                      if (rmst_h0[2,k] - rmst_h0[1, k] > m1 & rmst_h0[2, k] > t1)\n",
    "                      {c0 = c0 + 1}\n",
    "                      else if (rmst_h1[2,k] - rmst_h1[1,k] > m1 & rmst_h1[2,k] > t1)\n",
    "                      {c1 = c1 + 1}\n",
    "                    }\n",
    "                if (c0/sim_size > 0 & c0/sim_size < 0.1 & c1/sim_size >= opt_power) # return the best \n",
    "                {\n",
    "                    opt_alpha <- c0/sim_size\n",
    "                    opt_power <- c1/sim_size\n",
    "                    opt_m1 <- m1\n",
    "                    opt_t1 <- t1\n",
    "                    opt_mt <- c(n1,opt_m1,opt_t1,opt_alpha,opt_power)\n",
    "                }\n",
    "              }\n",
    "        }\n",
    "    opt_mt\n",
    "}\n",
    "\n",
    "end_time <- Sys.time()\n",
    "cat(end_time - start_time)"
   ]
  },
  {
   "cell_type": "code",
   "execution_count": 28,
   "metadata": {
    "dotnet_interactive": {
     "language": "csharp"
    },
    "polyglot_notebook": {
     "kernelName": "csharp"
    },
    "vscode": {
     "languageId": "r"
    }
   },
   "outputs": [
    {
     "data": {
      "text/html": [
       "<table class=\"dataframe\">\n",
       "<caption>A data.frame: 5 × 21</caption>\n",
       "<thead>\n",
       "\t<tr><th></th><th scope=col>result.1</th><th scope=col>result.2</th><th scope=col>result.3</th><th scope=col>result.4</th><th scope=col>result.5</th><th scope=col>result.6</th><th scope=col>result.7</th><th scope=col>result.8</th><th scope=col>result.9</th><th scope=col>result.10</th><th scope=col>⋯</th><th scope=col>result.12</th><th scope=col>result.13</th><th scope=col>result.14</th><th scope=col>result.15</th><th scope=col>result.16</th><th scope=col>result.17</th><th scope=col>result.18</th><th scope=col>result.19</th><th scope=col>result.20</th><th scope=col>result.21</th></tr>\n",
       "\t<tr><th></th><th scope=col>&lt;dbl&gt;</th><th scope=col>&lt;dbl&gt;</th><th scope=col>&lt;dbl&gt;</th><th scope=col>&lt;dbl&gt;</th><th scope=col>&lt;dbl&gt;</th><th scope=col>&lt;dbl&gt;</th><th scope=col>&lt;dbl&gt;</th><th scope=col>&lt;dbl&gt;</th><th scope=col>&lt;dbl&gt;</th><th scope=col>&lt;dbl&gt;</th><th scope=col>⋯</th><th scope=col>&lt;dbl&gt;</th><th scope=col>&lt;dbl&gt;</th><th scope=col>&lt;dbl&gt;</th><th scope=col>&lt;dbl&gt;</th><th scope=col>&lt;dbl&gt;</th><th scope=col>&lt;dbl&gt;</th><th scope=col>&lt;dbl&gt;</th><th scope=col>&lt;dbl&gt;</th><th scope=col>&lt;dbl&gt;</th><th scope=col>&lt;dbl&gt;</th></tr>\n",
       "</thead>\n",
       "<tbody>\n",
       "\t<tr><th scope=row>n1</th><td>35.0000</td><td>36.0000</td><td>37.0000</td><td>38.0000</td><td>39.0000</td><td>40.0000</td><td>41.0000</td><td>42.0000</td><td>43.0000</td><td>44.0000</td><td>⋯</td><td>46.0000</td><td>47.0000</td><td>48.0000</td><td>49.0000</td><td>50.0000</td><td>51.0000</td><td>52.0000</td><td>53.0000</td><td>54.0000</td><td>55.0000</td></tr>\n",
       "\t<tr><th scope=row>m1</th><td> 0.0000</td><td> 0.0000</td><td> 0.0000</td><td> 0.0000</td><td> 0.0100</td><td> 0.0000</td><td> 0.0000</td><td> 0.0000</td><td> 0.0000</td><td> 0.0000</td><td>⋯</td><td> 0.0100</td><td> 0.0000</td><td> 0.0000</td><td> 0.0000</td><td> 0.0000</td><td> 0.0000</td><td> 0.0000</td><td> 0.0000</td><td> 0.0000</td><td> 0.0000</td></tr>\n",
       "\t<tr><th scope=row>t1</th><td> 0.7400</td><td> 0.7400</td><td> 0.7400</td><td> 0.7400</td><td> 0.7400</td><td> 0.7400</td><td> 0.7500</td><td> 0.7400</td><td> 0.7400</td><td> 0.7500</td><td>⋯</td><td> 0.7400</td><td> 0.7400</td><td> 0.7500</td><td> 0.7400</td><td> 0.7500</td><td> 0.7400</td><td> 0.7400</td><td> 0.7400</td><td> 0.7500</td><td> 0.7400</td></tr>\n",
       "\t<tr><th scope=row>alpha</th><td> 0.0643</td><td> 0.0633</td><td> 0.0597</td><td> 0.0558</td><td> 0.0496</td><td> 0.0512</td><td> 0.0425</td><td> 0.0458</td><td> 0.0466</td><td> 0.0370</td><td>⋯</td><td> 0.0445</td><td> 0.0387</td><td> 0.0340</td><td> 0.0422</td><td> 0.0280</td><td> 0.0359</td><td> 0.0320</td><td> 0.0320</td><td> 0.0233</td><td> 0.0328</td></tr>\n",
       "\t<tr><th scope=row>power</th><td> 0.8621</td><td> 0.8645</td><td> 0.8743</td><td> 0.8794</td><td> 0.8884</td><td> 0.8918</td><td> 0.8927</td><td> 0.8989</td><td> 0.9022</td><td> 0.9034</td><td>⋯</td><td> 0.9093</td><td> 0.9164</td><td> 0.9178</td><td> 0.9198</td><td> 0.9235</td><td> 0.9275</td><td> 0.9376</td><td> 0.9323</td><td> 0.9385</td><td> 0.9350</td></tr>\n",
       "</tbody>\n",
       "</table>\n"
      ],
      "text/latex": [
       "A data.frame: 5 × 21\n",
       "\\begin{tabular}{r|lllllllllllllllllllll}\n",
       "  & result.1 & result.2 & result.3 & result.4 & result.5 & result.6 & result.7 & result.8 & result.9 & result.10 & ⋯ & result.12 & result.13 & result.14 & result.15 & result.16 & result.17 & result.18 & result.19 & result.20 & result.21\\\\\n",
       "  & <dbl> & <dbl> & <dbl> & <dbl> & <dbl> & <dbl> & <dbl> & <dbl> & <dbl> & <dbl> & ⋯ & <dbl> & <dbl> & <dbl> & <dbl> & <dbl> & <dbl> & <dbl> & <dbl> & <dbl> & <dbl>\\\\\n",
       "\\hline\n",
       "\tn1 & 35.0000 & 36.0000 & 37.0000 & 38.0000 & 39.0000 & 40.0000 & 41.0000 & 42.0000 & 43.0000 & 44.0000 & ⋯ & 46.0000 & 47.0000 & 48.0000 & 49.0000 & 50.0000 & 51.0000 & 52.0000 & 53.0000 & 54.0000 & 55.0000\\\\\n",
       "\tm1 &  0.0000 &  0.0000 &  0.0000 &  0.0000 &  0.0100 &  0.0000 &  0.0000 &  0.0000 &  0.0000 &  0.0000 & ⋯ &  0.0100 &  0.0000 &  0.0000 &  0.0000 &  0.0000 &  0.0000 &  0.0000 &  0.0000 &  0.0000 &  0.0000\\\\\n",
       "\tt1 &  0.7400 &  0.7400 &  0.7400 &  0.7400 &  0.7400 &  0.7400 &  0.7500 &  0.7400 &  0.7400 &  0.7500 & ⋯ &  0.7400 &  0.7400 &  0.7500 &  0.7400 &  0.7500 &  0.7400 &  0.7400 &  0.7400 &  0.7500 &  0.7400\\\\\n",
       "\talpha &  0.0643 &  0.0633 &  0.0597 &  0.0558 &  0.0496 &  0.0512 &  0.0425 &  0.0458 &  0.0466 &  0.0370 & ⋯ &  0.0445 &  0.0387 &  0.0340 &  0.0422 &  0.0280 &  0.0359 &  0.0320 &  0.0320 &  0.0233 &  0.0328\\\\\n",
       "\tpower &  0.8621 &  0.8645 &  0.8743 &  0.8794 &  0.8884 &  0.8918 &  0.8927 &  0.8989 &  0.9022 &  0.9034 & ⋯ &  0.9093 &  0.9164 &  0.9178 &  0.9198 &  0.9235 &  0.9275 &  0.9376 &  0.9323 &  0.9385 &  0.9350\\\\\n",
       "\\end{tabular}\n"
      ],
      "text/markdown": [
       "\n",
       "A data.frame: 5 × 21\n",
       "\n",
       "| <!--/--> | result.1 &lt;dbl&gt; | result.2 &lt;dbl&gt; | result.3 &lt;dbl&gt; | result.4 &lt;dbl&gt; | result.5 &lt;dbl&gt; | result.6 &lt;dbl&gt; | result.7 &lt;dbl&gt; | result.8 &lt;dbl&gt; | result.9 &lt;dbl&gt; | result.10 &lt;dbl&gt; | ⋯ ⋯ | result.12 &lt;dbl&gt; | result.13 &lt;dbl&gt; | result.14 &lt;dbl&gt; | result.15 &lt;dbl&gt; | result.16 &lt;dbl&gt; | result.17 &lt;dbl&gt; | result.18 &lt;dbl&gt; | result.19 &lt;dbl&gt; | result.20 &lt;dbl&gt; | result.21 &lt;dbl&gt; |\n",
       "|---|---|---|---|---|---|---|---|---|---|---|---|---|---|---|---|---|---|---|---|---|---|\n",
       "| n1 | 35.0000 | 36.0000 | 37.0000 | 38.0000 | 39.0000 | 40.0000 | 41.0000 | 42.0000 | 43.0000 | 44.0000 | ⋯ | 46.0000 | 47.0000 | 48.0000 | 49.0000 | 50.0000 | 51.0000 | 52.0000 | 53.0000 | 54.0000 | 55.0000 |\n",
       "| m1 |  0.0000 |  0.0000 |  0.0000 |  0.0000 |  0.0100 |  0.0000 |  0.0000 |  0.0000 |  0.0000 |  0.0000 | ⋯ |  0.0100 |  0.0000 |  0.0000 |  0.0000 |  0.0000 |  0.0000 |  0.0000 |  0.0000 |  0.0000 |  0.0000 |\n",
       "| t1 |  0.7400 |  0.7400 |  0.7400 |  0.7400 |  0.7400 |  0.7400 |  0.7500 |  0.7400 |  0.7400 |  0.7500 | ⋯ |  0.7400 |  0.7400 |  0.7500 |  0.7400 |  0.7500 |  0.7400 |  0.7400 |  0.7400 |  0.7500 |  0.7400 |\n",
       "| alpha |  0.0643 |  0.0633 |  0.0597 |  0.0558 |  0.0496 |  0.0512 |  0.0425 |  0.0458 |  0.0466 |  0.0370 | ⋯ |  0.0445 |  0.0387 |  0.0340 |  0.0422 |  0.0280 |  0.0359 |  0.0320 |  0.0320 |  0.0233 |  0.0328 |\n",
       "| power |  0.8621 |  0.8645 |  0.8743 |  0.8794 |  0.8884 |  0.8918 |  0.8927 |  0.8989 |  0.9022 |  0.9034 | ⋯ |  0.9093 |  0.9164 |  0.9178 |  0.9198 |  0.9235 |  0.9275 |  0.9376 |  0.9323 |  0.9385 |  0.9350 |\n",
       "\n"
      ],
      "text/plain": [
       "      result.1 result.2 result.3 result.4 result.5 result.6 result.7 result.8\n",
       "n1    35.0000  36.0000  37.0000  38.0000  39.0000  40.0000  41.0000  42.0000 \n",
       "m1     0.0000   0.0000   0.0000   0.0000   0.0100   0.0000   0.0000   0.0000 \n",
       "t1     0.7400   0.7400   0.7400   0.7400   0.7400   0.7400   0.7500   0.7400 \n",
       "alpha  0.0643   0.0633   0.0597   0.0558   0.0496   0.0512   0.0425   0.0458 \n",
       "power  0.8621   0.8645   0.8743   0.8794   0.8884   0.8918   0.8927   0.8989 \n",
       "      result.9 result.10 ⋯ result.12 result.13 result.14 result.15 result.16\n",
       "n1    43.0000  44.0000   ⋯ 46.0000   47.0000   48.0000   49.0000   50.0000  \n",
       "m1     0.0000   0.0000   ⋯  0.0100    0.0000    0.0000    0.0000    0.0000  \n",
       "t1     0.7400   0.7500   ⋯  0.7400    0.7400    0.7500    0.7400    0.7500  \n",
       "alpha  0.0466   0.0370   ⋯  0.0445    0.0387    0.0340    0.0422    0.0280  \n",
       "power  0.9022   0.9034   ⋯  0.9093    0.9164    0.9178    0.9198    0.9235  \n",
       "      result.17 result.18 result.19 result.20 result.21\n",
       "n1    51.0000   52.0000   53.0000   54.0000   55.0000  \n",
       "m1     0.0000    0.0000    0.0000    0.0000    0.0000  \n",
       "t1     0.7400    0.7400    0.7400    0.7500    0.7400  \n",
       "alpha  0.0359    0.0320    0.0320    0.0233    0.0328  \n",
       "power  0.9275    0.9376    0.9323    0.9385    0.9350  "
      ]
     },
     "metadata": {},
     "output_type": "display_data"
    }
   ],
   "source": [
    "#load('/mnt/diff_n1_power.RData')  # The result of last loop is already saved\n",
    "result_alln1 <- data.frame(result_alln1)\n",
    "rownames(result_alln1) <- c('n1','m1','t1','alpha','power')\n",
    "save(result_alln1, file = '/home/r27user6/RMST_Code/diff_n1_power.RData')\n",
    "result_alln1"
   ]
  },
  {
   "cell_type": "code",
   "execution_count": 29,
   "metadata": {
    "dotnet_interactive": {
     "language": "csharp"
    },
    "polyglot_notebook": {
     "kernelName": "csharp"
    },
    "vscode": {
     "languageId": "r"
    }
   },
   "outputs": [
    {
     "name": "stderr",
     "output_type": "stream",
     "text": [
      "Warning message:\n",
      "“\u001b[1m\u001b[22mThe `trans` argument of `sec_axis()` is deprecated as of ggplot2 3.5.0.\n",
      "\u001b[36mℹ\u001b[39m Please use the `transform` argument instead.”\n",
      "Warning message:\n",
      "“\u001b[1m\u001b[22mUse of `df$n1` is discouraged.\n",
      "\u001b[36mℹ\u001b[39m Use `n1` instead.”\n",
      "Warning message:\n",
      "“\u001b[1m\u001b[22mUse of `df$alpha` is discouraged.\n",
      "\u001b[36mℹ\u001b[39m Use `alpha` instead.”\n",
      "Warning message:\n",
      "“\u001b[1m\u001b[22mUse of `df$n1` is discouraged.\n",
      "\u001b[36mℹ\u001b[39m Use `n1` instead.”\n",
      "Warning message:\n",
      "“\u001b[1m\u001b[22mUse of `df$power` is discouraged.\n",
      "\u001b[36mℹ\u001b[39m Use `power` instead.”\n",
      "Warning message:\n",
      "“\u001b[1m\u001b[22mUse of `df$n1` is discouraged.\n",
      "\u001b[36mℹ\u001b[39m Use `n1` instead.”\n",
      "Warning message:\n",
      "“\u001b[1m\u001b[22mUse of `df$alpha` is discouraged.\n",
      "\u001b[36mℹ\u001b[39m Use `alpha` instead.”\n",
      "Warning message:\n",
      "“\u001b[1m\u001b[22mUse of `df$n1` is discouraged.\n",
      "\u001b[36mℹ\u001b[39m Use `n1` instead.”\n",
      "Warning message:\n",
      "“\u001b[1m\u001b[22mUse of `df$power` is discouraged.\n",
      "\u001b[36mℹ\u001b[39m Use `power` instead.”\n"
     ]
    },
    {
     "data": {
      "image/png": "[encoded data removed]",
      "text/plain": [
       "plot without title"
      ]
     },
     "metadata": {
      "image/png": {
       "height": 480,
       "width": 720
      }
     },
     "output_type": "display_data"
    }
   ],
   "source": [
    "df <- as.data.frame(t(result_alln1[c(1,4,5),]))\n",
    "options(repr.plot.width = 12, repr.plot.height = 8)\n",
    "\n",
    "plot_n1 <- ggplot(df) +\n",
    "  geom_point(aes(x = df$n1, y = df$alpha, color = \"Alpha\"),size = 3) +\n",
    "  geom_point(aes(x = df$n1, y = (df$power - 0.85) , color = \"Power\"),size = 3) +\n",
    "  geom_line(aes(x = df$n1, y = df$alpha, color = \"Alpha\")) +\n",
    "  geom_line(aes(x = df$n1, y = (df$power - 0.85), color = \"Power\")) +\n",
    "  scale_x_continuous(breaks = 33:58 ) +\n",
    "  scale_y_continuous(limits = c(0, 0.1),\n",
    "                     sec.axis = sec_axis(trans = ~ . + 0.85, name = \"Power\")) +\n",
    "  scale_color_manual(values = c(\"Alpha\" = \"red\", \"Power\" = \"blue\"),\n",
    "                     labels = c(\"Alpha\", \"Power\"))+\n",
    "  theme(legend.title = element_blank(),\n",
    "        axis.title = element_text(size = 18, margin = margin(t = 20)),\n",
    "        axis.text = element_text(size = 15,margin = margin(t = 10)),\n",
    "        legend.text = element_text(size = 15,margin = margin(t = 10))) +\n",
    "  guides(color = guide_legend(title = \"Scales\"))+\n",
    "  labs(x = \"Sample Size of Each Arm\", y = \"Alpha\")\n",
    "\n",
    "plot_n1"
   ]
  },
  {
   "cell_type": "markdown",
   "metadata": {},
   "source": [
    "## 2. The relationship between power and $\\tau$ under this hypothesis.\n",
    "### $H_0 : \\lambda_0 = \\lambda_1 = 1.609$    \n",
    "### $H_1 : \\lambda_0 = 1.609,\\ \\lambda_1 = 0.916$  \n",
    "### Under H1, the mean value of Survival time in 2 groups (10000 samples) are shown below.\n",
    "### The Empirical $\\tau$ is calculated by $Surtime_{E} + 3 * Std (Surtime_E)$"
   ]
  },
  {
   "cell_type": "code",
   "execution_count": 30,
   "metadata": {
    "dotnet_interactive": {
     "language": "csharp"
    },
    "polyglot_notebook": {
     "kernelName": "csharp"
    },
    "vscode": {
     "languageId": "r"
    }
   },
   "outputs": [
    {
     "name": "stdout",
     "output_type": "stream",
     "text": [
      "0.5784267 0.5787006 0.8680528 1.97215"
     ]
    }
   ],
   "source": [
    "set.seed(2024)\n",
    "sim_size <- 10000  #simulate 10000 pairs of (E,C) under H0 and H1 respectively\n",
    "acc_time <- 1.67\n",
    "cen_time <- 1\n",
    "n1 <- 51\n",
    "data_C <- expo_gen(N = n1*sim_size, acc_time = acc_time, lambda = 1.609, cen_time = cen_time,arm = 0)\n",
    "data_E_H0 <- expo_gen(N = n1*sim_size, acc_time = acc_time, lambda = 1.609, cen_time = cen_time,arm = 1)\n",
    "data_E_H1 <- expo_gen(N = n1*sim_size, acc_time = acc_time, lambda = 0.916, cen_time = cen_time,arm = 1)\n",
    "cat(mean(data_C[,1]),mean(data_E_H0[,1]),mean(data_E_H1[,1]),emp_tau)"
   ]
  },
  {
   "cell_type": "markdown",
   "metadata": {},
   "source": [
    "### From the result in result_alln1 we can see that the sample size did not greatly affect the critical value $m_1,\\ t_1$\n",
    "### So we set $n_1 = 51,\\ m_1 = 0,\\ t_1 = 0.73 $ and calculate $\\alpha$ and power under different $\\tau$\n",
    "### Here we need new function to collect the times of $\\tau$ adjustment in or RMST estimation.\n",
    "(Since if the preset $\\tau$ is larger than $max(RMST_E)$, it will be adjusted to $max(RMST_E)$)"
   ]
  },
  {
   "cell_type": "code",
   "execution_count": 31,
   "metadata": {
    "dotnet_interactive": {
     "language": "csharp"
    },
    "polyglot_notebook": {
     "kernelName": "csharp"
    },
    "vscode": {
     "languageId": "r"
    }
   },
   "outputs": [],
   "source": [
    "RMST_sim_tau_adj <- function(n,data_E,data_C,tau,sim_size)\n",
    "{\n",
    "  # n is the sample size of each group\n",
    "  # sim_size is the times of simulation\n",
    "    tau_adj_count <- 0\n",
    "  sim_result <- foreach(k = 1:sim_size, .combine = 'cbind', .packages = 'survRM2') %dopar% {\n",
    "    pre_data <- rbind(data_C[((k-1)*n+1):(k*n),],data_E[((k-1)*n+1):(k*n),])\n",
    "      \n",
    "    if (tau < min(max(data_E[((k-1)*n+1):(k*n),1]),  max(data_C[((k-1)*n+1):(k*n),1])))\n",
    "      {\n",
    "        rmst_result <- rmst2(pre_data[,1], pre_data[,2], pre_data[,3], tau = tau)\n",
    "      }  # the simulation data is not guaranteed to be larger than tau\n",
    "    else\n",
    "      {\n",
    "        rmst_result <- rmst2(pre_data[,1], pre_data[,2], pre_data[,3])\n",
    "        tau_adj_count <- tau_adj_count + 1\n",
    "      }\n",
    "\n",
    "    c(rmst_result$RMST.arm0$rmst[1],rmst_result$RMST.arm1$rmst[1],tau_adj_count)  # The last element of the 3rd row is tau_adj_count\n",
    "    }\n",
    "    return(sim_result)\n",
    "}\n"
   ]
  },
  {
   "cell_type": "code",
   "execution_count": 32,
   "metadata": {
    "dotnet_interactive": {
     "language": "csharp"
    },
    "polyglot_notebook": {
     "kernelName": "csharp"
    },
    "vscode": {
     "languageId": "r"
    }
   },
   "outputs": [
    {
     "name": "stdout",
     "output_type": "stream",
     "text": [
      "1.119018"
     ]
    }
   ],
   "source": [
    "set.seed(2024)\n",
    "\n",
    "start_time <- Sys.time()\n",
    "\n",
    "result_alltau <- foreach(i = 1:20, .combine = 'cbind',.packages = 'foreach') %dopar% {  #n1 here is the sample size per arm\n",
    "    \n",
    "    tau <- 0.6 + (i-1) * 0.1 \n",
    "    c0 <- 0\n",
    "    c1 <- 1\n",
    "    rmst_h0 <- RMST_sim_tau_adj(n = n1,data_E = data_E_H0, data_C = data_C,tau = tau,sim_size = sim_size)\n",
    "    rmst_h1 <- RMST_sim_tau_adj(n = n1,data_E = data_E_H1, data_C = data_C,tau = tau,sim_size = sim_size)\n",
    "    for (k in 1:sim_size)\n",
    "                    {\n",
    "                      if (rmst_h0[2,k] - rmst_h0[1,k] > 0 & rmst_h0[2,k] > 0.73)\n",
    "                      {c0 = c0 + 1}\n",
    "                      else if (rmst_h1[2,k] - rmst_h1[1,k] > 0 & rmst_h1[2,k] > 0.73)\n",
    "                      {c1 = c1 + 1}\n",
    "                    }\n",
    "    c(tau, c0/sim_size, c1/sim_size, rmst_h0[3,sim_size]/sim_size, rmst_h1[3,sim_size]/sim_size) # proportion of adjusted tau\n",
    "}\n",
    "\n",
    "end_time <- Sys.time()\n",
    "cat(end_time - start_time)"
   ]
  },
  {
   "cell_type": "code",
   "execution_count": 33,
   "metadata": {
    "dotnet_interactive": {
     "language": "csharp"
    },
    "polyglot_notebook": {
     "kernelName": "csharp"
    },
    "vscode": {
     "languageId": "r"
    }
   },
   "outputs": [
    {
     "data": {
      "text/html": [
       "<table class=\"dataframe\">\n",
       "<caption>A data.frame: 5 × 20</caption>\n",
       "<thead>\n",
       "\t<tr><th></th><th scope=col>result.1</th><th scope=col>result.2</th><th scope=col>result.3</th><th scope=col>result.4</th><th scope=col>result.5</th><th scope=col>result.6</th><th scope=col>result.7</th><th scope=col>result.8</th><th scope=col>result.9</th><th scope=col>result.10</th><th scope=col>result.11</th><th scope=col>result.12</th><th scope=col>result.13</th><th scope=col>result.14</th><th scope=col>result.15</th><th scope=col>result.16</th><th scope=col>result.17</th><th scope=col>result.18</th><th scope=col>result.19</th><th scope=col>result.20</th></tr>\n",
       "\t<tr><th></th><th scope=col>&lt;dbl&gt;</th><th scope=col>&lt;dbl&gt;</th><th scope=col>&lt;dbl&gt;</th><th scope=col>&lt;dbl&gt;</th><th scope=col>&lt;dbl&gt;</th><th scope=col>&lt;dbl&gt;</th><th scope=col>&lt;dbl&gt;</th><th scope=col>&lt;dbl&gt;</th><th scope=col>&lt;dbl&gt;</th><th scope=col>&lt;dbl&gt;</th><th scope=col>&lt;dbl&gt;</th><th scope=col>&lt;dbl&gt;</th><th scope=col>&lt;dbl&gt;</th><th scope=col>&lt;dbl&gt;</th><th scope=col>&lt;dbl&gt;</th><th scope=col>&lt;dbl&gt;</th><th scope=col>&lt;dbl&gt;</th><th scope=col>&lt;dbl&gt;</th><th scope=col>&lt;dbl&gt;</th><th scope=col>&lt;dbl&gt;</th></tr>\n",
       "</thead>\n",
       "<tbody>\n",
       "\t<tr><th scope=row>tau</th><td>6e-01</td><td>7e-01</td><td>8e-01</td><td>0.9000</td><td>1.0000</td><td>1.1000</td><td>1.2000</td><td>1.3000</td><td>1.4000</td><td>1.5000</td><td>1.6000</td><td>1.7000</td><td>1.8000</td><td>1.9000</td><td>2.0000</td><td>2.1000</td><td>2.2000</td><td>2.3000</td><td>2.4000</td><td>2.5000</td></tr>\n",
       "\t<tr><th scope=row>alpha</th><td>0e+00</td><td>0e+00</td><td>0e+00</td><td>0.0000</td><td>0.0000</td><td>0.0001</td><td>0.0002</td><td>0.0011</td><td>0.0036</td><td>0.0079</td><td>0.0158</td><td>0.0249</td><td>0.0322</td><td>0.0402</td><td>0.0473</td><td>0.0510</td><td>0.0537</td><td>0.0552</td><td>0.0556</td><td>0.0560</td></tr>\n",
       "\t<tr><th scope=row>power</th><td>1e-04</td><td>1e-04</td><td>1e-04</td><td>0.0046</td><td>0.0649</td><td>0.2531</td><td>0.4891</td><td>0.6757</td><td>0.7966</td><td>0.8710</td><td>0.9051</td><td>0.9216</td><td>0.9277</td><td>0.9279</td><td>0.9253</td><td>0.9230</td><td>0.9213</td><td>0.9205</td><td>0.9203</td><td>0.9201</td></tr>\n",
       "\t<tr><th scope=row>adj_tau_H0</th><td>0e+00</td><td>0e+00</td><td>0e+00</td><td>0.0001</td><td>0.0001</td><td>0.0005</td><td>0.0021</td><td>0.0081</td><td>0.0329</td><td>0.0761</td><td>0.1554</td><td>0.2669</td><td>0.4049</td><td>0.5477</td><td>0.6801</td><td>0.7954</td><td>0.8844</td><td>0.9408</td><td>0.9755</td><td>0.9923</td></tr>\n",
       "\t<tr><th scope=row>adj_tau_H1</th><td>0e+00</td><td>0e+00</td><td>0e+00</td><td>0.0001</td><td>0.0001</td><td>0.0004</td><td>0.0014</td><td>0.0045</td><td>0.0171</td><td>0.0393</td><td>0.0812</td><td>0.1456</td><td>0.2321</td><td>0.3381</td><td>0.4567</td><td>0.5852</td><td>0.7019</td><td>0.8143</td><td>0.9033</td><td>0.9634</td></tr>\n",
       "</tbody>\n",
       "</table>\n"
      ],
      "text/latex": [
       "A data.frame: 5 × 20\n",
       "\\begin{tabular}{r|llllllllllllllllllll}\n",
       "  & result.1 & result.2 & result.3 & result.4 & result.5 & result.6 & result.7 & result.8 & result.9 & result.10 & result.11 & result.12 & result.13 & result.14 & result.15 & result.16 & result.17 & result.18 & result.19 & result.20\\\\\n",
       "  & <dbl> & <dbl> & <dbl> & <dbl> & <dbl> & <dbl> & <dbl> & <dbl> & <dbl> & <dbl> & <dbl> & <dbl> & <dbl> & <dbl> & <dbl> & <dbl> & <dbl> & <dbl> & <dbl> & <dbl>\\\\\n",
       "\\hline\n",
       "\ttau & 6e-01 & 7e-01 & 8e-01 & 0.9000 & 1.0000 & 1.1000 & 1.2000 & 1.3000 & 1.4000 & 1.5000 & 1.6000 & 1.7000 & 1.8000 & 1.9000 & 2.0000 & 2.1000 & 2.2000 & 2.3000 & 2.4000 & 2.5000\\\\\n",
       "\talpha & 0e+00 & 0e+00 & 0e+00 & 0.0000 & 0.0000 & 0.0001 & 0.0002 & 0.0011 & 0.0036 & 0.0079 & 0.0158 & 0.0249 & 0.0322 & 0.0402 & 0.0473 & 0.0510 & 0.0537 & 0.0552 & 0.0556 & 0.0560\\\\\n",
       "\tpower & 1e-04 & 1e-04 & 1e-04 & 0.0046 & 0.0649 & 0.2531 & 0.4891 & 0.6757 & 0.7966 & 0.8710 & 0.9051 & 0.9216 & 0.9277 & 0.9279 & 0.9253 & 0.9230 & 0.9213 & 0.9205 & 0.9203 & 0.9201\\\\\n",
       "\tadj\\_tau\\_H0 & 0e+00 & 0e+00 & 0e+00 & 0.0001 & 0.0001 & 0.0005 & 0.0021 & 0.0081 & 0.0329 & 0.0761 & 0.1554 & 0.2669 & 0.4049 & 0.5477 & 0.6801 & 0.7954 & 0.8844 & 0.9408 & 0.9755 & 0.9923\\\\\n",
       "\tadj\\_tau\\_H1 & 0e+00 & 0e+00 & 0e+00 & 0.0001 & 0.0001 & 0.0004 & 0.0014 & 0.0045 & 0.0171 & 0.0393 & 0.0812 & 0.1456 & 0.2321 & 0.3381 & 0.4567 & 0.5852 & 0.7019 & 0.8143 & 0.9033 & 0.9634\\\\\n",
       "\\end{tabular}\n"
      ],
      "text/markdown": [
       "\n",
       "A data.frame: 5 × 20\n",
       "\n",
       "| <!--/--> | result.1 &lt;dbl&gt; | result.2 &lt;dbl&gt; | result.3 &lt;dbl&gt; | result.4 &lt;dbl&gt; | result.5 &lt;dbl&gt; | result.6 &lt;dbl&gt; | result.7 &lt;dbl&gt; | result.8 &lt;dbl&gt; | result.9 &lt;dbl&gt; | result.10 &lt;dbl&gt; | result.11 &lt;dbl&gt; | result.12 &lt;dbl&gt; | result.13 &lt;dbl&gt; | result.14 &lt;dbl&gt; | result.15 &lt;dbl&gt; | result.16 &lt;dbl&gt; | result.17 &lt;dbl&gt; | result.18 &lt;dbl&gt; | result.19 &lt;dbl&gt; | result.20 &lt;dbl&gt; |\n",
       "|---|---|---|---|---|---|---|---|---|---|---|---|---|---|---|---|---|---|---|---|---|\n",
       "| tau | 6e-01 | 7e-01 | 8e-01 | 0.9000 | 1.0000 | 1.1000 | 1.2000 | 1.3000 | 1.4000 | 1.5000 | 1.6000 | 1.7000 | 1.8000 | 1.9000 | 2.0000 | 2.1000 | 2.2000 | 2.3000 | 2.4000 | 2.5000 |\n",
       "| alpha | 0e+00 | 0e+00 | 0e+00 | 0.0000 | 0.0000 | 0.0001 | 0.0002 | 0.0011 | 0.0036 | 0.0079 | 0.0158 | 0.0249 | 0.0322 | 0.0402 | 0.0473 | 0.0510 | 0.0537 | 0.0552 | 0.0556 | 0.0560 |\n",
       "| power | 1e-04 | 1e-04 | 1e-04 | 0.0046 | 0.0649 | 0.2531 | 0.4891 | 0.6757 | 0.7966 | 0.8710 | 0.9051 | 0.9216 | 0.9277 | 0.9279 | 0.9253 | 0.9230 | 0.9213 | 0.9205 | 0.9203 | 0.9201 |\n",
       "| adj_tau_H0 | 0e+00 | 0e+00 | 0e+00 | 0.0001 | 0.0001 | 0.0005 | 0.0021 | 0.0081 | 0.0329 | 0.0761 | 0.1554 | 0.2669 | 0.4049 | 0.5477 | 0.6801 | 0.7954 | 0.8844 | 0.9408 | 0.9755 | 0.9923 |\n",
       "| adj_tau_H1 | 0e+00 | 0e+00 | 0e+00 | 0.0001 | 0.0001 | 0.0004 | 0.0014 | 0.0045 | 0.0171 | 0.0393 | 0.0812 | 0.1456 | 0.2321 | 0.3381 | 0.4567 | 0.5852 | 0.7019 | 0.8143 | 0.9033 | 0.9634 |\n",
       "\n"
      ],
      "text/plain": [
       "           result.1 result.2 result.3 result.4 result.5 result.6 result.7\n",
       "tau        6e-01    7e-01    8e-01    0.9000   1.0000   1.1000   1.2000  \n",
       "alpha      0e+00    0e+00    0e+00    0.0000   0.0000   0.0001   0.0002  \n",
       "power      1e-04    1e-04    1e-04    0.0046   0.0649   0.2531   0.4891  \n",
       "adj_tau_H0 0e+00    0e+00    0e+00    0.0001   0.0001   0.0005   0.0021  \n",
       "adj_tau_H1 0e+00    0e+00    0e+00    0.0001   0.0001   0.0004   0.0014  \n",
       "           result.8 result.9 result.10 result.11 result.12 result.13 result.14\n",
       "tau        1.3000   1.4000   1.5000    1.6000    1.7000    1.8000    1.9000   \n",
       "alpha      0.0011   0.0036   0.0079    0.0158    0.0249    0.0322    0.0402   \n",
       "power      0.6757   0.7966   0.8710    0.9051    0.9216    0.9277    0.9279   \n",
       "adj_tau_H0 0.0081   0.0329   0.0761    0.1554    0.2669    0.4049    0.5477   \n",
       "adj_tau_H1 0.0045   0.0171   0.0393    0.0812    0.1456    0.2321    0.3381   \n",
       "           result.15 result.16 result.17 result.18 result.19 result.20\n",
       "tau        2.0000    2.1000    2.2000    2.3000    2.4000    2.5000   \n",
       "alpha      0.0473    0.0510    0.0537    0.0552    0.0556    0.0560   \n",
       "power      0.9253    0.9230    0.9213    0.9205    0.9203    0.9201   \n",
       "adj_tau_H0 0.6801    0.7954    0.8844    0.9408    0.9755    0.9923   \n",
       "adj_tau_H1 0.4567    0.5852    0.7019    0.8143    0.9033    0.9634   "
      ]
     },
     "metadata": {},
     "output_type": "display_data"
    }
   ],
   "source": [
    "#load('/mnt/diff_tau_power.RData')  # The result of last loop is already saved\n",
    "result_alltau <- data.frame(result_alltau)\n",
    "rownames(result_alltau) <- c('tau','alpha','power','adj_tau_H0','adj_tau_H1')\n",
    "save(result_alltau, file = '/home/r27user6/RMST_Code/diff_tau_power.RData')\n",
    "result_alltau"
   ]
  },
  {
   "cell_type": "markdown",
   "metadata": {},
   "source": [
    "### How alpha and beta change across different $\\tau$"
   ]
  },
  {
   "cell_type": "code",
   "execution_count": 34,
   "metadata": {
    "dotnet_interactive": {
     "language": "csharp"
    },
    "polyglot_notebook": {
     "kernelName": "csharp"
    },
    "vscode": {
     "languageId": "r"
    }
   },
   "outputs": [],
   "source": [
    "df <- as.data.frame(t(result_alltau[c(1,2,3),]))\n",
    "plot_tau_ab <- ggplot(df) +\n",
    "  geom_point(aes(x = df$tau, y = df$alpha, color = \"Alpha\"),size = 3) +\n",
    "  geom_point(aes(x = df$tau, y = df$power * 0.05  , color = \"Power\"),size = 3) +\n",
    "  geom_line(aes(x = df$tau, y = df$alpha, color = \"Alpha\")) +\n",
    "  geom_line(aes(x = df$tau, y = df$power * 0.05, color = \"Power\")) +\n",
    "  scale_x_continuous(name = \"tau\", breaks = df$tau) +\n",
    "  scale_y_continuous(limits = c(0, 0.05),\n",
    "                     sec.axis = sec_axis(trans = ~ . * 20, name = \"Power\")) +\n",
    "  scale_color_manual(values = c(\"Alpha\" = \"red\", \"Power\" = \"blue\"),\n",
    "                     labels = c(\"Alpha\", \"Power\"))+\n",
    "  theme(legend.title = element_blank(),\n",
    "        axis.title = element_text(size = 18, margin = margin(t = 20)),\n",
    "        axis.text.x = element_text(angle = 30,size = 15,margin = margin(t = 10)),\n",
    "        axis.text.y = element_text(size = 15,margin = margin(t = 10)),\n",
    "        legend.text = element_text(size = 15,margin = margin(t = 10))) +\n",
    "  guides(color = guide_legend(title = \"Scales\"))+\n",
    "  labs(x = \"tau\", y = \"Alpha\")\n",
    "\n",
    "df_2 <- as.data.frame(t(result_alltau[c(1,4,5),]))\n",
    "plot_tau_adj <- ggplot(df) +\n",
    "  geom_point(aes(x = df_2$tau, y = df_2$adj_tau_H0, color = \"adj_tau_H0\"),size = 3) +\n",
    "  geom_point(aes(x = df_2$tau, y = df_2$adj_tau_H1  , color = \"adj_tau_H1\"),size = 3) +\n",
    "  geom_line(aes(x = df_2$tau, y = df_2$adj_tau_H0, color = \"adj_tau_H0\")) +\n",
    "  geom_line(aes(x = df_2$tau, y = df_2$adj_tau_H1 , color = \"adj_tau_H1\")) +\n",
    "  scale_x_continuous(name = \"tau\", breaks = df_2$tau) +\n",
    "  scale_y_continuous(limits = c(0, 1)) +\n",
    "  scale_color_manual(values = c(\"adj_tau_H0\" = \"red\", \"adj_tau_H1\" = \"blue\"),\n",
    "                     labels = c(\"adj_tau_H0\", \"adj_tau_H1\"))+\n",
    "  theme(legend.title = element_blank(),\n",
    "        axis.title = element_text(size = 18, margin = margin(t = 20)),\n",
    "        axis.text.x = element_text(angle = 30,size = 15,margin = margin(t = 10)),\n",
    "        axis.text.y = element_text(size = 15,margin = margin(t = 10)),\n",
    "        legend.text = element_text(size = 15,margin = margin(t = 10))) +\n",
    "  guides(color = guide_legend(title = \"Scales\"))+\n",
    "  labs(x = \"tau\", y = \"Proportional of Adjusted tau Among 10000 Simulation\")"
   ]
  },
  {
   "cell_type": "code",
   "execution_count": 35,
   "metadata": {
    "dotnet_interactive": {
     "language": "csharp"
    },
    "polyglot_notebook": {
     "kernelName": "csharp"
    },
    "vscode": {
     "languageId": "r"
    }
   },
   "outputs": [
    {
     "name": "stderr",
     "output_type": "stream",
     "text": [
      "Warning message:\n",
      "“\u001b[1m\u001b[22mUse of `df$tau` is discouraged.\n",
      "\u001b[36mℹ\u001b[39m Use `tau` instead.”\n",
      "Warning message:\n",
      "“\u001b[1m\u001b[22mUse of `df$alpha` is discouraged.\n",
      "\u001b[36mℹ\u001b[39m Use `alpha` instead.”\n",
      "Warning message:\n",
      "“\u001b[1m\u001b[22mUse of `df$tau` is discouraged.\n",
      "\u001b[36mℹ\u001b[39m Use `tau` instead.”\n",
      "Warning message:\n",
      "“\u001b[1m\u001b[22mUse of `df$power` is discouraged.\n",
      "\u001b[36mℹ\u001b[39m Use `power` instead.”\n",
      "Warning message:\n",
      "“\u001b[1m\u001b[22mUse of `df$tau` is discouraged.\n",
      "\u001b[36mℹ\u001b[39m Use `tau` instead.”\n",
      "Warning message:\n",
      "“\u001b[1m\u001b[22mUse of `df$alpha` is discouraged.\n",
      "\u001b[36mℹ\u001b[39m Use `alpha` instead.”\n",
      "Warning message:\n",
      "“\u001b[1m\u001b[22mUse of `df$tau` is discouraged.\n",
      "\u001b[36mℹ\u001b[39m Use `tau` instead.”\n",
      "Warning message:\n",
      "“\u001b[1m\u001b[22mUse of `df$power` is discouraged.\n",
      "\u001b[36mℹ\u001b[39m Use `power` instead.”\n",
      "Warning message:\n",
      "“\u001b[1m\u001b[22mRemoved 5 rows containing missing values or values outside the scale range\n",
      "(`geom_point()`).”\n",
      "Warning message:\n",
      "“\u001b[1m\u001b[22mRemoved 5 rows containing missing values or values outside the scale range\n",
      "(`geom_line()`).”\n"
     ]
    },
    {
     "data": {
      "image/png": "[encoded data removed]",
      "text/plain": [
       "plot without title"
      ]
     },
     "metadata": {
      "image/png": {
       "height": 480,
       "width": 1200
      }
     },
     "output_type": "display_data"
    }
   ],
   "source": [
    "options(repr.plot.width = 20, repr.plot.height = 8)\n",
    "plot_grid(plot_tau_ab, plot_tau_adj, align = \"h\", ncol = 2)"
   ]
  },
  {
   "cell_type": "markdown",
   "metadata": {},
   "source": [
    "### The proportion of $\\tau$ adjustment across different $\\tau$ among 10000 simulations\n",
    "### The $\\tau$ here is preset for RMST test. If the proportion is too large, it means that most of the 'real' $\\tau = max(RMST_E)$ \n",
    "### *The proportion increase sharpely after $\\tau$ = 1.4, which means that the tail(right) of survival time in experiment group is more than 1.4. *\n",
    "### *And the power of this test also increase significantly in this region. We need enough follow up time to guarantee the test power.*"
   ]
  },
  {
   "cell_type": "markdown",
   "metadata": {},
   "source": [
    "## Compare our method when $\\tau = 1.4$ with one sided log rank test"
   ]
  },
  {
   "cell_type": "code",
   "execution_count": 36,
   "metadata": {
    "dotnet_interactive": {
     "language": "csharp"
    },
    "polyglot_notebook": {
     "kernelName": "csharp"
    },
    "vscode": {
     "languageId": "r"
    }
   },
   "outputs": [
    {
     "name": "stdout",
     "output_type": "stream",
     "text": [
      "9.561525"
     ]
    }
   ],
   "source": [
    "sim_size <- 10000  #simulate 10000 pairs of (E,C) under H0 and H1 respectively\n",
    "acc_time <- 1.67\n",
    "cen_time <- 1\n",
    "tau <- 1.4\n",
    "n1 <- 51\n",
    "count_rmst <- 0\n",
    "\n",
    "set.seed(2024)\n",
    "start_time <- Sys.time() \n",
    "# Under H1\n",
    "data_C <- expo_gen(N = n1 * sim_size,acc_time = acc_time, lambda = 1.609, cen_time = cen_time, arm = 0)\n",
    "data_E <- expo_gen(N = n1 * sim_size,acc_time = acc_time, lambda = 0.916, cen_time = cen_time, arm = 1)\n",
    "power_lr <- log_rank_sim(data_C = data_C, data_E = data_E,sim_size = sim_size,n = n1,alpha = 0.1, sided = 'greater') #function 4\n",
    "rmst_h1 <- RMST_sim_cal(n = n1,data_E = data_E, data_C = data_C,tau = tau,sim_size = sim_size) \n",
    "count_rmst_rej <- foreach(k = 1:sim_size, .combine = '+') %dopar% {\n",
    "        if (rmst_h1[2,k] - rmst_h1[1,k] > 0 & rmst_h1[2,k] > 0.74) # most powerful m1,n1\n",
    "            {count_rmst <- 1}\n",
    "        else\n",
    "            {count_rmst <- 0}\n",
    "        count_rmst\n",
    "      }\n",
    "\n",
    "end_time <- Sys.time()\n",
    "cat(end_time - start_time)\n"
   ]
  },
  {
   "cell_type": "code",
   "execution_count": 37,
   "metadata": {
    "dotnet_interactive": {
     "language": "csharp"
    },
    "polyglot_notebook": {
     "kernelName": "csharp"
    },
    "vscode": {
     "languageId": "r"
    }
   },
   "outputs": [
    {
     "name": "stdout",
     "output_type": "stream",
     "text": [
      "Power of log rank test = 0.9137 . Power of our method = 0.7584"
     ]
    }
   ],
   "source": [
    "cat('Power of log rank test =', power_lr, '. Power of our method =' ,count_rmst_rej/sim_size)"
   ]
  },
  {
   "cell_type": "markdown",
   "metadata": {},
   "source": [
    "--------"
   ]
  },
  {
   "cell_type": "code",
   "execution_count": null,
   "metadata": {
    "dotnet_interactive": {
     "language": "csharp"
    },
    "polyglot_notebook": {
     "kernelName": "csharp"
    },
    "vscode": {
     "languageId": "r"
    }
   },
   "outputs": [],
   "source": []
  }
 ],
 "metadata": {
  "colab": {
   "authorship_tag": "ABX9TyOLeci14sEU2EnBtPwLJzB8",
   "collapsed_sections": [
    "c0WknxSJmN4C"
   ],
   "provenance": []
  },
  "kernelspec": {
   "display_name": "R",
   "language": "R",
   "name": "ir"
  },
  "language_info": {
   "codemirror_mode": "r",
   "file_extension": ".r",
   "mimetype": "text/x-r-source",
   "name": "R",
   "pygments_lexer": "r",
   "version": "4.4.1"
  },
  "polyglot_notebook": {
   "kernelInfo": {
    "defaultKernelName": "csharp",
    "items": [
     {
      "aliases": [],
      "name": "csharp"
     }
    ]
   }
  }
 },
 "nbformat": 4,
 "nbformat_minor": 4
}
