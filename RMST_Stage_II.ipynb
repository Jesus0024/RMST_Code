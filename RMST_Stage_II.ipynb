{
 "cells": [
  {
   "cell_type": "code",
   "execution_count": 10,
   "id": "28ecca3f-ee54-4262-86e3-b6b2931698e0",
   "metadata": {
    "vscode": {
     "languageId": "r"
    }
   },
   "outputs": [
    {
     "data": {
      "text/html": [
       "<ol>\n",
       "\t<li><style>\n",
       ".list-inline {list-style: none; margin:0; padding: 0}\n",
       ".list-inline>li {display: inline-block}\n",
       ".list-inline>li:not(:last-child)::after {content: \"\\00b7\"; padding: 0 .5ex}\n",
       "</style>\n",
       "<ol class=list-inline><li>'foreach'</li><li>'simtrial'</li><li>'nph'</li><li>'mvtnorm'</li><li>'survRM2'</li><li>'survival'</li><li>'stats'</li><li>'graphics'</li><li>'grDevices'</li><li>'utils'</li><li>'datasets'</li><li>'methods'</li><li>'base'</li></ol>\n",
       "</li>\n",
       "\t<li><style>\n",
       ".list-inline {list-style: none; margin:0; padding: 0}\n",
       ".list-inline>li {display: inline-block}\n",
       ".list-inline>li:not(:last-child)::after {content: \"\\00b7\"; padding: 0 .5ex}\n",
       "</style>\n",
       "<ol class=list-inline><li>'foreach'</li><li>'simtrial'</li><li>'nph'</li><li>'mvtnorm'</li><li>'survRM2'</li><li>'survival'</li><li>'stats'</li><li>'graphics'</li><li>'grDevices'</li><li>'utils'</li><li>'datasets'</li><li>'methods'</li><li>'base'</li></ol>\n",
       "</li>\n",
       "\t<li><style>\n",
       ".list-inline {list-style: none; margin:0; padding: 0}\n",
       ".list-inline>li {display: inline-block}\n",
       ".list-inline>li:not(:last-child)::after {content: \"\\00b7\"; padding: 0 .5ex}\n",
       "</style>\n",
       "<ol class=list-inline><li>'foreach'</li><li>'simtrial'</li><li>'nph'</li><li>'mvtnorm'</li><li>'survRM2'</li><li>'survival'</li><li>'stats'</li><li>'graphics'</li><li>'grDevices'</li><li>'utils'</li><li>'datasets'</li><li>'methods'</li><li>'base'</li></ol>\n",
       "</li>\n",
       "\t<li><style>\n",
       ".list-inline {list-style: none; margin:0; padding: 0}\n",
       ".list-inline>li {display: inline-block}\n",
       ".list-inline>li:not(:last-child)::after {content: \"\\00b7\"; padding: 0 .5ex}\n",
       "</style>\n",
       "<ol class=list-inline><li>'foreach'</li><li>'simtrial'</li><li>'nph'</li><li>'mvtnorm'</li><li>'survRM2'</li><li>'survival'</li><li>'stats'</li><li>'graphics'</li><li>'grDevices'</li><li>'utils'</li><li>'datasets'</li><li>'methods'</li><li>'base'</li></ol>\n",
       "</li>\n",
       "\t<li><style>\n",
       ".list-inline {list-style: none; margin:0; padding: 0}\n",
       ".list-inline>li {display: inline-block}\n",
       ".list-inline>li:not(:last-child)::after {content: \"\\00b7\"; padding: 0 .5ex}\n",
       "</style>\n",
       "<ol class=list-inline><li>'foreach'</li><li>'simtrial'</li><li>'nph'</li><li>'mvtnorm'</li><li>'survRM2'</li><li>'survival'</li><li>'stats'</li><li>'graphics'</li><li>'grDevices'</li><li>'utils'</li><li>'datasets'</li><li>'methods'</li><li>'base'</li></ol>\n",
       "</li>\n",
       "\t<li><style>\n",
       ".list-inline {list-style: none; margin:0; padding: 0}\n",
       ".list-inline>li {display: inline-block}\n",
       ".list-inline>li:not(:last-child)::after {content: \"\\00b7\"; padding: 0 .5ex}\n",
       "</style>\n",
       "<ol class=list-inline><li>'foreach'</li><li>'simtrial'</li><li>'nph'</li><li>'mvtnorm'</li><li>'survRM2'</li><li>'survival'</li><li>'stats'</li><li>'graphics'</li><li>'grDevices'</li><li>'utils'</li><li>'datasets'</li><li>'methods'</li><li>'base'</li></ol>\n",
       "</li>\n",
       "\t<li><style>\n",
       ".list-inline {list-style: none; margin:0; padding: 0}\n",
       ".list-inline>li {display: inline-block}\n",
       ".list-inline>li:not(:last-child)::after {content: \"\\00b7\"; padding: 0 .5ex}\n",
       "</style>\n",
       "<ol class=list-inline><li>'foreach'</li><li>'simtrial'</li><li>'nph'</li><li>'mvtnorm'</li><li>'survRM2'</li><li>'survival'</li><li>'stats'</li><li>'graphics'</li><li>'grDevices'</li><li>'utils'</li><li>'datasets'</li><li>'methods'</li><li>'base'</li></ol>\n",
       "</li>\n",
       "\t<li><style>\n",
       ".list-inline {list-style: none; margin:0; padding: 0}\n",
       ".list-inline>li {display: inline-block}\n",
       ".list-inline>li:not(:last-child)::after {content: \"\\00b7\"; padding: 0 .5ex}\n",
       "</style>\n",
       "<ol class=list-inline><li>'foreach'</li><li>'simtrial'</li><li>'nph'</li><li>'mvtnorm'</li><li>'survRM2'</li><li>'survival'</li><li>'stats'</li><li>'graphics'</li><li>'grDevices'</li><li>'utils'</li><li>'datasets'</li><li>'methods'</li><li>'base'</li></ol>\n",
       "</li>\n",
       "\t<li><style>\n",
       ".list-inline {list-style: none; margin:0; padding: 0}\n",
       ".list-inline>li {display: inline-block}\n",
       ".list-inline>li:not(:last-child)::after {content: \"\\00b7\"; padding: 0 .5ex}\n",
       "</style>\n",
       "<ol class=list-inline><li>'foreach'</li><li>'simtrial'</li><li>'nph'</li><li>'mvtnorm'</li><li>'survRM2'</li><li>'survival'</li><li>'stats'</li><li>'graphics'</li><li>'grDevices'</li><li>'utils'</li><li>'datasets'</li><li>'methods'</li><li>'base'</li></ol>\n",
       "</li>\n",
       "\t<li><style>\n",
       ".list-inline {list-style: none; margin:0; padding: 0}\n",
       ".list-inline>li {display: inline-block}\n",
       ".list-inline>li:not(:last-child)::after {content: \"\\00b7\"; padding: 0 .5ex}\n",
       "</style>\n",
       "<ol class=list-inline><li>'foreach'</li><li>'simtrial'</li><li>'nph'</li><li>'mvtnorm'</li><li>'survRM2'</li><li>'survival'</li><li>'stats'</li><li>'graphics'</li><li>'grDevices'</li><li>'utils'</li><li>'datasets'</li><li>'methods'</li><li>'base'</li></ol>\n",
       "</li>\n",
       "\t<li><style>\n",
       ".list-inline {list-style: none; margin:0; padding: 0}\n",
       ".list-inline>li {display: inline-block}\n",
       ".list-inline>li:not(:last-child)::after {content: \"\\00b7\"; padding: 0 .5ex}\n",
       "</style>\n",
       "<ol class=list-inline><li>'foreach'</li><li>'simtrial'</li><li>'nph'</li><li>'mvtnorm'</li><li>'survRM2'</li><li>'survival'</li><li>'stats'</li><li>'graphics'</li><li>'grDevices'</li><li>'utils'</li><li>'datasets'</li><li>'methods'</li><li>'base'</li></ol>\n",
       "</li>\n",
       "\t<li><style>\n",
       ".list-inline {list-style: none; margin:0; padding: 0}\n",
       ".list-inline>li {display: inline-block}\n",
       ".list-inline>li:not(:last-child)::after {content: \"\\00b7\"; padding: 0 .5ex}\n",
       "</style>\n",
       "<ol class=list-inline><li>'foreach'</li><li>'simtrial'</li><li>'nph'</li><li>'mvtnorm'</li><li>'survRM2'</li><li>'survival'</li><li>'stats'</li><li>'graphics'</li><li>'grDevices'</li><li>'utils'</li><li>'datasets'</li><li>'methods'</li><li>'base'</li></ol>\n",
       "</li>\n",
       "\t<li><style>\n",
       ".list-inline {list-style: none; margin:0; padding: 0}\n",
       ".list-inline>li {display: inline-block}\n",
       ".list-inline>li:not(:last-child)::after {content: \"\\00b7\"; padding: 0 .5ex}\n",
       "</style>\n",
       "<ol class=list-inline><li>'foreach'</li><li>'simtrial'</li><li>'nph'</li><li>'mvtnorm'</li><li>'survRM2'</li><li>'survival'</li><li>'stats'</li><li>'graphics'</li><li>'grDevices'</li><li>'utils'</li><li>'datasets'</li><li>'methods'</li><li>'base'</li></ol>\n",
       "</li>\n",
       "\t<li><style>\n",
       ".list-inline {list-style: none; margin:0; padding: 0}\n",
       ".list-inline>li {display: inline-block}\n",
       ".list-inline>li:not(:last-child)::after {content: \"\\00b7\"; padding: 0 .5ex}\n",
       "</style>\n",
       "<ol class=list-inline><li>'foreach'</li><li>'simtrial'</li><li>'nph'</li><li>'mvtnorm'</li><li>'survRM2'</li><li>'survival'</li><li>'stats'</li><li>'graphics'</li><li>'grDevices'</li><li>'utils'</li><li>'datasets'</li><li>'methods'</li><li>'base'</li></ol>\n",
       "</li>\n",
       "</ol>\n"
      ],
      "text/latex": [
       "\\begin{enumerate}\n",
       "\\item \\begin{enumerate*}\n",
       "\\item 'foreach'\n",
       "\\item 'simtrial'\n",
       "\\item 'nph'\n",
       "\\item 'mvtnorm'\n",
       "\\item 'survRM2'\n",
       "\\item 'survival'\n",
       "\\item 'stats'\n",
       "\\item 'graphics'\n",
       "\\item 'grDevices'\n",
       "\\item 'utils'\n",
       "\\item 'datasets'\n",
       "\\item 'methods'\n",
       "\\item 'base'\n",
       "\\end{enumerate*}\n",
       "\n",
       "\\item \\begin{enumerate*}\n",
       "\\item 'foreach'\n",
       "\\item 'simtrial'\n",
       "\\item 'nph'\n",
       "\\item 'mvtnorm'\n",
       "\\item 'survRM2'\n",
       "\\item 'survival'\n",
       "\\item 'stats'\n",
       "\\item 'graphics'\n",
       "\\item 'grDevices'\n",
       "\\item 'utils'\n",
       "\\item 'datasets'\n",
       "\\item 'methods'\n",
       "\\item 'base'\n",
       "\\end{enumerate*}\n",
       "\n",
       "\\item \\begin{enumerate*}\n",
       "\\item 'foreach'\n",
       "\\item 'simtrial'\n",
       "\\item 'nph'\n",
       "\\item 'mvtnorm'\n",
       "\\item 'survRM2'\n",
       "\\item 'survival'\n",
       "\\item 'stats'\n",
       "\\item 'graphics'\n",
       "\\item 'grDevices'\n",
       "\\item 'utils'\n",
       "\\item 'datasets'\n",
       "\\item 'methods'\n",
       "\\item 'base'\n",
       "\\end{enumerate*}\n",
       "\n",
       "\\item \\begin{enumerate*}\n",
       "\\item 'foreach'\n",
       "\\item 'simtrial'\n",
       "\\item 'nph'\n",
       "\\item 'mvtnorm'\n",
       "\\item 'survRM2'\n",
       "\\item 'survival'\n",
       "\\item 'stats'\n",
       "\\item 'graphics'\n",
       "\\item 'grDevices'\n",
       "\\item 'utils'\n",
       "\\item 'datasets'\n",
       "\\item 'methods'\n",
       "\\item 'base'\n",
       "\\end{enumerate*}\n",
       "\n",
       "\\item \\begin{enumerate*}\n",
       "\\item 'foreach'\n",
       "\\item 'simtrial'\n",
       "\\item 'nph'\n",
       "\\item 'mvtnorm'\n",
       "\\item 'survRM2'\n",
       "\\item 'survival'\n",
       "\\item 'stats'\n",
       "\\item 'graphics'\n",
       "\\item 'grDevices'\n",
       "\\item 'utils'\n",
       "\\item 'datasets'\n",
       "\\item 'methods'\n",
       "\\item 'base'\n",
       "\\end{enumerate*}\n",
       "\n",
       "\\item \\begin{enumerate*}\n",
       "\\item 'foreach'\n",
       "\\item 'simtrial'\n",
       "\\item 'nph'\n",
       "\\item 'mvtnorm'\n",
       "\\item 'survRM2'\n",
       "\\item 'survival'\n",
       "\\item 'stats'\n",
       "\\item 'graphics'\n",
       "\\item 'grDevices'\n",
       "\\item 'utils'\n",
       "\\item 'datasets'\n",
       "\\item 'methods'\n",
       "\\item 'base'\n",
       "\\end{enumerate*}\n",
       "\n",
       "\\item \\begin{enumerate*}\n",
       "\\item 'foreach'\n",
       "\\item 'simtrial'\n",
       "\\item 'nph'\n",
       "\\item 'mvtnorm'\n",
       "\\item 'survRM2'\n",
       "\\item 'survival'\n",
       "\\item 'stats'\n",
       "\\item 'graphics'\n",
       "\\item 'grDevices'\n",
       "\\item 'utils'\n",
       "\\item 'datasets'\n",
       "\\item 'methods'\n",
       "\\item 'base'\n",
       "\\end{enumerate*}\n",
       "\n",
       "\\item \\begin{enumerate*}\n",
       "\\item 'foreach'\n",
       "\\item 'simtrial'\n",
       "\\item 'nph'\n",
       "\\item 'mvtnorm'\n",
       "\\item 'survRM2'\n",
       "\\item 'survival'\n",
       "\\item 'stats'\n",
       "\\item 'graphics'\n",
       "\\item 'grDevices'\n",
       "\\item 'utils'\n",
       "\\item 'datasets'\n",
       "\\item 'methods'\n",
       "\\item 'base'\n",
       "\\end{enumerate*}\n",
       "\n",
       "\\item \\begin{enumerate*}\n",
       "\\item 'foreach'\n",
       "\\item 'simtrial'\n",
       "\\item 'nph'\n",
       "\\item 'mvtnorm'\n",
       "\\item 'survRM2'\n",
       "\\item 'survival'\n",
       "\\item 'stats'\n",
       "\\item 'graphics'\n",
       "\\item 'grDevices'\n",
       "\\item 'utils'\n",
       "\\item 'datasets'\n",
       "\\item 'methods'\n",
       "\\item 'base'\n",
       "\\end{enumerate*}\n",
       "\n",
       "\\item \\begin{enumerate*}\n",
       "\\item 'foreach'\n",
       "\\item 'simtrial'\n",
       "\\item 'nph'\n",
       "\\item 'mvtnorm'\n",
       "\\item 'survRM2'\n",
       "\\item 'survival'\n",
       "\\item 'stats'\n",
       "\\item 'graphics'\n",
       "\\item 'grDevices'\n",
       "\\item 'utils'\n",
       "\\item 'datasets'\n",
       "\\item 'methods'\n",
       "\\item 'base'\n",
       "\\end{enumerate*}\n",
       "\n",
       "\\item \\begin{enumerate*}\n",
       "\\item 'foreach'\n",
       "\\item 'simtrial'\n",
       "\\item 'nph'\n",
       "\\item 'mvtnorm'\n",
       "\\item 'survRM2'\n",
       "\\item 'survival'\n",
       "\\item 'stats'\n",
       "\\item 'graphics'\n",
       "\\item 'grDevices'\n",
       "\\item 'utils'\n",
       "\\item 'datasets'\n",
       "\\item 'methods'\n",
       "\\item 'base'\n",
       "\\end{enumerate*}\n",
       "\n",
       "\\item \\begin{enumerate*}\n",
       "\\item 'foreach'\n",
       "\\item 'simtrial'\n",
       "\\item 'nph'\n",
       "\\item 'mvtnorm'\n",
       "\\item 'survRM2'\n",
       "\\item 'survival'\n",
       "\\item 'stats'\n",
       "\\item 'graphics'\n",
       "\\item 'grDevices'\n",
       "\\item 'utils'\n",
       "\\item 'datasets'\n",
       "\\item 'methods'\n",
       "\\item 'base'\n",
       "\\end{enumerate*}\n",
       "\n",
       "\\item \\begin{enumerate*}\n",
       "\\item 'foreach'\n",
       "\\item 'simtrial'\n",
       "\\item 'nph'\n",
       "\\item 'mvtnorm'\n",
       "\\item 'survRM2'\n",
       "\\item 'survival'\n",
       "\\item 'stats'\n",
       "\\item 'graphics'\n",
       "\\item 'grDevices'\n",
       "\\item 'utils'\n",
       "\\item 'datasets'\n",
       "\\item 'methods'\n",
       "\\item 'base'\n",
       "\\end{enumerate*}\n",
       "\n",
       "\\item \\begin{enumerate*}\n",
       "\\item 'foreach'\n",
       "\\item 'simtrial'\n",
       "\\item 'nph'\n",
       "\\item 'mvtnorm'\n",
       "\\item 'survRM2'\n",
       "\\item 'survival'\n",
       "\\item 'stats'\n",
       "\\item 'graphics'\n",
       "\\item 'grDevices'\n",
       "\\item 'utils'\n",
       "\\item 'datasets'\n",
       "\\item 'methods'\n",
       "\\item 'base'\n",
       "\\end{enumerate*}\n",
       "\n",
       "\\end{enumerate}\n"
      ],
      "text/markdown": [
       "1. 1. 'foreach'\n",
       "2. 'simtrial'\n",
       "3. 'nph'\n",
       "4. 'mvtnorm'\n",
       "5. 'survRM2'\n",
       "6. 'survival'\n",
       "7. 'stats'\n",
       "8. 'graphics'\n",
       "9. 'grDevices'\n",
       "10. 'utils'\n",
       "11. 'datasets'\n",
       "12. 'methods'\n",
       "13. 'base'\n",
       "\n",
       "\n",
       "\n",
       "2. 1. 'foreach'\n",
       "2. 'simtrial'\n",
       "3. 'nph'\n",
       "4. 'mvtnorm'\n",
       "5. 'survRM2'\n",
       "6. 'survival'\n",
       "7. 'stats'\n",
       "8. 'graphics'\n",
       "9. 'grDevices'\n",
       "10. 'utils'\n",
       "11. 'datasets'\n",
       "12. 'methods'\n",
       "13. 'base'\n",
       "\n",
       "\n",
       "\n",
       "3. 1. 'foreach'\n",
       "2. 'simtrial'\n",
       "3. 'nph'\n",
       "4. 'mvtnorm'\n",
       "5. 'survRM2'\n",
       "6. 'survival'\n",
       "7. 'stats'\n",
       "8. 'graphics'\n",
       "9. 'grDevices'\n",
       "10. 'utils'\n",
       "11. 'datasets'\n",
       "12. 'methods'\n",
       "13. 'base'\n",
       "\n",
       "\n",
       "\n",
       "4. 1. 'foreach'\n",
       "2. 'simtrial'\n",
       "3. 'nph'\n",
       "4. 'mvtnorm'\n",
       "5. 'survRM2'\n",
       "6. 'survival'\n",
       "7. 'stats'\n",
       "8. 'graphics'\n",
       "9. 'grDevices'\n",
       "10. 'utils'\n",
       "11. 'datasets'\n",
       "12. 'methods'\n",
       "13. 'base'\n",
       "\n",
       "\n",
       "\n",
       "5. 1. 'foreach'\n",
       "2. 'simtrial'\n",
       "3. 'nph'\n",
       "4. 'mvtnorm'\n",
       "5. 'survRM2'\n",
       "6. 'survival'\n",
       "7. 'stats'\n",
       "8. 'graphics'\n",
       "9. 'grDevices'\n",
       "10. 'utils'\n",
       "11. 'datasets'\n",
       "12. 'methods'\n",
       "13. 'base'\n",
       "\n",
       "\n",
       "\n",
       "6. 1. 'foreach'\n",
       "2. 'simtrial'\n",
       "3. 'nph'\n",
       "4. 'mvtnorm'\n",
       "5. 'survRM2'\n",
       "6. 'survival'\n",
       "7. 'stats'\n",
       "8. 'graphics'\n",
       "9. 'grDevices'\n",
       "10. 'utils'\n",
       "11. 'datasets'\n",
       "12. 'methods'\n",
       "13. 'base'\n",
       "\n",
       "\n",
       "\n",
       "7. 1. 'foreach'\n",
       "2. 'simtrial'\n",
       "3. 'nph'\n",
       "4. 'mvtnorm'\n",
       "5. 'survRM2'\n",
       "6. 'survival'\n",
       "7. 'stats'\n",
       "8. 'graphics'\n",
       "9. 'grDevices'\n",
       "10. 'utils'\n",
       "11. 'datasets'\n",
       "12. 'methods'\n",
       "13. 'base'\n",
       "\n",
       "\n",
       "\n",
       "8. 1. 'foreach'\n",
       "2. 'simtrial'\n",
       "3. 'nph'\n",
       "4. 'mvtnorm'\n",
       "5. 'survRM2'\n",
       "6. 'survival'\n",
       "7. 'stats'\n",
       "8. 'graphics'\n",
       "9. 'grDevices'\n",
       "10. 'utils'\n",
       "11. 'datasets'\n",
       "12. 'methods'\n",
       "13. 'base'\n",
       "\n",
       "\n",
       "\n",
       "9. 1. 'foreach'\n",
       "2. 'simtrial'\n",
       "3. 'nph'\n",
       "4. 'mvtnorm'\n",
       "5. 'survRM2'\n",
       "6. 'survival'\n",
       "7. 'stats'\n",
       "8. 'graphics'\n",
       "9. 'grDevices'\n",
       "10. 'utils'\n",
       "11. 'datasets'\n",
       "12. 'methods'\n",
       "13. 'base'\n",
       "\n",
       "\n",
       "\n",
       "10. 1. 'foreach'\n",
       "2. 'simtrial'\n",
       "3. 'nph'\n",
       "4. 'mvtnorm'\n",
       "5. 'survRM2'\n",
       "6. 'survival'\n",
       "7. 'stats'\n",
       "8. 'graphics'\n",
       "9. 'grDevices'\n",
       "10. 'utils'\n",
       "11. 'datasets'\n",
       "12. 'methods'\n",
       "13. 'base'\n",
       "\n",
       "\n",
       "\n",
       "11. 1. 'foreach'\n",
       "2. 'simtrial'\n",
       "3. 'nph'\n",
       "4. 'mvtnorm'\n",
       "5. 'survRM2'\n",
       "6. 'survival'\n",
       "7. 'stats'\n",
       "8. 'graphics'\n",
       "9. 'grDevices'\n",
       "10. 'utils'\n",
       "11. 'datasets'\n",
       "12. 'methods'\n",
       "13. 'base'\n",
       "\n",
       "\n",
       "\n",
       "12. 1. 'foreach'\n",
       "2. 'simtrial'\n",
       "3. 'nph'\n",
       "4. 'mvtnorm'\n",
       "5. 'survRM2'\n",
       "6. 'survival'\n",
       "7. 'stats'\n",
       "8. 'graphics'\n",
       "9. 'grDevices'\n",
       "10. 'utils'\n",
       "11. 'datasets'\n",
       "12. 'methods'\n",
       "13. 'base'\n",
       "\n",
       "\n",
       "\n",
       "13. 1. 'foreach'\n",
       "2. 'simtrial'\n",
       "3. 'nph'\n",
       "4. 'mvtnorm'\n",
       "5. 'survRM2'\n",
       "6. 'survival'\n",
       "7. 'stats'\n",
       "8. 'graphics'\n",
       "9. 'grDevices'\n",
       "10. 'utils'\n",
       "11. 'datasets'\n",
       "12. 'methods'\n",
       "13. 'base'\n",
       "\n",
       "\n",
       "\n",
       "14. 1. 'foreach'\n",
       "2. 'simtrial'\n",
       "3. 'nph'\n",
       "4. 'mvtnorm'\n",
       "5. 'survRM2'\n",
       "6. 'survival'\n",
       "7. 'stats'\n",
       "8. 'graphics'\n",
       "9. 'grDevices'\n",
       "10. 'utils'\n",
       "11. 'datasets'\n",
       "12. 'methods'\n",
       "13. 'base'\n",
       "\n",
       "\n",
       "\n",
       "\n",
       "\n"
      ],
      "text/plain": [
       "[[1]]\n",
       " [1] \"foreach\"   \"simtrial\"  \"nph\"       \"mvtnorm\"   \"survRM2\"   \"survival\" \n",
       " [7] \"stats\"     \"graphics\"  \"grDevices\" \"utils\"     \"datasets\"  \"methods\"  \n",
       "[13] \"base\"     \n",
       "\n",
       "[[2]]\n",
       " [1] \"foreach\"   \"simtrial\"  \"nph\"       \"mvtnorm\"   \"survRM2\"   \"survival\" \n",
       " [7] \"stats\"     \"graphics\"  \"grDevices\" \"utils\"     \"datasets\"  \"methods\"  \n",
       "[13] \"base\"     \n",
       "\n",
       "[[3]]\n",
       " [1] \"foreach\"   \"simtrial\"  \"nph\"       \"mvtnorm\"   \"survRM2\"   \"survival\" \n",
       " [7] \"stats\"     \"graphics\"  \"grDevices\" \"utils\"     \"datasets\"  \"methods\"  \n",
       "[13] \"base\"     \n",
       "\n",
       "[[4]]\n",
       " [1] \"foreach\"   \"simtrial\"  \"nph\"       \"mvtnorm\"   \"survRM2\"   \"survival\" \n",
       " [7] \"stats\"     \"graphics\"  \"grDevices\" \"utils\"     \"datasets\"  \"methods\"  \n",
       "[13] \"base\"     \n",
       "\n",
       "[[5]]\n",
       " [1] \"foreach\"   \"simtrial\"  \"nph\"       \"mvtnorm\"   \"survRM2\"   \"survival\" \n",
       " [7] \"stats\"     \"graphics\"  \"grDevices\" \"utils\"     \"datasets\"  \"methods\"  \n",
       "[13] \"base\"     \n",
       "\n",
       "[[6]]\n",
       " [1] \"foreach\"   \"simtrial\"  \"nph\"       \"mvtnorm\"   \"survRM2\"   \"survival\" \n",
       " [7] \"stats\"     \"graphics\"  \"grDevices\" \"utils\"     \"datasets\"  \"methods\"  \n",
       "[13] \"base\"     \n",
       "\n",
       "[[7]]\n",
       " [1] \"foreach\"   \"simtrial\"  \"nph\"       \"mvtnorm\"   \"survRM2\"   \"survival\" \n",
       " [7] \"stats\"     \"graphics\"  \"grDevices\" \"utils\"     \"datasets\"  \"methods\"  \n",
       "[13] \"base\"     \n",
       "\n",
       "[[8]]\n",
       " [1] \"foreach\"   \"simtrial\"  \"nph\"       \"mvtnorm\"   \"survRM2\"   \"survival\" \n",
       " [7] \"stats\"     \"graphics\"  \"grDevices\" \"utils\"     \"datasets\"  \"methods\"  \n",
       "[13] \"base\"     \n",
       "\n",
       "[[9]]\n",
       " [1] \"foreach\"   \"simtrial\"  \"nph\"       \"mvtnorm\"   \"survRM2\"   \"survival\" \n",
       " [7] \"stats\"     \"graphics\"  \"grDevices\" \"utils\"     \"datasets\"  \"methods\"  \n",
       "[13] \"base\"     \n",
       "\n",
       "[[10]]\n",
       " [1] \"foreach\"   \"simtrial\"  \"nph\"       \"mvtnorm\"   \"survRM2\"   \"survival\" \n",
       " [7] \"stats\"     \"graphics\"  \"grDevices\" \"utils\"     \"datasets\"  \"methods\"  \n",
       "[13] \"base\"     \n",
       "\n",
       "[[11]]\n",
       " [1] \"foreach\"   \"simtrial\"  \"nph\"       \"mvtnorm\"   \"survRM2\"   \"survival\" \n",
       " [7] \"stats\"     \"graphics\"  \"grDevices\" \"utils\"     \"datasets\"  \"methods\"  \n",
       "[13] \"base\"     \n",
       "\n",
       "[[12]]\n",
       " [1] \"foreach\"   \"simtrial\"  \"nph\"       \"mvtnorm\"   \"survRM2\"   \"survival\" \n",
       " [7] \"stats\"     \"graphics\"  \"grDevices\" \"utils\"     \"datasets\"  \"methods\"  \n",
       "[13] \"base\"     \n",
       "\n",
       "[[13]]\n",
       " [1] \"foreach\"   \"simtrial\"  \"nph\"       \"mvtnorm\"   \"survRM2\"   \"survival\" \n",
       " [7] \"stats\"     \"graphics\"  \"grDevices\" \"utils\"     \"datasets\"  \"methods\"  \n",
       "[13] \"base\"     \n",
       "\n",
       "[[14]]\n",
       " [1] \"foreach\"   \"simtrial\"  \"nph\"       \"mvtnorm\"   \"survRM2\"   \"survival\" \n",
       " [7] \"stats\"     \"graphics\"  \"grDevices\" \"utils\"     \"datasets\"  \"methods\"  \n",
       "[13] \"base\"     \n"
      ]
     },
     "metadata": {},
     "output_type": "display_data"
    },
    {
     "data": {
      "application/javascript": "\nvar cell = Jupyter.notebook.get_selected_cell();\ncell.metadata.hide_output = true;\nJupyter.notebook.set_dirty(true);\n"
     },
     "metadata": {},
     "output_type": "display_data"
    }
   ],
   "source": [
    "if (!require(survRM2)) install.packages('survRM2')\n",
    "library('survRM2') \n",
    "if (!require(mvtnorm)) install.packages('mvtnorm')\n",
    "library('mvtnorm')\n",
    "if (!require(survival)) install.packages('survival')\n",
    "library('survival')\n",
    "if (!require(nph)) install.packages('nph')\n",
    "library('nph')\n",
    "if (!require(foreach)) install.packages(\"foreach\")\n",
    "library('foreach') \n",
    "if (!require(doParallel)) install.packages(\"doParallel\")\n",
    "library('doParallel')\n",
    "if (!require(ggplot2)) install.packages(\"ggplot2\")\n",
    "library('ggplot2')\n",
    "if (!require(cowplot)) install.packages(\"cowplot\")\n",
    "library('cowplot')\n",
    "if (!require(IRdisplay)) install.packages(\"IRdisplay\")\n",
    "library('IRdisplay')\n",
    "\n",
    "n_cores <- detectCores()\n",
    "cluster <- makeCluster(14) # How many cores we use\n",
    "registerDoParallel(cluster)\n",
    "# multi thread\n",
    "clusterEvalQ(cluster, #import packages to parallel \n",
    "  {\n",
    "  library('survRM2')\n",
    "  library('mvtnorm')\n",
    "  library('survival')\n",
    "  library('nph')\n",
    "  library(\"simtrial\")\n",
    "  library(\"foreach\")\n",
    "  })\n",
    "\n",
    "source('/home/r27user6/RMST_Code/Function.R')\n",
    "clusterExport(cluster, \"expo_gen_2stages\")\n",
    "\n",
    "display_javascript('\n",
    "var cell = Jupyter.notebook.get_selected_cell();\n",
    "cell.metadata.hide_output = true;\n",
    "Jupyter.notebook.set_dirty(true);\n",
    "')"
   ]
  },
  {
   "cell_type": "markdown",
   "id": "8816dcc4-a4a5-4875-97c1-02713be1a24f",
   "metadata": {},
   "source": [
    "## Theoretical RMST ($\\tau = 1$). No censoring"
   ]
  },
  {
   "cell_type": "code",
   "execution_count": 5,
   "id": "21d615df-eb31-4049-b777-663b1d2d2f0b",
   "metadata": {
    "vscode": {
     "languageId": "r"
    }
   },
   "outputs": [
    {
     "data": {
      "text/html": [
       "<table class=\"dataframe\">\n",
       "<caption>A data.frame: 1 × 2</caption>\n",
       "<thead>\n",
       "\t<tr><th scope=col>RMST</th><th scope=col>RSDST</th></tr>\n",
       "\t<tr><th scope=col>&lt;dbl&gt;</th><th scope=col>&lt;dbl&gt;</th></tr>\n",
       "</thead>\n",
       "<tbody>\n",
       "\t<tr><td>0.4971488</td><td>0.1220925</td></tr>\n",
       "</tbody>\n",
       "</table>\n"
      ],
      "text/latex": [
       "A data.frame: 1 × 2\n",
       "\\begin{tabular}{ll}\n",
       " RMST & RSDST\\\\\n",
       " <dbl> & <dbl>\\\\\n",
       "\\hline\n",
       "\t 0.4971488 & 0.1220925\\\\\n",
       "\\end{tabular}\n"
      ],
      "text/markdown": [
       "\n",
       "A data.frame: 1 × 2\n",
       "\n",
       "| RMST &lt;dbl&gt; | RSDST &lt;dbl&gt; |\n",
       "|---|---|\n",
       "| 0.4971488 | 0.1220925 |\n",
       "\n"
      ],
      "text/plain": [
       "  RMST      RSDST    \n",
       "1 0.4971488 0.1220925"
      ]
     },
     "metadata": {},
     "output_type": "display_data"
    },
    {
     "data": {
      "text/html": [
       "<table class=\"dataframe\">\n",
       "<caption>A data.frame: 1 × 2</caption>\n",
       "<thead>\n",
       "\t<tr><th scope=col>RMST</th><th scope=col>RSDST</th></tr>\n",
       "\t<tr><th scope=col>&lt;dbl&gt;</th><th scope=col>&lt;dbl&gt;</th></tr>\n",
       "</thead>\n",
       "<tbody>\n",
       "\t<tr><td>0.6548949</td><td>0.1273978</td></tr>\n",
       "</tbody>\n",
       "</table>\n"
      ],
      "text/latex": [
       "A data.frame: 1 × 2\n",
       "\\begin{tabular}{ll}\n",
       " RMST & RSDST\\\\\n",
       " <dbl> & <dbl>\\\\\n",
       "\\hline\n",
       "\t 0.6548949 & 0.1273978\\\\\n",
       "\\end{tabular}\n"
      ],
      "text/markdown": [
       "\n",
       "A data.frame: 1 × 2\n",
       "\n",
       "| RMST &lt;dbl&gt; | RSDST &lt;dbl&gt; |\n",
       "|---|---|\n",
       "| 0.6548949 | 0.1273978 |\n",
       "\n"
      ],
      "text/plain": [
       "  RMST      RSDST    \n",
       "1 0.6548949 0.1273978"
      ]
     },
     "metadata": {},
     "output_type": "display_data"
    }
   ],
   "source": [
    "acc_time <- 1.67\n",
    "cen_time <- 1\n",
    "lambda_H0 <- 1.609\n",
    "lambda_H1 <- 0.916\n",
    "\n",
    "RMST_RSDST(lambda = lambda_H0, tau = 1)   # detail in Function file\n",
    "RMST_RSDST(lambda = lambda_H1, tau = 1)"
   ]
  },
  {
   "cell_type": "markdown",
   "id": "67cdf9df-ae2b-4450-ab45-2486e6d7d68b",
   "metadata": {},
   "source": [
    "### RMST Estimation with censoring in interim 1 year"
   ]
  },
  {
   "cell_type": "code",
   "execution_count": 6,
   "id": "b7aa8ac8-0d32-4ce6-92a0-db91ac542432",
   "metadata": {
    "vscode": {
     "languageId": "r"
    }
   },
   "outputs": [
    {
     "name": "stdout",
     "output_type": "stream",
     "text": [
      "RMST of Control arm is: 0.3130104 \n",
      "Variance of RMST estimation of Control arm is: 1.382051e-05 \n",
      "RMST of Experiment arm is: 0.3769386 \n",
      "Variance of RMST estimation of Experiment arm is: 1.697566e-05"
     ]
    },
    {
     "data": {
      "image/png": "[encoded data removed]",
      "text/plain": [
       "Plot with title “Survival Curves”"
      ]
     },
     "metadata": {
      "image/png": {
       "height": 420,
       "width": 420
      }
     },
     "output_type": "display_data"
    }
   ],
   "source": [
    "set.seed(2024)\n",
    "data_C <- expo_gen_2stages(N = 10000, acc_time = acc_time, lambda = lambda_H0, \n",
    "                           dist = 'exp', cen_time = cen_time, arm = 0, interim = 1)[ , c(2,3,1)]\n",
    "data_E <- expo_gen_2stages(N = 10000 ,acc_time = acc_time, lambda = lambda_H1, \n",
    "                           dist = 'exp', cen_time = cen_time, arm = 1, interim = 1)[ , c(2,3,1)]\n",
    "pre_data <- rbind(data_C,data_E)\n",
    "rmst_result_int <- rmst2(pre_data[,1], pre_data[,2], pre_data[,3],tau = 0.96)\n",
    "\n",
    "cat('RMST of Control arm is:',rmst_result_int$RMST.arm0$rmst[1],'\\n')\n",
    "cat('Variance of RMST estimation of Control arm is:',rmst_result_int$RMST.arm0$rmst.var,'\\n')\n",
    "cat('RMST of Experiment arm is:',rmst_result_int$RMST.arm1$rmst[1],'\\n')\n",
    "cat('Variance of RMST estimation of Experiment arm is:',rmst_result_int$RMST.arm1$rmst.var)\n",
    "fit <- survfit(Surv(pre_data[,1], pre_data[,2]) ~ pre_data[,3])\n",
    "plot(fit, col = c(\"blue\", \"red\"), lwd = 2, xlab = \"Time\", ylab = \"Survival Probability\", main = \"Survival Curves\")\n",
    "legend(\"topright\", legend = c(\"Control\", \"Experiment\"), col = c(\"blue\", \"red\"), lwd = 2, bty = \"n\")"
   ]
  },
  {
   "cell_type": "markdown",
   "id": "3b7fd4ea",
   "metadata": {},
   "source": [
    "### RMST Estimation with censoring in the whole 2 study"
   ]
  },
  {
   "cell_type": "code",
   "execution_count": 7,
   "id": "abbb901c",
   "metadata": {
    "vscode": {
     "languageId": "r"
    }
   },
   "outputs": [
    {
     "name": "stdout",
     "output_type": "stream",
     "text": [
      "RMST of Control arm is: 0.4078671 \n",
      "Variance of RMST estimation of Control arm is: 1.113824e-05 \n",
      "RMST of Experiment arm is: 0.5360892 \n",
      "Variance of RMST estimation of Experiment arm is: 1.372996e-05"
     ]
    },
    {
     "data": {
      "image/png": "[encoded data removed]",
      "text/plain": [
       "Plot with title “Survival Curves”"
      ]
     },
     "metadata": {
      "image/png": {
       "height": 420,
       "width": 420
      }
     },
     "output_type": "display_data"
    }
   ],
   "source": [
    "set.seed(2024)\n",
    "data_C <- expo_gen_2stages(N = 10000, acc_time = acc_time, lambda = lambda_H0, \n",
    "                           dist = 'exp', cen_time = cen_time, arm = 0, interim = 1)[ , c(4,5,1)]\n",
    "data_E <- expo_gen_2stages(N = 10000 ,acc_time = acc_time, lambda = lambda_H1, \n",
    "                           dist = 'exp', cen_time = cen_time, arm = 1, interim = 1)[ , c(4,5,1)]\n",
    "pre_data <- rbind(data_C,data_E)\n",
    "rmst_result_all <- rmst2(pre_data[,1], pre_data[,2], pre_data[,3],tau = 1)\n",
    "\n",
    "cat('RMST of Control arm is:',rmst_result_all$RMST.arm0$rmst[1],'\\n')\n",
    "cat('Variance of RMST estimation of Control arm is:',rmst_result_all$RMST.arm0$rmst.var,'\\n')\n",
    "cat('RMST of Experiment arm is:',rmst_result_all$RMST.arm1$rmst[1],'\\n')\n",
    "cat('Variance of RMST estimation of Experiment arm is:',rmst_result_all$RMST.arm1$rmst.var)\n",
    "fit <- survfit(Surv(pre_data[,1], pre_data[,2]) ~ pre_data[,3])\n",
    "plot(fit, col = c(\"blue\", \"red\"), lwd = 2, xlab = \"Time\", ylab = \"Survival Probability\", main = \"Survival Curves\")\n",
    "legend(\"topright\", legend = c(\"Control\", \"Experiment\"), col = c(\"blue\", \"red\"), lwd = 2, bty = \"n\")"
   ]
  },
  {
   "cell_type": "markdown",
   "id": "3732b1f9-68b1-48bc-b9f1-d0458d1af084",
   "metadata": {},
   "source": [
    "# Prob of Early Termination by Normal integral:"
   ]
  },
  {
   "cell_type": "markdown",
   "id": "f15af843",
   "metadata": {},
   "source": [
    "### Use the normality of RMST to calculate the Prob of Early terminaton\n",
    "###  $P(E(\\tau_1) - C(\\tau_1) > m1\\ and\\  E(\\tau_1) > t1\\ |H_0)$\n",
    "### $(E-C,E)$ is bivariate normal. $E$ and $C$ are independent.\n",
    "### The covariance matrix $\\Sigma$ of $(E-C, E)$ can be easily obtained\n",
    "### we set $m_1 = 0, t_1 = 0.3$ here "
   ]
  },
  {
   "cell_type": "code",
   "execution_count": 8,
   "id": "8358eeed-1448-4380-aad2-1befa1d0a4cf",
   "metadata": {
    "vscode": {
     "languageId": "r"
    }
   },
   "outputs": [
    {
     "name": "stdout",
     "output_type": "stream",
     "text": [
      " PET0 = 0.9999976 \n",
      " PET1 = 0"
     ]
    }
   ],
   "source": [
    "mu_c <- rmst_result_int$RMST.arm0$rmst[1]\n",
    "mu_e <- rmst_result_int$RMST.arm1$rmst[1]\n",
    "var_c <- rmst_result_int$RMST.arm0$rmst.var\n",
    "var_e <- rmst_result_int$RMST.arm1$rmst.var\n",
    "\n",
    "mu_h0 <- c(0, mu_c)\n",
    "sigma_h0 <- matrix(c(2*var_c, var_c, var_c, var_c), nrow = 2)\n",
    "mu_h1 <- c(mu_e-mu_c, mu_e)\n",
    "sigma_h1 <- matrix(c(var_e+var_c, var_e, var_e, var_c), nrow = 2)\n",
    "upper <- c(Inf, Inf)\n",
    "\n",
    "lower <- c(-0.19,0.33)\n",
    "p_rj_h0 <- 1 - pmvnorm(lower, upper, mean = mu_h0, sigma = sigma_h0) # p(E-C>m1 & E>t1|H0)\n",
    "p_rj_h1 <- 1 - pmvnorm(lower, upper, mean = mu_h1, sigma = sigma_h1)\n",
    "cat(' PET0 =',p_rj_h0,'\\n','PET1 =',p_rj_h1)"
   ]
  },
  {
   "cell_type": "markdown",
   "id": "e616aac9-e8d7-47ce-8e51-65549049e6fb",
   "metadata": {},
   "source": [
    "### 10000 simulation (Same setting as Jung 2017)"
   ]
  },
  {
   "cell_type": "code",
   "execution_count": 78,
   "id": "280e1e7c-238e-413d-8a84-9b9295044ea4",
   "metadata": {
    "vscode": {
     "languageId": "r"
    }
   },
   "outputs": [
    {
     "name": "stdout",
     "output_type": "stream",
     "text": [
      " Empirical PET0 = 0.7079 \n",
      " Empirical PET1 =  0.3796"
     ]
    }
   ],
   "source": [
    "sim_size <- 10000 \n",
    "acc_time <- 1.67\n",
    "cen_time <- 1\n",
    "lambda_H0 <- 1.609\n",
    "lambda_H1 <- 0.916\n",
    "set.seed(2024)\n",
    "n1 <- 31 \n",
    "m1 <- -0.19\n",
    "t1 <- 0.33\n",
    "\n",
    "# Use the data in interim period\n",
    "data_C <- foreach(k = 1:sim_size, .combine = 'rbind') %dopar% {\n",
    "        expo_gen_2stages(N = n, acc_time = acc_time, lambda = lambda_H0, dist = 'exp', \n",
    "                         cen_time = cen_time,arm = 0, interim = interim)\n",
    "                        }\n",
    "data_E_H0 <- foreach(k = 1:sim_size, .combine = 'rbind') %dopar% {\n",
    "        expo_gen_2stages(N = n, acc_time = acc_time, lambda = lambda_H0, dist = 'exp', \n",
    "                         cen_time = cen_time,arm = 1, interim = interim)\n",
    "                        }   \n",
    "data_E_H1 <- foreach(k = 1:sim_size, .combine = 'rbind') %dopar% {\n",
    "        expo_gen_2stages(N = n, acc_time = acc_time, lambda = lambda_H1, dist = 'exp', \n",
    "                         cen_time = cen_time,arm = 1, interim = interim)\n",
    "                        }     \n",
    "rmst_h0 <- RMST_sim_cal(n = n1,data_E = data_E_H0[ , c(2,3,1)], data_C = data_C[ , c(2,3,1)],\n",
    "                        tau = 2,sim_size = sim_size)\n",
    "rmst_h1 <- RMST_sim_cal(n = n1,data_E = data_E_H1[ , c(2,3,1)], data_C = data_C[ , c(2,3,1)],\n",
    "                        tau = 2,sim_size = sim_size)\n",
    "\n",
    "proc_h0 <- sum((rmst_h0[2, ] - rmst_h0[1, ] > m1) & (rmst_h0[2, ] > t1))\n",
    "proc_h1 <- sum((rmst_h1[2, ] - rmst_h1[1, ] > m1) & (rmst_h1[2, ] > t1))\n",
    "\n",
    "cat(' Empirical PET0 =', 1-proc_h0/sim_size,'\\n', 'Empirical PET1 = ',1-proc_h1/sim_size)"
   ]
  },
  {
   "cell_type": "markdown",
   "id": "b3d9b857-4cfc-4c5a-9c27-594c17d6d3e5",
   "metadata": {},
   "source": [
    "### <font color=LightSeaGreen>The simulated value vary from the theoratical normal calculation.\n",
    "### The censoring may affact the normality of RMST?"
   ]
  },
  {
   "cell_type": "markdown",
   "id": "5b49c983",
   "metadata": {},
   "source": [
    "# 2 stages Experiment"
   ]
  },
  {
   "cell_type": "markdown",
   "id": "3bd5677a-8aa2-401a-949c-f129e1bc5d83",
   "metadata": {},
   "source": [
    "### Setting: acc_time = 1.67, cen_time = 1, interim $\\tau_1 = 1$\n",
    "###  $H_0 : \\lambda_0 = \\lambda_1 = 1.609$    \n",
    "###  $H_1 : \\lambda_0 = 1.609,\\ \\lambda_1 = 0.916$  \n",
    "### α = 0.1, power = 0.9. Sample size = 102 (51 per arm)   \n",
    "### censoring dist in interim: $\\tilde{C_i} \\sim U[0,\\tau_1]$. After interim: $C_i \\sim U[b=1,a+b=2.67]$"
   ]
  },
  {
   "cell_type": "code",
   "execution_count": 7,
   "id": "14d3aa59-b331-4077-9b26-dc623d7d60da",
   "metadata": {
    "vscode": {
     "languageId": "r"
    }
   },
   "outputs": [],
   "source": [
    "sim_size <- 10000 \n",
    "acc_time <- 1.67\n",
    "cen_time <- 1\n",
    "lambda_H0 <- 1.609\n",
    "lambda_H1 <- 0.916\n",
    "interim <- 1\n",
    "set.seed(2024)\n",
    "n <- 51 \n",
    "\n",
    "# Use the data for all 2 stages. \n",
    "data_C <- expo_gen_2stages(N = n * sim_size, acc_time = acc_time, lambda = lambda_H0, dist = 'exp', \n",
    "                           cen_time = cen_time,arm = 0, interim = interim)    \n",
    "data_E_H0 <- expo_gen_2stages(N = n * sim_size, acc_time = acc_time, lambda = lambda_H0, dist = 'exp', \n",
    "                                cen_time = cen_time,arm = 1, interim = interim)\n",
    "data_E_H1 <- expo_gen_2stages(N = n * sim_size, acc_time = acc_time, lambda = lambda_H1, dist = 'exp', \n",
    "                                cen_time = cen_time,arm = 1, interim = interim)                             \n"
   ]
  },
  {
   "cell_type": "markdown",
   "id": "03c968bb-26cb-49d7-ad32-b7f386f7bec9",
   "metadata": {},
   "source": [
    "### Stage I : process to stage II when:  \n",
    "###  $\\textcolor{lightgreen}{E(\\tau_1) - C(\\tau_1) > m_1\\ \\&\\  E(\\tau_1) > t_1}$\n",
    "### Search for a suitable $m_1, t_1$ .m1 from -0.5 to 0.5, t1 from 0 to 1"
   ]
  },
  {
   "cell_type": "code",
   "execution_count": 8,
   "id": "3b1c1d28-7b85-483d-92e4-017115b7616c",
   "metadata": {
    "vscode": {
     "languageId": "r"
    }
   },
   "outputs": [
    {
     "name": "stdout",
     "output_type": "stream",
     "text": [
      "8.67152"
     ]
    }
   ],
   "source": [
    "set.seed(2024)\n",
    "start_time <- Sys.time()\n",
    "\n",
    "data_C_int <- data_C[ , c(2,3,1)]  # In the order of (obs_time, event, arm) for RMST test\n",
    "data_E_H0_int <- data_E_H0[ , c(2,3,1)]\n",
    "data_E_H1_int <- data_E_H1[ , c(2,3,1)]\n",
    "\n",
    "# Here there should be n samples in interim but some are (0,0) these are samples at the second stage.\n",
    "rmst_h0_int <- RMST_sim_cal(n = n,data_E = data_E_H0_int, data_C = data_C_int,tau = interim,sim_size = sim_size)\n",
    "rmst_h1_int <- RMST_sim_cal(n = n,data_E = data_E_H1_int, data_C = data_C_int,tau = interim,sim_size = sim_size)\n",
    "\n",
    " \n",
    "result_m1_t1 <- foreach(i = 1:200, .combine = 'cbind') %dopar% { # \n",
    "        m1 = - 1 + i * 1/100\n",
    "        result_t1 <- c()\n",
    "        for (t1 in seq(from = 0, to = 1, by = 1/100)) # search 100 times in the interval\n",
    "          {\n",
    "            proc_h0 <- sum((rmst_h0_int[2, ] - rmst_h0_int[1, ] > m1) & (rmst_h0_int[2, ] > t1))\n",
    "            proc_h1 <- sum((rmst_h1_int[2, ] - rmst_h1_int[1, ] > m1) & (rmst_h1_int[2, ] > t1))\n",
    "        \n",
    "            if (proc_h0/sim_size > 0 & proc_h0/sim_size < 0.3 & proc_h1/sim_size >= 0.6) {\n",
    "              mark_c <- c(m1,t1,proc_h0/sim_size,proc_h1/sim_size)\n",
    "              result_t1 <- cbind(result_t1,mark_c)\n",
    "              }\n",
    "          }\n",
    "        result_t1\n",
    "        }\n",
    "\n",
    "end_time <- Sys.time()\n",
    "cat(end_time - start_time)"
   ]
  },
  {
   "cell_type": "code",
   "execution_count": 10,
   "id": "baac5a5d-84ea-441c-a479-c0330a965697",
   "metadata": {
    "vscode": {
     "languageId": "r"
    }
   },
   "outputs": [
    {
     "data": {
      "text/html": [
       "<table class=\"dataframe\">\n",
       "<caption>A data.frame: 4 × 82</caption>\n",
       "<thead>\n",
       "\t<tr><th></th><th scope=col>mark_c</th><th scope=col>mark_c.2</th><th scope=col>mark_c.4</th><th scope=col>mark_c.6</th><th scope=col>mark_c.8</th><th scope=col>mark_c.10</th><th scope=col>mark_c.12</th><th scope=col>mark_c.14</th><th scope=col>mark_c.16</th><th scope=col>mark_c.18</th><th scope=col>⋯</th><th scope=col>mark_c.144</th><th scope=col>mark_c.146</th><th scope=col>mark_c.148</th><th scope=col>mark_c.150</th><th scope=col>mark_c.152</th><th scope=col>mark_c.154</th><th scope=col>mark_c.156</th><th scope=col>mark_c.158</th><th scope=col>mark_c.160</th><th scope=col>mark_c.162</th></tr>\n",
       "\t<tr><th></th><th scope=col>&lt;dbl&gt;</th><th scope=col>&lt;dbl&gt;</th><th scope=col>&lt;dbl&gt;</th><th scope=col>&lt;dbl&gt;</th><th scope=col>&lt;dbl&gt;</th><th scope=col>&lt;dbl&gt;</th><th scope=col>&lt;dbl&gt;</th><th scope=col>&lt;dbl&gt;</th><th scope=col>&lt;dbl&gt;</th><th scope=col>&lt;dbl&gt;</th><th scope=col>⋯</th><th scope=col>&lt;dbl&gt;</th><th scope=col>&lt;dbl&gt;</th><th scope=col>&lt;dbl&gt;</th><th scope=col>&lt;dbl&gt;</th><th scope=col>&lt;dbl&gt;</th><th scope=col>&lt;dbl&gt;</th><th scope=col>&lt;dbl&gt;</th><th scope=col>&lt;dbl&gt;</th><th scope=col>&lt;dbl&gt;</th><th scope=col>&lt;dbl&gt;</th></tr>\n",
       "</thead>\n",
       "<tbody>\n",
       "\t<tr><th scope=row>m1</th><td>-0.9900</td><td>-0.9800</td><td>-0.9700</td><td>-0.9600</td><td>-0.9500</td><td>-0.9400</td><td>-0.9300</td><td>-0.9200</td><td>-0.9100</td><td>-0.9000</td><td>⋯</td><td>-0.2700</td><td>-0.2600</td><td>-0.2500</td><td>-0.2400</td><td>-0.2300</td><td>-0.2200</td><td>-0.2100</td><td>-0.2000</td><td>-0.1900</td><td>-0.1800</td></tr>\n",
       "\t<tr><th scope=row>t1</th><td> 0.3300</td><td> 0.3300</td><td> 0.3300</td><td> 0.3300</td><td> 0.3300</td><td> 0.3300</td><td> 0.3300</td><td> 0.3300</td><td> 0.3300</td><td> 0.3300</td><td>⋯</td><td> 0.3300</td><td> 0.3300</td><td> 0.3300</td><td> 0.3300</td><td> 0.3300</td><td> 0.3300</td><td> 0.3300</td><td> 0.3300</td><td> 0.3300</td><td> 0.3300</td></tr>\n",
       "\t<tr><th scope=row>alpha</th><td> 0.2863</td><td> 0.2863</td><td> 0.2863</td><td> 0.2863</td><td> 0.2863</td><td> 0.2863</td><td> 0.2863</td><td> 0.2863</td><td> 0.2863</td><td> 0.2863</td><td>⋯</td><td> 0.2863</td><td> 0.2863</td><td> 0.2863</td><td> 0.2863</td><td> 0.2863</td><td> 0.2863</td><td> 0.2863</td><td> 0.2863</td><td> 0.2863</td><td> 0.2863</td></tr>\n",
       "\t<tr><th scope=row>power</th><td> 0.7164</td><td> 0.7164</td><td> 0.7164</td><td> 0.7164</td><td> 0.7164</td><td> 0.7164</td><td> 0.7164</td><td> 0.7164</td><td> 0.7164</td><td> 0.7164</td><td>⋯</td><td> 0.7164</td><td> 0.7164</td><td> 0.7164</td><td> 0.7164</td><td> 0.7164</td><td> 0.7164</td><td> 0.7164</td><td> 0.7164</td><td> 0.7164</td><td> 0.7164</td></tr>\n",
       "</tbody>\n",
       "</table>\n"
      ],
      "text/latex": [
       "A data.frame: 4 × 82\n",
       "\\begin{tabular}{r|lllllllllllllllllllll}\n",
       "  & mark\\_c & mark\\_c.2 & mark\\_c.4 & mark\\_c.6 & mark\\_c.8 & mark\\_c.10 & mark\\_c.12 & mark\\_c.14 & mark\\_c.16 & mark\\_c.18 & ⋯ & mark\\_c.144 & mark\\_c.146 & mark\\_c.148 & mark\\_c.150 & mark\\_c.152 & mark\\_c.154 & mark\\_c.156 & mark\\_c.158 & mark\\_c.160 & mark\\_c.162\\\\\n",
       "  & <dbl> & <dbl> & <dbl> & <dbl> & <dbl> & <dbl> & <dbl> & <dbl> & <dbl> & <dbl> & ⋯ & <dbl> & <dbl> & <dbl> & <dbl> & <dbl> & <dbl> & <dbl> & <dbl> & <dbl> & <dbl>\\\\\n",
       "\\hline\n",
       "\tm1 & -0.9900 & -0.9800 & -0.9700 & -0.9600 & -0.9500 & -0.9400 & -0.9300 & -0.9200 & -0.9100 & -0.9000 & ⋯ & -0.2700 & -0.2600 & -0.2500 & -0.2400 & -0.2300 & -0.2200 & -0.2100 & -0.2000 & -0.1900 & -0.1800\\\\\n",
       "\tt1 &  0.3300 &  0.3300 &  0.3300 &  0.3300 &  0.3300 &  0.3300 &  0.3300 &  0.3300 &  0.3300 &  0.3300 & ⋯ &  0.3300 &  0.3300 &  0.3300 &  0.3300 &  0.3300 &  0.3300 &  0.3300 &  0.3300 &  0.3300 &  0.3300\\\\\n",
       "\talpha &  0.2863 &  0.2863 &  0.2863 &  0.2863 &  0.2863 &  0.2863 &  0.2863 &  0.2863 &  0.2863 &  0.2863 & ⋯ &  0.2863 &  0.2863 &  0.2863 &  0.2863 &  0.2863 &  0.2863 &  0.2863 &  0.2863 &  0.2863 &  0.2863\\\\\n",
       "\tpower &  0.7164 &  0.7164 &  0.7164 &  0.7164 &  0.7164 &  0.7164 &  0.7164 &  0.7164 &  0.7164 &  0.7164 & ⋯ &  0.7164 &  0.7164 &  0.7164 &  0.7164 &  0.7164 &  0.7164 &  0.7164 &  0.7164 &  0.7164 &  0.7164\\\\\n",
       "\\end{tabular}\n"
      ],
      "text/markdown": [
       "\n",
       "A data.frame: 4 × 82\n",
       "\n",
       "| <!--/--> | mark_c &lt;dbl&gt; | mark_c.2 &lt;dbl&gt; | mark_c.4 &lt;dbl&gt; | mark_c.6 &lt;dbl&gt; | mark_c.8 &lt;dbl&gt; | mark_c.10 &lt;dbl&gt; | mark_c.12 &lt;dbl&gt; | mark_c.14 &lt;dbl&gt; | mark_c.16 &lt;dbl&gt; | mark_c.18 &lt;dbl&gt; | ⋯ ⋯ | mark_c.144 &lt;dbl&gt; | mark_c.146 &lt;dbl&gt; | mark_c.148 &lt;dbl&gt; | mark_c.150 &lt;dbl&gt; | mark_c.152 &lt;dbl&gt; | mark_c.154 &lt;dbl&gt; | mark_c.156 &lt;dbl&gt; | mark_c.158 &lt;dbl&gt; | mark_c.160 &lt;dbl&gt; | mark_c.162 &lt;dbl&gt; |\n",
       "|---|---|---|---|---|---|---|---|---|---|---|---|---|---|---|---|---|---|---|---|---|---|\n",
       "| m1 | -0.9900 | -0.9800 | -0.9700 | -0.9600 | -0.9500 | -0.9400 | -0.9300 | -0.9200 | -0.9100 | -0.9000 | ⋯ | -0.2700 | -0.2600 | -0.2500 | -0.2400 | -0.2300 | -0.2200 | -0.2100 | -0.2000 | -0.1900 | -0.1800 |\n",
       "| t1 |  0.3300 |  0.3300 |  0.3300 |  0.3300 |  0.3300 |  0.3300 |  0.3300 |  0.3300 |  0.3300 |  0.3300 | ⋯ |  0.3300 |  0.3300 |  0.3300 |  0.3300 |  0.3300 |  0.3300 |  0.3300 |  0.3300 |  0.3300 |  0.3300 |\n",
       "| alpha |  0.2863 |  0.2863 |  0.2863 |  0.2863 |  0.2863 |  0.2863 |  0.2863 |  0.2863 |  0.2863 |  0.2863 | ⋯ |  0.2863 |  0.2863 |  0.2863 |  0.2863 |  0.2863 |  0.2863 |  0.2863 |  0.2863 |  0.2863 |  0.2863 |\n",
       "| power |  0.7164 |  0.7164 |  0.7164 |  0.7164 |  0.7164 |  0.7164 |  0.7164 |  0.7164 |  0.7164 |  0.7164 | ⋯ |  0.7164 |  0.7164 |  0.7164 |  0.7164 |  0.7164 |  0.7164 |  0.7164 |  0.7164 |  0.7164 |  0.7164 |\n",
       "\n"
      ],
      "text/plain": [
       "      mark_c  mark_c.2 mark_c.4 mark_c.6 mark_c.8 mark_c.10 mark_c.12 mark_c.14\n",
       "m1    -0.9900 -0.9800  -0.9700  -0.9600  -0.9500  -0.9400   -0.9300   -0.9200  \n",
       "t1     0.3300  0.3300   0.3300   0.3300   0.3300   0.3300    0.3300    0.3300  \n",
       "alpha  0.2863  0.2863   0.2863   0.2863   0.2863   0.2863    0.2863    0.2863  \n",
       "power  0.7164  0.7164   0.7164   0.7164   0.7164   0.7164    0.7164    0.7164  \n",
       "      mark_c.16 mark_c.18 ⋯ mark_c.144 mark_c.146 mark_c.148 mark_c.150\n",
       "m1    -0.9100   -0.9000   ⋯ -0.2700    -0.2600    -0.2500    -0.2400   \n",
       "t1     0.3300    0.3300   ⋯  0.3300     0.3300     0.3300     0.3300   \n",
       "alpha  0.2863    0.2863   ⋯  0.2863     0.2863     0.2863     0.2863   \n",
       "power  0.7164    0.7164   ⋯  0.7164     0.7164     0.7164     0.7164   \n",
       "      mark_c.152 mark_c.154 mark_c.156 mark_c.158 mark_c.160 mark_c.162\n",
       "m1    -0.2300    -0.2200    -0.2100    -0.2000    -0.1900    -0.1800   \n",
       "t1     0.3300     0.3300     0.3300     0.3300     0.3300     0.3300   \n",
       "alpha  0.2863     0.2863     0.2863     0.2863     0.2863     0.2863   \n",
       "power  0.7164     0.7164     0.7164     0.7164     0.7164     0.7164   "
      ]
     },
     "metadata": {},
     "output_type": "display_data"
    },
    {
     "data": {
      "text/html": [
       "<style>\n",
       ".list-inline {list-style: none; margin:0; padding: 0}\n",
       ".list-inline>li {display: inline-block}\n",
       ".list-inline>li:not(:last-child)::after {content: \"\\00b7\"; padding: 0 .5ex}\n",
       "</style>\n",
       "<ol class=list-inline><li>-0.18</li><li>0.33</li><li>0.2863</li><li>0.7164</li></ol>\n"
      ],
      "text/latex": [
       "\\begin{enumerate*}\n",
       "\\item -0.18\n",
       "\\item 0.33\n",
       "\\item 0.2863\n",
       "\\item 0.7164\n",
       "\\end{enumerate*}\n"
      ],
      "text/markdown": [
       "1. -0.18\n",
       "2. 0.33\n",
       "3. 0.2863\n",
       "4. 0.7164\n",
       "\n",
       "\n"
      ],
      "text/plain": [
       "[1] -0.1800  0.3300  0.2863  0.7164"
      ]
     },
     "metadata": {},
     "output_type": "display_data"
    }
   ],
   "source": [
    "result_m1_t1 <- data.frame(result_m1_t1)\n",
    "rownames(result_m1_t1) <- c('m1','t1','alpha','power')\n",
    "powerful_m1_t1 <- result_m1_t1[ , which(result_m1_t1[4,] == max(result_m1_t1[4,]))]\n",
    "powerful_m1_t1\n",
    "powerful_m1_t1[ , which(abs(powerful_m1_t1[1,]) == min(abs(powerful_m1_t1[1,] ))) ] "
   ]
  },
  {
   "cell_type": "markdown",
   "id": "69685d97-232c-4bb5-8691-38badc76efb7",
   "metadata": {},
   "source": [
    "## Stage II:\n",
    "### reject $H_1$ when:  \n",
    "### $ \\textcolor{lightgreen}{E(\\tau_1)-C(\\tau_1)>m_1\\ \\&\\  E(\\tau_1)>t_1\\ \\&\\  E(\\tau_2)-C(\\tau_2)>m_2\\ \\&\\  E(\\tau_2)>t_2}$\n",
    "### $\\tau_1 = 1,\\ m_1 = -0.19,\\ t_1 = 0.33$"
   ]
  },
  {
   "cell_type": "code",
   "execution_count": 11,
   "id": "331f03ed-77c5-45b2-9e17-d644d9852b3a",
   "metadata": {
    "vscode": {
     "languageId": "r"
    }
   },
   "outputs": [
    {
     "name": "stdout",
     "output_type": "stream",
     "text": [
      "9.329091"
     ]
    }
   ],
   "source": [
    "set.seed(2024)\n",
    "start_time <- Sys.time()\n",
    "n <- 51\n",
    "m1 <- -0.19\n",
    "t1 <- 0.33\n",
    "data_C_fin <- data_C[ , c(4,5,1)]\n",
    "data_E_H0_fin <- data_E_H0[ , c(4,5,1)]\n",
    "data_E_H1_fin <- data_E_H1[ , c(4,5,1)]\n",
    "\n",
    "rmst_h0_fin <- RMST_sim_cal(n = n,data_E = data_E_H0_fin, data_C = data_C_fin,tau = 2.67,sim_size = sim_size)\n",
    "rmst_h1_fin <- RMST_sim_cal(n = n,data_E = data_E_H1_fin, data_C = data_C_fin,tau = 2.67,sim_size = sim_size)\n",
    "\n",
    "rmst_h0_all <- rbind(rmst_h0_int,rmst_h0_fin)  #combine the result of stage I(row1,2) and stage II(row3,4). \n",
    "rmst_h1_all <- rbind(rmst_h1_int,rmst_h1_fin)\n",
    "\n",
    "result_fin <- foreach(i = 1:200, .combine = 'cbind') %dopar% { # step = 1/100\n",
    "        m2 = -0.5 + i * 1/100\n",
    "        opt_alpha <- 1\n",
    "        opt_power <- 0\n",
    "        opt_m2 <- 0\n",
    "        opt_t2 <- 0\n",
    "        opt_mt2 <- c()\n",
    "        for (t2 in seq(from = 0, to = 1, by = 1/200)) # search 100 times in the interval\n",
    "            {\n",
    "                proc_h0 <- sum((rmst_h0_all[2, ] - rmst_h0_all[1, ] > m1) & (rmst_h0_all[2, ] > t1) &\n",
    "                               (rmst_h0_all[4, ] - rmst_h0_all[3, ] > m2) & (rmst_h0_all[4, ] > t2))\n",
    "            \n",
    "                proc_h1 <- sum((rmst_h1_all[2, ] - rmst_h1_all[1, ] > m1) & (rmst_h1_all[2, ] > t1) &\n",
    "                               (rmst_h1_all[4, ] - rmst_h1_all[3, ] > m2) & (rmst_h1_all[4, ] > t2))\n",
    "        \n",
    "                if (proc_h0/sim_size > 0 & proc_h0/sim_size < 0.1 & proc_h1/sim_size >= opt_power) # return the best \n",
    "                {\n",
    "                    opt_alpha <- proc_h0/sim_size\n",
    "                    opt_power <- proc_h1/sim_size\n",
    "                    opt_m2 <- m2\n",
    "                    opt_t2 <- t2\n",
    "                    opt_mt <- c(n,opt_m2,opt_t2,opt_alpha,opt_power)\n",
    "                }\n",
    "              }\n",
    "        opt_mt\n",
    "        }\n",
    "\n",
    "end_time <- Sys.time()\n",
    "cat(end_time - start_time)"
   ]
  },
  {
   "cell_type": "code",
   "execution_count": 12,
   "id": "81f8974f-3f19-472f-a2f8-55179ccf0f47",
   "metadata": {
    "vscode": {
     "languageId": "r"
    }
   },
   "outputs": [
    {
     "data": {
      "text/html": [
       "<table class=\"dataframe\">\n",
       "<caption>A data.frame: 5 × 15</caption>\n",
       "<thead>\n",
       "\t<tr><th></th><th scope=col>result.24</th><th scope=col>result.25</th><th scope=col>result.26</th><th scope=col>result.27</th><th scope=col>result.28</th><th scope=col>result.29</th><th scope=col>result.30</th><th scope=col>result.31</th><th scope=col>result.32</th><th scope=col>result.33</th><th scope=col>result.34</th><th scope=col>result.35</th><th scope=col>result.36</th><th scope=col>result.37</th><th scope=col>result.38</th></tr>\n",
       "\t<tr><th></th><th scope=col>&lt;dbl&gt;</th><th scope=col>&lt;dbl&gt;</th><th scope=col>&lt;dbl&gt;</th><th scope=col>&lt;dbl&gt;</th><th scope=col>&lt;dbl&gt;</th><th scope=col>&lt;dbl&gt;</th><th scope=col>&lt;dbl&gt;</th><th scope=col>&lt;dbl&gt;</th><th scope=col>&lt;dbl&gt;</th><th scope=col>&lt;dbl&gt;</th><th scope=col>&lt;dbl&gt;</th><th scope=col>&lt;dbl&gt;</th><th scope=col>&lt;dbl&gt;</th><th scope=col>&lt;dbl&gt;</th><th scope=col>&lt;dbl&gt;</th></tr>\n",
       "</thead>\n",
       "<tbody>\n",
       "\t<tr><th scope=row>n</th><td>51.0000</td><td>51.0000</td><td>51.0000</td><td>51.0000</td><td>51.0000</td><td>51.0000</td><td>51.0000</td><td>51.0000</td><td>51.0000</td><td>51.0000</td><td>51.0000</td><td>51.0000</td><td>51.0000</td><td>51.0000</td><td>51.0000</td></tr>\n",
       "\t<tr><th scope=row>m2</th><td>-0.2600</td><td>-0.2500</td><td>-0.2400</td><td>-0.2300</td><td>-0.2200</td><td>-0.2100</td><td>-0.2000</td><td>-0.1900</td><td>-0.1800</td><td>-0.1700</td><td>-0.1600</td><td>-0.1500</td><td>-0.1400</td><td>-0.1300</td><td>-0.1200</td></tr>\n",
       "\t<tr><th scope=row>t2</th><td> 0.5400</td><td> 0.5400</td><td> 0.5400</td><td> 0.5400</td><td> 0.5400</td><td> 0.5400</td><td> 0.5400</td><td> 0.5400</td><td> 0.5400</td><td> 0.5400</td><td> 0.5400</td><td> 0.5400</td><td> 0.5400</td><td> 0.5400</td><td> 0.5400</td></tr>\n",
       "\t<tr><th scope=row>alpha</th><td> 0.0999</td><td> 0.0999</td><td> 0.0999</td><td> 0.0999</td><td> 0.0998</td><td> 0.0997</td><td> 0.0997</td><td> 0.0997</td><td> 0.0997</td><td> 0.0996</td><td> 0.0995</td><td> 0.0995</td><td> 0.0994</td><td> 0.0994</td><td> 0.0993</td></tr>\n",
       "\t<tr><th scope=row>power</th><td> 0.6924</td><td> 0.6924</td><td> 0.6924</td><td> 0.6924</td><td> 0.6924</td><td> 0.6924</td><td> 0.6924</td><td> 0.6924</td><td> 0.6924</td><td> 0.6924</td><td> 0.6924</td><td> 0.6924</td><td> 0.6924</td><td> 0.6924</td><td> 0.6924</td></tr>\n",
       "</tbody>\n",
       "</table>\n"
      ],
      "text/latex": [
       "A data.frame: 5 × 15\n",
       "\\begin{tabular}{r|lllllllllllllll}\n",
       "  & result.24 & result.25 & result.26 & result.27 & result.28 & result.29 & result.30 & result.31 & result.32 & result.33 & result.34 & result.35 & result.36 & result.37 & result.38\\\\\n",
       "  & <dbl> & <dbl> & <dbl> & <dbl> & <dbl> & <dbl> & <dbl> & <dbl> & <dbl> & <dbl> & <dbl> & <dbl> & <dbl> & <dbl> & <dbl>\\\\\n",
       "\\hline\n",
       "\tn & 51.0000 & 51.0000 & 51.0000 & 51.0000 & 51.0000 & 51.0000 & 51.0000 & 51.0000 & 51.0000 & 51.0000 & 51.0000 & 51.0000 & 51.0000 & 51.0000 & 51.0000\\\\\n",
       "\tm2 & -0.2600 & -0.2500 & -0.2400 & -0.2300 & -0.2200 & -0.2100 & -0.2000 & -0.1900 & -0.1800 & -0.1700 & -0.1600 & -0.1500 & -0.1400 & -0.1300 & -0.1200\\\\\n",
       "\tt2 &  0.5400 &  0.5400 &  0.5400 &  0.5400 &  0.5400 &  0.5400 &  0.5400 &  0.5400 &  0.5400 &  0.5400 &  0.5400 &  0.5400 &  0.5400 &  0.5400 &  0.5400\\\\\n",
       "\talpha &  0.0999 &  0.0999 &  0.0999 &  0.0999 &  0.0998 &  0.0997 &  0.0997 &  0.0997 &  0.0997 &  0.0996 &  0.0995 &  0.0995 &  0.0994 &  0.0994 &  0.0993\\\\\n",
       "\tpower &  0.6924 &  0.6924 &  0.6924 &  0.6924 &  0.6924 &  0.6924 &  0.6924 &  0.6924 &  0.6924 &  0.6924 &  0.6924 &  0.6924 &  0.6924 &  0.6924 &  0.6924\\\\\n",
       "\\end{tabular}\n"
      ],
      "text/markdown": [
       "\n",
       "A data.frame: 5 × 15\n",
       "\n",
       "| <!--/--> | result.24 &lt;dbl&gt; | result.25 &lt;dbl&gt; | result.26 &lt;dbl&gt; | result.27 &lt;dbl&gt; | result.28 &lt;dbl&gt; | result.29 &lt;dbl&gt; | result.30 &lt;dbl&gt; | result.31 &lt;dbl&gt; | result.32 &lt;dbl&gt; | result.33 &lt;dbl&gt; | result.34 &lt;dbl&gt; | result.35 &lt;dbl&gt; | result.36 &lt;dbl&gt; | result.37 &lt;dbl&gt; | result.38 &lt;dbl&gt; |\n",
       "|---|---|---|---|---|---|---|---|---|---|---|---|---|---|---|---|\n",
       "| n | 51.0000 | 51.0000 | 51.0000 | 51.0000 | 51.0000 | 51.0000 | 51.0000 | 51.0000 | 51.0000 | 51.0000 | 51.0000 | 51.0000 | 51.0000 | 51.0000 | 51.0000 |\n",
       "| m2 | -0.2600 | -0.2500 | -0.2400 | -0.2300 | -0.2200 | -0.2100 | -0.2000 | -0.1900 | -0.1800 | -0.1700 | -0.1600 | -0.1500 | -0.1400 | -0.1300 | -0.1200 |\n",
       "| t2 |  0.5400 |  0.5400 |  0.5400 |  0.5400 |  0.5400 |  0.5400 |  0.5400 |  0.5400 |  0.5400 |  0.5400 |  0.5400 |  0.5400 |  0.5400 |  0.5400 |  0.5400 |\n",
       "| alpha |  0.0999 |  0.0999 |  0.0999 |  0.0999 |  0.0998 |  0.0997 |  0.0997 |  0.0997 |  0.0997 |  0.0996 |  0.0995 |  0.0995 |  0.0994 |  0.0994 |  0.0993 |\n",
       "| power |  0.6924 |  0.6924 |  0.6924 |  0.6924 |  0.6924 |  0.6924 |  0.6924 |  0.6924 |  0.6924 |  0.6924 |  0.6924 |  0.6924 |  0.6924 |  0.6924 |  0.6924 |\n",
       "\n"
      ],
      "text/plain": [
       "      result.24 result.25 result.26 result.27 result.28 result.29 result.30\n",
       "n     51.0000   51.0000   51.0000   51.0000   51.0000   51.0000   51.0000  \n",
       "m2    -0.2600   -0.2500   -0.2400   -0.2300   -0.2200   -0.2100   -0.2000  \n",
       "t2     0.5400    0.5400    0.5400    0.5400    0.5400    0.5400    0.5400  \n",
       "alpha  0.0999    0.0999    0.0999    0.0999    0.0998    0.0997    0.0997  \n",
       "power  0.6924    0.6924    0.6924    0.6924    0.6924    0.6924    0.6924  \n",
       "      result.31 result.32 result.33 result.34 result.35 result.36 result.37\n",
       "n     51.0000   51.0000   51.0000   51.0000   51.0000   51.0000   51.0000  \n",
       "m2    -0.1900   -0.1800   -0.1700   -0.1600   -0.1500   -0.1400   -0.1300  \n",
       "t2     0.5400    0.5400    0.5400    0.5400    0.5400    0.5400    0.5400  \n",
       "alpha  0.0997    0.0997    0.0996    0.0995    0.0995    0.0994    0.0994  \n",
       "power  0.6924    0.6924    0.6924    0.6924    0.6924    0.6924    0.6924  \n",
       "      result.38\n",
       "n     51.0000  \n",
       "m2    -0.1200  \n",
       "t2     0.5400  \n",
       "alpha  0.0993  \n",
       "power  0.6924  "
      ]
     },
     "metadata": {},
     "output_type": "display_data"
    }
   ],
   "source": [
    "result_fin <- data.frame(result_fin)\n",
    "rownames(result_fin) <- c('n','m2','t2','alpha','power')\n",
    "result_fin[, which(result_fin[5,] == max(result_fin[5,]))]"
   ]
  },
  {
   "cell_type": "markdown",
   "id": "093a8c48",
   "metadata": {},
   "source": [
    "## <font color=LightSeaGreen>I guess the interim analysis is too short for this test.\n",
    "### But we have higher $PET_0 = 0.71$(Jung's 0.2) and lower $PET_1 = 0.37$(Jung's 0.41)"
   ]
  },
  {
   "cell_type": "markdown",
   "id": "7e2e5849",
   "metadata": {},
   "source": [
    "# Test for different Interim Period"
   ]
  },
  {
   "cell_type": "markdown",
   "id": "9e8ea5b0",
   "metadata": {},
   "source": [
    "We first need to pack the m1, t1, m2, t2 searching loop to a function"
   ]
  },
  {
   "cell_type": "code",
   "execution_count": 7,
   "id": "5b578927",
   "metadata": {
    "vscode": {
     "languageId": "r"
    }
   },
   "outputs": [],
   "source": [
    "sim_size <- 10000 \n",
    "acc_time <- 1.67\n",
    "cen_time <- 1\n",
    "lambda_H0 <- 1.609\n",
    "lambda_H1 <- 0.916\n",
    "interim <- 1\n",
    "set.seed(2024)\n",
    "n <- 51 \n",
    "\n",
    "data_C <- expo_gen_2stages(N = n * sim_size, acc_time = acc_time, lambda = lambda_H0, dist = 'exp', \n",
    "                           cen_time = cen_time,arm = 0, interim = interim)    \n",
    "data_E_H0 <- expo_gen_2stages(N = n * sim_size, acc_time = acc_time, lambda = lambda_H0, dist = 'exp', \n",
    "                                cen_time = cen_time,arm = 1, interim = interim)\n",
    "data_E_H1 <- expo_gen_2stages(N = n * sim_size, acc_time = acc_time, lambda = lambda_H1, dist = 'exp', \n",
    "                                cen_time = cen_time,arm = 1, interim = interim)                             \n",
    "\n",
    "data_C_int <- data_C[ , c(2,3,1)]  # In the order of (obs_time, event, arm) for RMST test\n",
    "data_E_H0_int <- data_E_H0[ , c(2,3,1)]\n",
    "data_E_H1_int <- data_E_H1[ , c(2,3,1)]\n",
    "rmst_h0_int <- RMST_sim_cal(n = n,data_E = data_E_H0_int, data_C = data_C_int,tau = interim,sim_size = sim_size)\n",
    "rmst_h1_int <- RMST_sim_cal(n = n,data_E = data_E_H1_int, data_C = data_C_int,tau = interim,sim_size = sim_size)\n",
    "\n",
    "data_C_fin <- data_C[ , c(4,5,1)]\n",
    "data_E_H0_fin <- data_E_H0[ , c(4,5,1)]\n",
    "data_E_H1_fin <- data_E_H1[ , c(4,5,1)]\n",
    "rmst_h0_fin <- RMST_sim_cal(n = n,data_E = data_E_H0_fin, data_C = data_C_fin,tau = 2,sim_size = sim_size)\n",
    "rmst_h1_fin <- RMST_sim_cal(n = n,data_E = data_E_H1_fin, data_C = data_C_fin,tau = 2,sim_size = sim_size)\n"
   ]
  },
  {
   "cell_type": "markdown",
   "id": "419689fd",
   "metadata": {},
   "source": [
    "### <span style=\"color:yellow\"> find_m_t function is a loop to find best m1, m2, t1, t2 in a certain dataset"
   ]
  },
  {
   "cell_type": "markdown",
   "id": "597761b0",
   "metadata": {},
   "source": [
    "### We don't need to set a strict tar_a1(stage I type I error) since it may lose the overall power\n",
    "### Loosen tar_a1 will lose PET0, but each time we are looking for the most powerful stage I setting.\n",
    "### Since the overall rejection region contains the stage I rejection region. They both rise "
   ]
  },
  {
   "cell_type": "code",
   "execution_count": 8,
   "id": "8375cafc",
   "metadata": {
    "vscode": {
     "languageId": "r"
    }
   },
   "outputs": [
    {
     "data": {
      "text/html": [
       "<table class=\"dataframe\">\n",
       "<caption>A data.frame: 1 × 8</caption>\n",
       "<thead>\n",
       "\t<tr><th scope=col>m1</th><th scope=col>t1</th><th scope=col>PET0</th><th scope=col>PET1</th><th scope=col>m2</th><th scope=col>t2</th><th scope=col>alpha</th><th scope=col>Power</th></tr>\n",
       "\t<tr><th scope=col>&lt;dbl&gt;</th><th scope=col>&lt;dbl&gt;</th><th scope=col>&lt;dbl&gt;</th><th scope=col>&lt;dbl&gt;</th><th scope=col>&lt;dbl&gt;</th><th scope=col>&lt;dbl&gt;</th><th scope=col>&lt;dbl&gt;</th><th scope=col>&lt;dbl&gt;</th></tr>\n",
       "</thead>\n",
       "<tbody>\n",
       "\t<tr><td>-0.21</td><td>0.27</td><td>0.2642</td><td>0.0442</td><td>-0.04</td><td>0.57</td><td>0.0994</td><td>0.8623</td></tr>\n",
       "</tbody>\n",
       "</table>\n"
      ],
      "text/latex": [
       "A data.frame: 1 × 8\n",
       "\\begin{tabular}{llllllll}\n",
       " m1 & t1 & PET0 & PET1 & m2 & t2 & alpha & Power\\\\\n",
       " <dbl> & <dbl> & <dbl> & <dbl> & <dbl> & <dbl> & <dbl> & <dbl>\\\\\n",
       "\\hline\n",
       "\t -0.21 & 0.27 & 0.2642 & 0.0442 & -0.04 & 0.57 & 0.0994 & 0.8623\\\\\n",
       "\\end{tabular}\n"
      ],
      "text/markdown": [
       "\n",
       "A data.frame: 1 × 8\n",
       "\n",
       "| m1 &lt;dbl&gt; | t1 &lt;dbl&gt; | PET0 &lt;dbl&gt; | PET1 &lt;dbl&gt; | m2 &lt;dbl&gt; | t2 &lt;dbl&gt; | alpha &lt;dbl&gt; | Power &lt;dbl&gt; |\n",
       "|---|---|---|---|---|---|---|---|\n",
       "| -0.21 | 0.27 | 0.2642 | 0.0442 | -0.04 | 0.57 | 0.0994 | 0.8623 |\n",
       "\n"
      ],
      "text/plain": [
       "  m1    t1   PET0   PET1   m2    t2   alpha  Power \n",
       "1 -0.21 0.27 0.2642 0.0442 -0.04 0.57 0.0994 0.8623"
      ]
     },
     "metadata": {},
     "output_type": "display_data"
    }
   ],
   "source": [
    "rmst_data <- rbind(rmst_h0_int, rmst_h1_int, rmst_h0_fin, rmst_h1_fin)\n",
    "find_m_t(m_low = -0.5, t_low = 0, t_up = 1, rmst_data = rmst_data, search_times = 100, search_step = 0.01,\n",
    "         tar_a1 = 0.75, tar_pow1_low = 0.35, tar_a2 = 0.1, sim_size = 10000)"
   ]
  },
  {
   "cell_type": "markdown",
   "id": "0f3311b0",
   "metadata": {},
   "source": [
    "## Different Interim $\\textcolor{yellow}{\\tau}$\n",
    "### 0.083 year is around a month. From 7 months interim to 16 months."
   ]
  },
  {
   "cell_type": "code",
   "execution_count": 15,
   "id": "75096565",
   "metadata": {
    "vscode": {
     "languageId": "r"
    }
   },
   "outputs": [],
   "source": [
    "sim_size <- 10000 \n",
    "acc_time <- 1.67\n",
    "cen_time <- 1\n",
    "lambda_H0 <- 1.609\n",
    "lambda_H1 <- 0.916\n",
    "set.seed(2024)\n",
    "n <- 51  # Fix total sample size\n",
    "\n",
    "diff_interim_result <- foreach(k = 1:10, .combine = 'rbind',.packages = 'foreach') %dopar% {\n",
    "\n",
    "    interim <- 0.5 + 0.083 * k \n",
    "    # Generate new data under each interim since the truncation is different. \n",
    "    # Interim sur time and fin sur time are merged in one dataset\n",
    "    data_C <- expo_gen_2stages(N = n * sim_size, acc_time = acc_time, lambda = lambda_H0, dist = 'exp', \n",
    "                           cen_time = cen_time,arm = 0, interim = interim)    \n",
    "    data_E_H0 <- expo_gen_2stages(N = n * sim_size, acc_time = acc_time, lambda = lambda_H0, dist = 'exp', \n",
    "                                cen_time = cen_time,arm = 1, interim = interim)\n",
    "    data_E_H1 <- expo_gen_2stages(N = n * sim_size, acc_time = acc_time, lambda = lambda_H1, dist = 'exp', \n",
    "                                cen_time = cen_time,arm = 1, interim = interim)        \n",
    "\n",
    "    rmst_h0_int <- RMST_sim_cal(n = n,data_E = data_E_H0[ , c(2,3,1)], \n",
    "                                data_C = data_C[ , c(2,3,1)],tau = interim,sim_size = sim_size)\n",
    "    rmst_h1_int <- RMST_sim_cal(n = n,data_E = data_E_H1[ , c(2,3,1)], \n",
    "                                data_C = data_C[ , c(2,3,1)],tau = interim,sim_size = sim_size)\n",
    "    rmst_h0_fin <- RMST_sim_cal(n = n,data_E = data_E_H0[ , c(4,5,1)], \n",
    "                                data_C = data_C[ , c(4,5,1)],tau = 2,sim_size = sim_size)\n",
    "    rmst_h1_fin <- RMST_sim_cal(n = n,data_E = data_E_H1[ , c(4,5,1)], \n",
    "                                data_C = data_C[ , c(4,5,1)],tau = 2,sim_size = sim_size)\n",
    "    rmst_data <- rbind(rmst_h0_int, rmst_h1_int, rmst_h0_fin, rmst_h1_fin)\n",
    "\n",
    "    # Find and record the most m t combination\n",
    "    result <- find_m_t(m_low = -0.5, t_low = 0, t_up = 1, rmst_data = rmst_data, search_times = 100, \n",
    "                       tar_a1 = 0.75, tar_pow1_low = 0.3, tar_a2 = 0.1, sim_size = 10000)\n",
    "\n",
    "    if (is.null(result)) {\n",
    "        return(data.frame(m1 = NA, t1 = NA, PET0 = NA, PET1 = NA, m2 = NA, t2 = NA,\n",
    "                         alpha = NA, Power = NA ))\n",
    "    }\n",
    "    return(result)\n",
    "   \n",
    "}"
   ]
  },
  {
   "cell_type": "code",
   "execution_count": 16,
   "id": "309fa893",
   "metadata": {
    "vscode": {
     "languageId": "r"
    }
   },
   "outputs": [
    {
     "data": {
      "text/html": [
       "<table class=\"dataframe\">\n",
       "<caption>A data.frame: 10 × 9</caption>\n",
       "<thead>\n",
       "\t<tr><th scope=col>m1</th><th scope=col>t1</th><th scope=col>PET0</th><th scope=col>PET1</th><th scope=col>m2</th><th scope=col>t2</th><th scope=col>alpha</th><th scope=col>Power</th><th scope=col>interim(month)</th></tr>\n",
       "\t<tr><th scope=col>&lt;dbl&gt;</th><th scope=col>&lt;dbl&gt;</th><th scope=col>&lt;dbl&gt;</th><th scope=col>&lt;dbl&gt;</th><th scope=col>&lt;dbl&gt;</th><th scope=col>&lt;dbl&gt;</th><th scope=col>&lt;dbl&gt;</th><th scope=col>&lt;dbl&gt;</th><th scope=col>&lt;int&gt;</th></tr>\n",
       "</thead>\n",
       "<tbody>\n",
       "\t<tr><td>-0.22</td><td>0.18</td><td>0.2661</td><td>0.1140</td><td>-0.49</td><td>0.61</td><td>0.0921</td><td>0.8441</td><td> 7</td></tr>\n",
       "\t<tr><td>-0.19</td><td>0.20</td><td>0.2665</td><td>0.0916</td><td>-0.49</td><td>0.60</td><td>0.0989</td><td>0.8568</td><td> 8</td></tr>\n",
       "\t<tr><td>-0.22</td><td>0.22</td><td>0.2668</td><td>0.0771</td><td>-0.06</td><td>0.59</td><td>0.0998</td><td>0.8689</td><td> 9</td></tr>\n",
       "\t<tr><td>   NA</td><td>  NA</td><td>    NA</td><td>    NA</td><td>   NA</td><td>  NA</td><td>    NA</td><td>    NA</td><td>10</td></tr>\n",
       "\t<tr><td>   NA</td><td>  NA</td><td>    NA</td><td>    NA</td><td>   NA</td><td>  NA</td><td>    NA</td><td>    NA</td><td>11</td></tr>\n",
       "\t<tr><td>-0.23</td><td>0.27</td><td>0.2618</td><td>0.0385</td><td>-0.09</td><td>0.57</td><td>0.0999</td><td>0.8787</td><td>12</td></tr>\n",
       "\t<tr><td>   NA</td><td>  NA</td><td>    NA</td><td>    NA</td><td>   NA</td><td>  NA</td><td>    NA</td><td>    NA</td><td>13</td></tr>\n",
       "\t<tr><td>-0.19</td><td>0.30</td><td>0.2794</td><td>0.0272</td><td> 0.02</td><td>0.55</td><td>0.0980</td><td>0.8396</td><td>14</td></tr>\n",
       "\t<tr><td>-0.27</td><td>0.31</td><td>0.2558</td><td>0.0204</td><td>-0.02</td><td>0.54</td><td>0.0992</td><td>0.8468</td><td>15</td></tr>\n",
       "\t<tr><td>   NA</td><td>  NA</td><td>    NA</td><td>    NA</td><td>   NA</td><td>  NA</td><td>    NA</td><td>    NA</td><td>16</td></tr>\n",
       "</tbody>\n",
       "</table>\n"
      ],
      "text/latex": [
       "A data.frame: 10 × 9\n",
       "\\begin{tabular}{lllllllll}\n",
       " m1 & t1 & PET0 & PET1 & m2 & t2 & alpha & Power & interim(month)\\\\\n",
       " <dbl> & <dbl> & <dbl> & <dbl> & <dbl> & <dbl> & <dbl> & <dbl> & <int>\\\\\n",
       "\\hline\n",
       "\t -0.22 & 0.18 & 0.2661 & 0.1140 & -0.49 & 0.61 & 0.0921 & 0.8441 &  7\\\\\n",
       "\t -0.19 & 0.20 & 0.2665 & 0.0916 & -0.49 & 0.60 & 0.0989 & 0.8568 &  8\\\\\n",
       "\t -0.22 & 0.22 & 0.2668 & 0.0771 & -0.06 & 0.59 & 0.0998 & 0.8689 &  9\\\\\n",
       "\t    NA &   NA &     NA &     NA &    NA &   NA &     NA &     NA & 10\\\\\n",
       "\t    NA &   NA &     NA &     NA &    NA &   NA &     NA &     NA & 11\\\\\n",
       "\t -0.23 & 0.27 & 0.2618 & 0.0385 & -0.09 & 0.57 & 0.0999 & 0.8787 & 12\\\\\n",
       "\t    NA &   NA &     NA &     NA &    NA &   NA &     NA &     NA & 13\\\\\n",
       "\t -0.19 & 0.30 & 0.2794 & 0.0272 &  0.02 & 0.55 & 0.0980 & 0.8396 & 14\\\\\n",
       "\t -0.27 & 0.31 & 0.2558 & 0.0204 & -0.02 & 0.54 & 0.0992 & 0.8468 & 15\\\\\n",
       "\t    NA &   NA &     NA &     NA &    NA &   NA &     NA &     NA & 16\\\\\n",
       "\\end{tabular}\n"
      ],
      "text/markdown": [
       "\n",
       "A data.frame: 10 × 9\n",
       "\n",
       "| m1 &lt;dbl&gt; | t1 &lt;dbl&gt; | PET0 &lt;dbl&gt; | PET1 &lt;dbl&gt; | m2 &lt;dbl&gt; | t2 &lt;dbl&gt; | alpha &lt;dbl&gt; | Power &lt;dbl&gt; | interim(month) &lt;int&gt; |\n",
       "|---|---|---|---|---|---|---|---|---|\n",
       "| -0.22 | 0.18 | 0.2661 | 0.1140 | -0.49 | 0.61 | 0.0921 | 0.8441 |  7 |\n",
       "| -0.19 | 0.20 | 0.2665 | 0.0916 | -0.49 | 0.60 | 0.0989 | 0.8568 |  8 |\n",
       "| -0.22 | 0.22 | 0.2668 | 0.0771 | -0.06 | 0.59 | 0.0998 | 0.8689 |  9 |\n",
       "|    NA |   NA |     NA |     NA |    NA |   NA |     NA |     NA | 10 |\n",
       "|    NA |   NA |     NA |     NA |    NA |   NA |     NA |     NA | 11 |\n",
       "| -0.23 | 0.27 | 0.2618 | 0.0385 | -0.09 | 0.57 | 0.0999 | 0.8787 | 12 |\n",
       "|    NA |   NA |     NA |     NA |    NA |   NA |     NA |     NA | 13 |\n",
       "| -0.19 | 0.30 | 0.2794 | 0.0272 |  0.02 | 0.55 | 0.0980 | 0.8396 | 14 |\n",
       "| -0.27 | 0.31 | 0.2558 | 0.0204 | -0.02 | 0.54 | 0.0992 | 0.8468 | 15 |\n",
       "|    NA |   NA |     NA |     NA |    NA |   NA |     NA |     NA | 16 |\n",
       "\n"
      ],
      "text/plain": [
       "   m1    t1   PET0   PET1   m2    t2   alpha  Power  interim(month)\n",
       "1  -0.22 0.18 0.2661 0.1140 -0.49 0.61 0.0921 0.8441  7            \n",
       "2  -0.19 0.20 0.2665 0.0916 -0.49 0.60 0.0989 0.8568  8            \n",
       "3  -0.22 0.22 0.2668 0.0771 -0.06 0.59 0.0998 0.8689  9            \n",
       "4     NA   NA     NA     NA    NA   NA     NA     NA 10            \n",
       "5     NA   NA     NA     NA    NA   NA     NA     NA 11            \n",
       "6  -0.23 0.27 0.2618 0.0385 -0.09 0.57 0.0999 0.8787 12            \n",
       "7     NA   NA     NA     NA    NA   NA     NA     NA 13            \n",
       "8  -0.19 0.30 0.2794 0.0272  0.02 0.55 0.0980 0.8396 14            \n",
       "9  -0.27 0.31 0.2558 0.0204 -0.02 0.54 0.0992 0.8468 15            \n",
       "10    NA   NA     NA     NA    NA   NA     NA     NA 16            "
      ]
     },
     "metadata": {},
     "output_type": "display_data"
    }
   ],
   "source": [
    "diff_interim_result$\"interim(month)\" <- 7:16\n",
    "diff_interim_result"
   ]
  },
  {
   "cell_type": "markdown",
   "id": "5815c2b8-4a13-4e59-a610-8b79b298433d",
   "metadata": {},
   "source": [
    "-------"
   ]
  },
  {
   "cell_type": "markdown",
   "id": "11ec9207-c482-4a49-9edc-e1bc932ba06b",
   "metadata": {},
   "source": [
    "# Two stages RMST difference test (two-sided)"
   ]
  },
  {
   "cell_type": "code",
   "execution_count": null,
   "id": "2f821e41-fb6a-461f-8bdf-611e82eb41ed",
   "metadata": {
    "vscode": {
     "languageId": "r"
    }
   },
   "outputs": [],
   "source": []
  }
 ],
 "metadata": {
  "kernelspec": {
   "display_name": "R",
   "language": "R",
   "name": "ir"
  },
  "language_info": {
   "codemirror_mode": "r",
   "file_extension": ".r",
   "mimetype": "text/x-r-source",
   "name": "R",
   "pygments_lexer": "r",
   "version": "4.4.1"
  }
 },
 "nbformat": 4,
 "nbformat_minor": 5
}
