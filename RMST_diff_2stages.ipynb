{
 "cells": [
  {
   "cell_type": "code",
   "execution_count": 1,
   "metadata": {
    "vscode": {
     "languageId": "r"
    }
   },
   "outputs": [
    {
     "name": "stderr",
     "output_type": "stream",
     "text": [
      "Loading required package: survRM2\n",
      "\n",
      "Loading required package: survival\n",
      "\n",
      "Loading required package: mvtnorm\n",
      "\n",
      "Loading required package: nph\n",
      "\n",
      "Loading required package: foreach\n",
      "\n",
      "Loading required package: doParallel\n",
      "\n",
      "Loading required package: iterators\n",
      "\n",
      "Loading required package: parallel\n",
      "\n",
      "Loading required package: ggplot2\n",
      "\n",
      "Loading required package: cowplot\n",
      "\n"
     ]
    }
   ],
   "source": [
    "if (!require(survRM2)) install.packages('survRM2')\n",
    "library('survRM2') \n",
    "if (!require(mvtnorm)) install.packages('mvtnorm')\n",
    "library('mvtnorm')\n",
    "if (!require(survival)) install.packages('survival')\n",
    "library('survival')\n",
    "if (!require(nph)) install.packages('nph')\n",
    "library('nph')\n",
    "if (!require(foreach)) install.packages(\"foreach\")\n",
    "library('foreach') \n",
    "if (!require(doParallel)) install.packages(\"doParallel\")\n",
    "library('doParallel')\n",
    "if (!require(ggplot2)) install.packages(\"ggplot2\")\n",
    "library('ggplot2')\n",
    "if (!require(cowplot)) install.packages(\"cowplot\")\n",
    "library('cowplot')\n",
    "\n",
    "n_cores <- detectCores()\n",
    "cluster <- makeCluster(14) # How many cores we use\n",
    "registerDoParallel(cluster)\n",
    "# multi thread\n",
    "invisible(clusterEvalQ(cluster, #import packages to parallel \n",
    "  {\n",
    "  library('survRM2')\n",
    "  library('mvtnorm')\n",
    "  library('survival')\n",
    "  library('nph')\n",
    "  library(\"simtrial\")\n",
    "  library(\"foreach\")\n",
    "  }))\n",
    "\n",
    "source('/home/r27user6/RMST_Code/Function.R')\n",
    "clusterExport(cluster, \"expo_gen_2stages\")"
   ]
  },
  {
   "cell_type": "markdown",
   "metadata": {},
   "source": [
    "# Use the RMST difference test in 2 stages design\n",
    "#### rejection stage I :\n",
    "#### Rejection region of Interim:\n",
    "#### $\\textcolor{lightgreen}{E(\\tau_1) > C(\\tau_1)}$\n",
    "#### Rejection region of overall:\n",
    "#### $ \\textcolor{lightgreen}{E(\\tau_1) > C(\\tau_1)\\ \\&\\  E(\\tau_2)>C(\\tau_2) }$"
   ]
  },
  {
   "cell_type": "markdown",
   "metadata": {},
   "source": [
    "#### Similar to Shan(2021) (https://doi.org/10.1016/j.conctc.2021.100732)\n",
    "#### But this paper is single arm. We are double"
   ]
  },
  {
   "cell_type": "code",
   "execution_count": null,
   "metadata": {
    "vscode": {
     "languageId": "r"
    }
   },
   "outputs": [],
   "source": []
  }
 ],
 "metadata": {
  "kernelspec": {
   "display_name": "R",
   "language": "R",
   "name": "ir"
  },
  "language_info": {
   "codemirror_mode": "r",
   "file_extension": ".r",
   "mimetype": "text/x-r-source",
   "name": "R",
   "pygments_lexer": "r",
   "version": "4.4.1"
  }
 },
 "nbformat": 4,
 "nbformat_minor": 2
}
