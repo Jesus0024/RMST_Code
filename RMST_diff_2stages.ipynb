{
 "cells": [
  {
   "cell_type": "code",
   "execution_count": 2,
   "metadata": {
    "vscode": {
     "languageId": "r"
    }
   },
   "outputs": [],
   "source": [
    "if (!require(survRM2)) install.packages('survRM2')\n",
    "library('survRM2') \n",
    "if (!require(mvtnorm)) install.packages('mvtnorm')\n",
    "library('mvtnorm')\n",
    "if (!require(survival)) install.packages('survival')\n",
    "library('survival')\n",
    "if (!require(nph)) install.packages('nph')\n",
    "library('nph')\n",
    "if (!require(foreach)) install.packages(\"foreach\")\n",
    "library('foreach') \n",
    "if (!require(doParallel)) install.packages(\"doParallel\")\n",
    "library('doParallel')\n",
    "if (!require(ggplot2)) install.packages(\"ggplot2\")\n",
    "library('ggplot2')\n",
    "if (!require(cowplot)) install.packages(\"cowplot\")\n",
    "library('cowplot')\n",
    "\n",
    "n_cores <- detectCores()\n",
    "cluster <- makeCluster(14) # How many cores we use\n",
    "registerDoParallel(cluster)\n",
    "# multi thread\n",
    "invisible(clusterEvalQ(cluster, #import packages to parallel \n",
    "  {\n",
    "  library('survRM2')\n",
    "  library('mvtnorm')\n",
    "  library('survival')\n",
    "  library('nph')\n",
    "  library(\"simtrial\")\n",
    "  library(\"foreach\")\n",
    "  }))\n",
    "\n",
    "source('/home/r27user6/RMST_Code/Function.R')\n",
    "clusterExport(cluster, \"expo_gen_2stages\")"
   ]
  },
  {
   "cell_type": "markdown",
   "metadata": {},
   "source": [
    "# Use the RMST difference test in 2 stages design\n",
    "#### Rejection region of Interim:\n",
    "#### $\\textcolor{lightgreen}{E(\\tau_1) > C(\\tau_1)}$\n",
    "#### Rejection region of overall:\n",
    "#### $ \\textcolor{lightgreen}{E(\\tau_1) > C(\\tau_1)\\ \\&\\  E(\\tau_2)>C(\\tau_2) }$"
   ]
  },
  {
   "cell_type": "markdown",
   "metadata": {},
   "source": [
    "#### Similar to Shan(2021) (https://doi.org/10.1016/j.conctc.2021.100732)\n",
    "#### But this paper is single arm. We are double\n",
    "#### We use the non-HR setting in Eaton(2020)\n",
    "####  <span style=\"color:yellow\">Early differenct: A hazard ratio of 0.67 until 15 months and then a hazard ratio of 1.2 "
   ]
  },
  {
   "cell_type": "code",
   "execution_count": null,
   "metadata": {
    "vscode": {
     "languageId": "r"
    }
   },
   "outputs": [],
   "source": [
    "median_con <- 10 # month\n",
    "lambda_H0 <- log(2)/median_con\n",
    "HR1 <- 0.67\n",
    "HR2 <- 1.2\n",
    "sim_size <- 10000 \n",
    "acc_time <- 24\n",
    "cen_time <- 36\n",
    "n <- 100  # Fix total sample size\n",
    "interim <- 20\n",
    "change_time <- 15\n",
    "set.seed(2024)\n",
    "\n",
    "data_C <- expo_gen_2stages(N = n * sim_size, acc_time = acc_time, lambda = lambda_H0,\n",
    "                         dist = 'exp', cen_time = cen_time, arm = 0, interim = interim)\n",
    "data_E_H0 <- expo_gen_2stages(N = n * sim_size, acc_time = acc_time, lambda = lambda_H0, \n",
    "                         dist = 'exp', cen_time = cen_time, arm = 1, interim = interim)                           \n",
    "data_E_H1 <- expo_gen_2stages(N = n * sim_size, acc_time = acc_time, lambda = lambda_H0, \n",
    "                         dist = 'pcw_exp', cen_time = cen_time,HR1 = HR1, HR2 = HR2, \n",
    "                         change_time = change_time, arm = 1, interim = interim)"
   ]
  },
  {
   "cell_type": "markdown",
   "metadata": {},
   "source": [
    "#### Stage I (Interim) type I error can be set and $PET_0=1-\\alpha_1 $\n",
    "#### Under each $\\alpha_1$ we can get empirical $power_1 = 1-PET_1$\n"
   ]
  },
  {
   "cell_type": "code",
   "execution_count": null,
   "metadata": {
    "vscode": {
     "languageId": "r"
    }
   },
   "outputs": [],
   "source": [
    "power_1 <- RMST_sim_test(n = 100, data_C = data_C, data_E = data_E_H1, tau = 48, \n",
    "                        sim_size = sim_size, alpha = 0.1, sided = 'greater')$test_result "
   ]
  }
 ],
 "metadata": {
  "kernelspec": {
   "display_name": "R",
   "language": "R",
   "name": "ir"
  },
  "language_info": {
   "codemirror_mode": "r",
   "file_extension": ".r",
   "mimetype": "text/x-r-source",
   "name": "R",
   "pygments_lexer": "r",
   "version": "4.4.1"
  }
 },
 "nbformat": 4,
 "nbformat_minor": 2
}
