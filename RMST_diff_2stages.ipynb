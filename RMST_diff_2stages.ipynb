{
 "cells": [
  {
   "cell_type": "code",
   "execution_count": 6,
   "metadata": {
    "vscode": {
     "languageId": "r"
    }
   },
   "outputs": [],
   "source": [
    "if (!require(survRM2)) install.packages('survRM2')\n",
    "library('survRM2') \n",
    "if (!require(mvtnorm)) install.packages('mvtnorm')\n",
    "library('mvtnorm')\n",
    "if (!require(survival)) install.packages('survival')\n",
    "library('survival')\n",
    "if (!require(nph)) install.packages('nph')\n",
    "library('nph')\n",
    "if (!require(foreach)) install.packages(\"foreach\")\n",
    "library('foreach') \n",
    "if (!require(doParallel)) install.packages(\"doParallel\")\n",
    "library('doParallel')\n",
    "if (!require(ggplot2)) install.packages(\"ggplot2\")\n",
    "library('ggplot2')\n",
    "if (!require(cowplot)) install.packages(\"cowplot\")\n",
    "library('cowplot')\n",
    "library('simtrial')\n",
    "\n",
    "n_cores <- detectCores()\n",
    "cluster <- makeCluster(14) # How many cores we use\n",
    "registerDoParallel(cluster)\n",
    "# multi thread\n",
    "invisible(clusterEvalQ(cluster, #import packages to parallel \n",
    "  {\n",
    "  library('survRM2')\n",
    "  library('mvtnorm')\n",
    "  library('survival')\n",
    "  library('nph')\n",
    "  library(\"simtrial\")\n",
    "  library(\"foreach\")\n",
    "  }))\n",
    "\n",
    "source('/home/r27user6/RMST_Code/Function.R')\n",
    "clusterExport(cluster, \"expo_gen_2stages\")"
   ]
  },
  {
   "cell_type": "markdown",
   "metadata": {},
   "source": [
    "# Use the RMST difference test in 2 stages design\n",
    "#### Rejection region of Interim:\n",
    "#### $\\textcolor{lightgreen}{E(\\tau_1) - C(\\tau_1) > m_1}$\n",
    "#### Rejection region of overall:\n",
    "#### $ \\textcolor{lightgreen}{E(\\tau_1) - C(\\tau_1) > m_1\\ \\&\\  E(\\tau_2)-C(\\tau_2)>m_2 }$"
   ]
  },
  {
   "cell_type": "markdown",
   "metadata": {},
   "source": [
    "#### Similar to Shan(2021) (https://doi.org/10.1016/j.conctc.2021.100732)\n",
    "#### But this paper is single arm. We are double\n",
    "#### We use the non-HR setting in Eaton(2020)\n",
    "####  <span style=\"color:yellow\">Early differenct: A hazard ratio of 0.67 until 15 months and then a hazard ratio of 1.2 \n",
    "#### acc_time = 24, cen_time = 36, interim = 18, final $\\tau = 48$"
   ]
  },
  {
   "cell_type": "code",
   "execution_count": 12,
   "metadata": {
    "vscode": {
     "languageId": "r"
    }
   },
   "outputs": [],
   "source": [
    "median_con <- 10 # month\n",
    "lambda_H0 <- log(2)/median_con\n",
    "HR1 <- 0.67\n",
    "HR2 <- 1.2\n",
    "sim_size <- 10000 \n",
    "acc_time <- 24\n",
    "cen_time <- 36\n",
    "n <- 100  # Fix total sample size\n",
    "interim <- 18\n",
    "change_time <- 15\n",
    "set.seed(2024)\n",
    "\n",
    "data_C <- expo_gen_2stages(N = n * sim_size, acc_time = acc_time, lambda = lambda_H0,\n",
    "                         dist = 'exp', cen_time = cen_time, arm = 0, interim = interim)\n",
    "data_E_H0 <- expo_gen_2stages(N = n * sim_size, acc_time = acc_time, lambda = lambda_H0, \n",
    "                         dist = 'exp', cen_time = cen_time, arm = 1, interim = interim)                           \n",
    "data_E_H1 <- expo_gen_2stages(N = n * sim_size, acc_time = acc_time, lambda = lambda_H0, \n",
    "                         dist = 'pcw_exp', cen_time = cen_time,HR1 = HR1, HR2 = HR2, \n",
    "                         change_time = change_time, arm = 1, interim = interim)\n",
    "\n",
    "#calculate the RMST of each group in H0,H1\n",
    "data_C_int <- data_C[ , c(2,3,1)]  \n",
    "data_E_H0_int <- data_E_H0[ , c(2,3,1)]\n",
    "data_E_H1_int <- data_E_H1[ , c(2,3,1)]\n",
    "rmst_h0_int <- RMST_sim_cal(n = n,data_E = data_E_H0_int, data_C = data_C_int,tau = interim,sim_size = sim_size)\n",
    "rmst_h1_int <- RMST_sim_cal(n = n,data_E = data_E_H1_int, data_C = data_C_int,tau = interim,sim_size = sim_size)\n",
    "\n",
    "data_C_fin <- data_C[ , c(4,5,1)]\n",
    "data_E_H0_fin <- data_E_H0[ , c(4,5,1)]\n",
    "data_E_H1_fin <- data_E_H1[ , c(4,5,1)]\n",
    "rmst_h0_fin <- RMST_sim_cal(n = n,data_E = data_E_H0_fin, data_C = data_C_fin,tau = 48,sim_size = sim_size)\n",
    "rmst_h1_fin <- RMST_sim_cal(n = n,data_E = data_E_H1_fin, data_C = data_C_fin,tau = 48,sim_size = sim_size)\n",
    "\n",
    "rmst_data <- rbind(rmst_h0_int, rmst_h1_int, rmst_h0_fin, rmst_h1_fin)"
   ]
  },
  {
   "cell_type": "markdown",
   "metadata": {},
   "source": [
    "#### Search for best m1 ,m2 to meet the best power"
   ]
  },
  {
   "cell_type": "code",
   "execution_count": null,
   "metadata": {
    "vscode": {
     "languageId": "r"
    }
   },
   "outputs": [],
   "source": [
    "find_m_t <- function(m_low, rmst_data, search_times, search_step,\n",
    "                     tar_a1, tar_pow1_low, tar_pow1_up, tar_a2, sim_size) {\n",
    "  rmst_h0_int <- rmst_data[c(1,2) , ]\n",
    "  rmst_h1_int <- rmst_data[c(3,4) , ]\n",
    "  rmst_h0_all <- rmst_data[c(1,2,5,6) , ]\n",
    "  rmst_h1_all <- rmst_data[c(3,4,7,8) , ]\n",
    "  result_m1 <- c()\n",
    "  result_m1 <- foreach(i = 1:search_times, .combine = 'cbind') %dopar% { \n",
    "        m1 = m_low + i * search_step\n",
    "        result_t1 <- c()\n",
    "        proc_h0 <- sum((rmst_h0_int[2, ] - rmst_h0_int[1, ] > m1))\n",
    "        proc_h1 <- sum((rmst_h1_int[2, ] - rmst_h1_int[1, ] > m1))\n",
    "        if (proc_h0/sim_size > 0 && proc_h0/sim_size < tar_a1 &&\n",
    "            proc_h1/sim_size >= tar_pow1_low ) {\n",
    "            mark_c <- c(m1,proc_h0/sim_size,proc_h1/sim_size)           \n",
    "            }\n",
    "        mark_c\n",
    "        }\n",
    "\n",
    "  powerful_m1 <- result_m1[, which(result_m1[3,] == max(result_m1[3,]))]\n",
    "  #Find the most powerful m1,t1\n",
    "  if (is.null(dim(powerful_m1))) {\n",
    "      # Return NULL when something goes wrong\n",
    "      return(NULL)\n",
    "    }\n",
    "  bestm1 <- powerful_m1[, which(abs(powerful_m1[1,]) == min(abs(powerful_m1[1,] ))) ]\n",
    "  # Among these most powerful, find the m1 with smallest absolute value \n",
    "  m1 <- bestm1[1]\n",
    "  \n",
    "  result_fin <- c()\n",
    "  result_fin <- foreach(i = 1:search_times, .combine = 'cbind') %dopar% { \n",
    "        m2 = m_low + i * search_step\n",
    "        opt_alpha <- 1\n",
    "        opt_power <- 0\n",
    "        opt_m2 <- 0\n",
    "        opt_mt2 <- c()\n",
    "        proc_h0 <- sum((rmst_h0_all[2, ] - rmst_h0_all[1, ] > m1) &\n",
    "                    (rmst_h0_all[4, ] - rmst_h0_all[3, ] > m2) )\n",
    "        proc_h1 <- sum((rmst_h1_all[2, ] - rmst_h1_all[1, ] > m1) &\n",
    "                    (rmst_h1_all[4, ] - rmst_h1_all[3, ] > m2))\n",
    "        if (proc_h0/sim_size > 0 & proc_h0/sim_size < tar_a2 &\n",
    "            proc_h1/sim_size >= opt_power) # return the best \n",
    "            {\n",
    "            opt_alpha <- proc_h0/sim_size\n",
    "            opt_power <- proc_h1/sim_size\n",
    "            opt_m2 <- m2\n",
    "            opt_mt <- c(opt_m2,opt_alpha,opt_power)\n",
    "            }\n",
    "        opt_mt\n",
    "        }\n",
    "\n",
    "  if (is.null(dim(result_fin))) {\n",
    "    # Return NULL when something goes wrong\n",
    "    return(NULL)\n",
    "  }\n",
    "  else {\n",
    "    powerful_fin <- result_fin[, which(result_fin[3,] == max(result_fin[3,]))]\n",
    "    best_result <- powerful_fin[, which(abs(powerful_fin[1,]) == min(abs(powerful_fin[1,] ))) ]\n",
    "     # most powerful result with smallest |m2|\n",
    "    return(data.frame(m1 = m1,\n",
    "                  PET0 = 1 - bestm1[2],\n",
    "                  PET1 = 1 - bestm1[3],\n",
    "                  m2 = best_result[1],\n",
    "                  alpha = best_result[2],\n",
    "                  Power = best_result[3]\n",
    "                  ))\n",
    "  }\n",
    "  \n",
    "}"
   ]
  },
  {
   "cell_type": "markdown",
   "metadata": {},
   "source": [
    "## <span style=\"color:yellow\">Optimal trial ( Min(EN) )\n",
    "#### Stage I (Interim = 198) type I error can be set and $PET_0=1-\\alpha_1 $\n",
    "#### Under each $\\alpha_1$ we can get empirical $power_1 = 1-PET_1$\n",
    "#### We can search for the best $\\alpha_1$ to minimize EN reach the overall alpha and power."
   ]
  },
  {
   "cell_type": "code",
   "execution_count": 11,
   "metadata": {
    "vscode": {
     "languageId": "r"
    }
   },
   "outputs": [
    {
     "data": {
      "text/html": [
       "0.0499000000000001"
      ],
      "text/latex": [
       "0.0499000000000001"
      ],
      "text/markdown": [
       "0.0499000000000001"
      ],
      "text/plain": [
       "[1] 0.0499"
      ]
     },
     "metadata": {},
     "output_type": "display_data"
    }
   ],
   "source": [
    "PET0 <- 0.2\n",
    "\n",
    "s1result <- RMST_sim_test(n = 100, data_C = data_C[ , c(2, 3 ,1)] , data_E = data_E_H1[ , c(2, 3, 1)],\n",
    "                     tau = interim , sim_size = sim_size, alpha = 1-PET0, sided = 'greater')\n",
    "power_1 <- s1result$test_result$Rejection\n",
    "PET1 <- 1 - power_1\n",
    "\n",
    "s2result_H0 <- RMST_sim_test(n = 100, data_C = data_C[ , c(4, 5, 1)] , data_E = data_E_H0[ , c(4, 5, 1)],\n",
    "                     tau = 48 , sim_size = sim_size, alpha = 1 - PET0, sided = 'greater')\n",
    "s2result_H1 <- RMST_sim_test(n = 100, data_C = data_C[ , c(4, 5, 1)] , data_E = data_E_H0[ , c(4, 5, 1)],\n",
    "                     tau = 48 , sim_size = sim_size, alpha = 1 - PET0, sided = 'greater')\n",
    " \n",
    "\n",
    "\n",
    "\n"
   ]
  },
  {
   "cell_type": "code",
   "execution_count": 10,
   "metadata": {
    "vscode": {
     "languageId": "r"
    }
   },
   "outputs": [
    {
     "data": {
      "text/html": [
       "0.3764"
      ],
      "text/latex": [
       "0.3764"
      ],
      "text/markdown": [
       "0.3764"
      ],
      "text/plain": [
       "[1] 0.3764"
      ]
     },
     "metadata": {},
     "output_type": "display_data"
    }
   ],
   "source": [
    "power_1"
   ]
  },
  {
   "cell_type": "code",
   "execution_count": null,
   "metadata": {
    "vscode": {
     "languageId": "r"
    }
   },
   "outputs": [],
   "source": []
  }
 ],
 "metadata": {
  "kernelspec": {
   "display_name": "R",
   "language": "R",
   "name": "ir"
  },
  "language_info": {
   "codemirror_mode": "r",
   "file_extension": ".r",
   "mimetype": "text/x-r-source",
   "name": "R",
   "pygments_lexer": "r",
   "version": "4.4.1"
  }
 },
 "nbformat": 4,
 "nbformat_minor": 2
}
