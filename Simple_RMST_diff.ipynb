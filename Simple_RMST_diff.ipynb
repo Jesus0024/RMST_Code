{
 "cells": [
  {
   "cell_type": "code",
   "execution_count": 3,
   "metadata": {
    "vscode": {
     "languageId": "r"
    }
   },
   "outputs": [],
   "source": [
    "if (!require(survRM2)) install.packages('survRM2')\n",
    "library('survRM2') \n",
    "if (!require(mvtnorm)) install.packages('mvtnorm')\n",
    "library('mvtnorm')\n",
    "if (!require(survival)) install.packages('survival')\n",
    "library('survival')\n",
    "if (!require(nph)) install.packages('nph')\n",
    "library('nph')\n",
    "if (!require(foreach)) install.packages(\"foreach\")\n",
    "library('foreach') \n",
    "if (!require(doParallel)) install.packages(\"doParallel\")\n",
    "library('doParallel')\n",
    "if (!require(ggplot2)) install.packages(\"ggplot2\")\n",
    "library('ggplot2')\n",
    "if (!require(cowplot)) install.packages(\"cowplot\")\n",
    "library('cowplot')\n",
    "library('simtrial')\n",
    "\n",
    "n_cores <- detectCores()\n",
    "cluster <- makeCluster(14) # How many cores we use\n",
    "registerDoParallel(cluster)\n",
    "# multi thread\n",
    "invisible(clusterEvalQ(cluster, #import packages to parallel \n",
    "  {\n",
    "  library('survRM2')\n",
    "  library('mvtnorm')\n",
    "  library('survival')\n",
    "  library('nph')\n",
    "  library(\"simtrial\")\n",
    "  library(\"foreach\")\n",
    "  }))\n",
    "\n",
    "source('/home/r27user6/RMST_Code/Function.R')\n",
    "clusterExport(cluster, \"expo_gen_2stages\")"
   ]
  },
  {
   "cell_type": "markdown",
   "metadata": {},
   "source": [
    "# Simple RMST difference test in 2 stages design (NPH)\n",
    "#### Rejection region of Interim:\n",
    "#### $\\textcolor{lightgreen}{E(\\tau_1) - C(\\tau_1) > m_1}$\n",
    "#### Rejection region of overall:\n",
    "#### $ \\textcolor{lightgreen}{E(\\tau_1) - C(\\tau_1) > m_1\\ \\&\\  E(\\tau_2)-C(\\tau_2)>m_2 }$"
   ]
  },
  {
   "cell_type": "markdown",
   "metadata": {},
   "source": [
    "#### Similar to Shan(2021) (https://doi.org/10.1016/j.conctc.2021.100732)\n",
    "#### But this paper is single arm. We are double\n",
    "#### We use the non-HR setting in Eaton(2020) (One stage two sided test)\n",
    "####  <span style=\"color:yellow\">Early differenct: A hazard ratio of 0.67 until 15 months and then a hazard ratio of 1.2 \n",
    "#### acc_time = 24, cen_time = 36, interim = 18, final $\\tau = 48$"
   ]
  },
  {
   "cell_type": "code",
   "execution_count": 4,
   "metadata": {
    "vscode": {
     "languageId": "r"
    }
   },
   "outputs": [],
   "source": [
    "median_con <- 10 # month\n",
    "lambda_H0 <- log(2)/median_con\n",
    "HR1 <- 0.67\n",
    "HR2 <- 1.2\n",
    "sim_size <- 10000 \n",
    "acc_time <- 24\n",
    "cen_time <- 36\n",
    "n <- 100  # Fix total sample size\n",
    "interim <- 18\n",
    "change_time <- 15\n",
    "set.seed(2024)\n",
    "\n",
    "data_C <- expo_gen_2stages(N = n * sim_size, acc_time = acc_time, lambda = lambda_H0,\n",
    "                         dist = 'exp', cen_time = cen_time, arm = 0, interim = interim)\n",
    "data_E_H0 <- expo_gen_2stages(N = n * sim_size, acc_time = acc_time, lambda = lambda_H0, \n",
    "                         dist = 'exp', cen_time = cen_time, arm = 1, interim = interim)                         \n",
    "data_E_H1 <- expo_gen_2stages(N = n * sim_size, acc_time = acc_time, lambda = lambda_H0, \n",
    "                          dist = 'pcw_exp', cen_time = cen_time,HR1 = HR1, HR2 = HR2, \n",
    "                          change_time = change_time, arm = 1, interim = interim)\n",
    "\n",
    "#calculate the RMST of each group in H0,H1\n",
    "data_C_int <- data_C[ , c(2,3,1)]  \n",
    "data_E_H0_int <- data_E_H0[ , c(2,3,1)]\n",
    "data_E_H1_int <- data_E_H1[ , c(2,3,1)]\n",
    "rmst_h0_int <- RMST_sim_cal(n = n,data_E = data_E_H0_int, data_C = data_C_int,tau = interim,sim_size = sim_size)\n",
    "rmst_h1_int <- RMST_sim_cal(n = n,data_E = data_E_H1_int, data_C = data_C_int,tau = interim,sim_size = sim_size)\n",
    "\n",
    "data_C_fin <- data_C[ , c(4,5,1)]\n",
    "data_E_H0_fin <- data_E_H0[ , c(4,5,1)]\n",
    "data_E_H1_fin <- data_E_H1[ , c(4,5,1)]\n",
    "rmst_h0_fin <- RMST_sim_cal(n = n,data_E = data_E_H0_fin, data_C = data_C_fin,tau = 48,sim_size = sim_size)\n",
    "rmst_h1_fin <- RMST_sim_cal(n = n,data_E = data_E_H1_fin, data_C = data_C_fin,tau = 48,sim_size = sim_size)\n",
    "\n",
    "rmst_data <- rbind(rmst_h0_int, rmst_h1_int, rmst_h0_fin, rmst_h1_fin)"
   ]
  },
  {
   "cell_type": "markdown",
   "metadata": {},
   "source": [
    "### 1. Simple RMST Difference\n",
    "#### <font color=LightSeaGreen>Use the same find_m_t function.  Set t_low = $-Inf$ to find the best m1, m2\n"
   ]
  },
  {
   "cell_type": "code",
   "execution_count": 5,
   "metadata": {
    "vscode": {
     "languageId": "r"
    }
   },
   "outputs": [
    {
     "data": {
      "text/html": [
       "<table class=\"dataframe\">\n",
       "<caption>A data.frame: 1 × 8</caption>\n",
       "<thead>\n",
       "\t<tr><th scope=col>m1</th><th scope=col>t1</th><th scope=col>PET0</th><th scope=col>PET1</th><th scope=col>m2</th><th scope=col>t2</th><th scope=col>alpha</th><th scope=col>Power</th></tr>\n",
       "\t<tr><th scope=col>&lt;dbl&gt;</th><th scope=col>&lt;dbl&gt;</th><th scope=col>&lt;dbl&gt;</th><th scope=col>&lt;dbl&gt;</th><th scope=col>&lt;dbl&gt;</th><th scope=col>&lt;dbl&gt;</th><th scope=col>&lt;dbl&gt;</th><th scope=col>&lt;dbl&gt;</th></tr>\n",
       "</thead>\n",
       "<tbody>\n",
       "\t<tr><td>-1.244</td><td>-Inf</td><td>0.1501</td><td>0.0071</td><td>2.286</td><td>-Inf</td><td>0.0998</td><td>0.5455</td></tr>\n",
       "</tbody>\n",
       "</table>\n"
      ],
      "text/latex": [
       "A data.frame: 1 × 8\n",
       "\\begin{tabular}{llllllll}\n",
       " m1 & t1 & PET0 & PET1 & m2 & t2 & alpha & Power\\\\\n",
       " <dbl> & <dbl> & <dbl> & <dbl> & <dbl> & <dbl> & <dbl> & <dbl>\\\\\n",
       "\\hline\n",
       "\t -1.244 & -Inf & 0.1501 & 0.0071 & 2.286 & -Inf & 0.0998 & 0.5455\\\\\n",
       "\\end{tabular}\n"
      ],
      "text/markdown": [
       "\n",
       "A data.frame: 1 × 8\n",
       "\n",
       "| m1 &lt;dbl&gt; | t1 &lt;dbl&gt; | PET0 &lt;dbl&gt; | PET1 &lt;dbl&gt; | m2 &lt;dbl&gt; | t2 &lt;dbl&gt; | alpha &lt;dbl&gt; | Power &lt;dbl&gt; |\n",
       "|---|---|---|---|---|---|---|---|\n",
       "| -1.244 | -Inf | 0.1501 | 0.0071 | 2.286 | -Inf | 0.0998 | 0.5455 |\n",
       "\n"
      ],
      "text/plain": [
       "  m1     t1   PET0   PET1   m2    t2   alpha  Power \n",
       "1 -1.244 -Inf 0.1501 0.0071 2.286 -Inf 0.0998 0.5455"
      ]
     },
     "metadata": {},
     "output_type": "display_data"
    }
   ],
   "source": [
    "find_m_t_RMST(m_low = -3, t_low = -Inf, t_up = 0, rmst_data = rmst_data, search_times = 5000, search_step = 0.002,\n",
    "         tar_a1 = 0.85, tar_pow1_low = 0.1, tar_a2 = 0.1, sim_size = 10000)"
   ]
  },
  {
   "cell_type": "markdown",
   "metadata": {},
   "source": [
    "### 2. Our RMST Rejection method\n",
    "#### $ \\textcolor{lightgreen}{E(\\tau_1)-C(\\tau_1)>m_1\\ \\&\\  E(\\tau_1)>t_1\\ \\&\\  E(\\tau_2)-C(\\tau_2)>m_2\\ \\&\\  E(\\tau_2)>t_2}$"
   ]
  },
  {
   "cell_type": "code",
   "execution_count": 6,
   "metadata": {
    "vscode": {
     "languageId": "r"
    }
   },
   "outputs": [
    {
     "data": {
      "text/html": [
       "<table class=\"dataframe\">\n",
       "<caption>A data.frame: 1 × 8</caption>\n",
       "<thead>\n",
       "\t<tr><th scope=col>m1</th><th scope=col>t1</th><th scope=col>PET0</th><th scope=col>PET1</th><th scope=col>m2</th><th scope=col>t2</th><th scope=col>alpha</th><th scope=col>Power</th></tr>\n",
       "\t<tr><th scope=col>&lt;dbl&gt;</th><th scope=col>&lt;dbl&gt;</th><th scope=col>&lt;dbl&gt;</th><th scope=col>&lt;dbl&gt;</th><th scope=col>&lt;dbl&gt;</th><th scope=col>&lt;dbl&gt;</th><th scope=col>&lt;dbl&gt;</th><th scope=col>&lt;dbl&gt;</th></tr>\n",
       "</thead>\n",
       "<tbody>\n",
       "\t<tr><td>-2.205</td><td>9.022</td><td>0.1508</td><td>5e-04</td><td>1.795</td><td>15</td><td>0.0998</td><td>0.6288</td></tr>\n",
       "</tbody>\n",
       "</table>\n"
      ],
      "text/latex": [
       "A data.frame: 1 × 8\n",
       "\\begin{tabular}{llllllll}\n",
       " m1 & t1 & PET0 & PET1 & m2 & t2 & alpha & Power\\\\\n",
       " <dbl> & <dbl> & <dbl> & <dbl> & <dbl> & <dbl> & <dbl> & <dbl>\\\\\n",
       "\\hline\n",
       "\t -2.205 & 9.022 & 0.1508 & 5e-04 & 1.795 & 15 & 0.0998 & 0.6288\\\\\n",
       "\\end{tabular}\n"
      ],
      "text/markdown": [
       "\n",
       "A data.frame: 1 × 8\n",
       "\n",
       "| m1 &lt;dbl&gt; | t1 &lt;dbl&gt; | PET0 &lt;dbl&gt; | PET1 &lt;dbl&gt; | m2 &lt;dbl&gt; | t2 &lt;dbl&gt; | alpha &lt;dbl&gt; | Power &lt;dbl&gt; |\n",
       "|---|---|---|---|---|---|---|---|\n",
       "| -2.205 | 9.022 | 0.1508 | 5e-04 | 1.795 | 15 | 0.0998 | 0.6288 |\n",
       "\n"
      ],
      "text/plain": [
       "  m1     t1    PET0   PET1  m2    t2 alpha  Power \n",
       "1 -2.205 9.022 0.1508 5e-04 1.795 15 0.0998 0.6288"
      ]
     },
     "metadata": {},
     "output_type": "display_data"
    }
   ],
   "source": [
    "find_m_t_RMST(m_low = -3, t_low = 8, t_up = 15, rmst_data = rmst_data, search_times = 1000, search_step = 0.005,\n",
    "         tar_a1 = 0.85, tar_pow1_low = 0.1, tar_a2 = 0.1, sim_size = 10000)"
   ]
  },
  {
   "cell_type": "markdown",
   "metadata": {},
   "source": [
    "### 3. Log rank test\n",
    "#### $\\textcolor{lightgreen}{\\frac{W_1}{\\sigma_1}>c_1\\ \\&\\ \\frac{W}{\\sigma}>c}$"
   ]
  },
  {
   "cell_type": "code",
   "execution_count": 7,
   "metadata": {
    "vscode": {
     "languageId": "r"
    }
   },
   "outputs": [],
   "source": [
    "z_stats_h0_int <- log_rank_sim(data_C = data_C_int, data_E = data_E_H0_int, sim_size =  sim_size,\n",
    "                            n = n, alpha = 0.1, sided = 'greater')$z_stats\n",
    "z_stats_h1_int <- log_rank_sim(data_C = data_C_int, data_E = data_E_H1_int, sim_size =  sim_size,\n",
    "                            n = n, alpha = 0.1, sided = 'greater')$z_stats\n",
    "z_stats_h0_fin <- log_rank_sim(data_C = data_C_fin, data_E = data_E_H0_fin, sim_size =  sim_size,\n",
    "                            n = n, alpha = 0.1, sided = 'greater')$z_stats\n",
    "z_stats_h1_fin <- log_rank_sim(data_C = data_C_fin, data_E = data_E_H1_fin, sim_size =  sim_size,\n",
    "                            n = n, alpha = 0.1, sided = 'greater')$z_stats\n",
    "logrank_data <- rbind(z_stats_h0_int, z_stats_h1_int, z_stats_h0_fin, z_stats_h1_fin)                 "
   ]
  },
  {
   "cell_type": "code",
   "execution_count": 8,
   "metadata": {
    "vscode": {
     "languageId": "r"
    }
   },
   "outputs": [
    {
     "data": {
      "text/html": [
       "<table class=\"dataframe\">\n",
       "<caption>A data.frame: 1 × 6</caption>\n",
       "<thead>\n",
       "\t<tr><th scope=col>m1</th><th scope=col>PET0</th><th scope=col>PET1</th><th scope=col>m2</th><th scope=col>alpha</th><th scope=col>Power</th></tr>\n",
       "\t<tr><th scope=col>&lt;dbl&gt;</th><th scope=col>&lt;dbl&gt;</th><th scope=col>&lt;dbl&gt;</th><th scope=col>&lt;dbl&gt;</th><th scope=col>&lt;dbl&gt;</th><th scope=col>&lt;dbl&gt;</th></tr>\n",
       "</thead>\n",
       "<tbody>\n",
       "\t<tr><td>-1.041</td><td>0.1501</td><td>0.0065</td><td>1.281</td><td>0.0997</td><td>0.4573</td></tr>\n",
       "</tbody>\n",
       "</table>\n"
      ],
      "text/latex": [
       "A data.frame: 1 × 6\n",
       "\\begin{tabular}{llllll}\n",
       " m1 & PET0 & PET1 & m2 & alpha & Power\\\\\n",
       " <dbl> & <dbl> & <dbl> & <dbl> & <dbl> & <dbl>\\\\\n",
       "\\hline\n",
       "\t -1.041 & 0.1501 & 0.0065 & 1.281 & 0.0997 & 0.4573\\\\\n",
       "\\end{tabular}\n"
      ],
      "text/markdown": [
       "\n",
       "A data.frame: 1 × 6\n",
       "\n",
       "| m1 &lt;dbl&gt; | PET0 &lt;dbl&gt; | PET1 &lt;dbl&gt; | m2 &lt;dbl&gt; | alpha &lt;dbl&gt; | Power &lt;dbl&gt; |\n",
       "|---|---|---|---|---|---|\n",
       "| -1.041 | 0.1501 | 0.0065 | 1.281 | 0.0997 | 0.4573 |\n",
       "\n"
      ],
      "text/plain": [
       "  m1     PET0   PET1   m2    alpha  Power \n",
       "1 -1.041 0.1501 0.0065 1.281 0.0997 0.4573"
      ]
     },
     "metadata": {},
     "output_type": "display_data"
    }
   ],
   "source": [
    "find_m_logrank(m_low = -2,logrank_data = logrank_data, search_times = 4000, search_step = 0.001,\n",
    "                tar_a1 = 0.85, tar_pow1_low = 0.1, tar_a2 = 0.1, sim_size = 10000)"
   ]
  },
  {
   "cell_type": "markdown",
   "metadata": {},
   "source": [
    "----"
   ]
  },
  {
   "cell_type": "markdown",
   "metadata": {},
   "source": [
    "## <span style=\"color:yellow\">Optimal trial ( Min(EN) )\n",
    "#### Stage I (Interim = 198) type I error can be set and $PET_0=1-\\alpha_1 $\n",
    "#### Under each $\\alpha_1$ we can get empirical $power_1 = 1-PET_1$\n",
    "#### We can search for the best $\\alpha_1$ to minimize EN reach the overall alpha and power."
   ]
  },
  {
   "cell_type": "code",
   "execution_count": 11,
   "metadata": {
    "vscode": {
     "languageId": "r"
    }
   },
   "outputs": [
    {
     "data": {
      "text/html": [
       "0.0499000000000001"
      ],
      "text/latex": [
       "0.0499000000000001"
      ],
      "text/markdown": [
       "0.0499000000000001"
      ],
      "text/plain": [
       "[1] 0.0499"
      ]
     },
     "metadata": {},
     "output_type": "display_data"
    }
   ],
   "source": [
    "PET0 <- 0.2\n",
    "\n",
    "s1result <- RMST_sim_test(n = 100, data_C = data_C[ , c(2, 3 ,1)] , data_E = data_E_H1[ , c(2, 3, 1)],\n",
    "                     tau = interim , sim_size = sim_size, alpha = 1-PET0, sided = 'greater')\n",
    "power_1 <- s1result$test_result$Rejection\n",
    "PET1 <- 1 - power_1\n",
    "\n",
    "s2result_H0 <- RMST_sim_test(n = 100, data_C = data_C[ , c(4, 5, 1)] , data_E = data_E_H0[ , c(4, 5, 1)],\n",
    "                     tau = 48 , sim_size = sim_size, alpha = 1 - PET0, sided = 'greater')\n",
    "s2result_H1 <- RMST_sim_test(n = 100, data_C = data_C[ , c(4, 5, 1)] , data_E = data_E_H0[ , c(4, 5, 1)],\n",
    "                     tau = 48 , sim_size = sim_size, alpha = 1 - PET0, sided = 'greater')\n",
    " \n",
    "\n",
    "\n",
    "\n"
   ]
  },
  {
   "cell_type": "code",
   "execution_count": 10,
   "metadata": {
    "vscode": {
     "languageId": "r"
    }
   },
   "outputs": [
    {
     "data": {
      "text/html": [
       "0.3764"
      ],
      "text/latex": [
       "0.3764"
      ],
      "text/markdown": [
       "0.3764"
      ],
      "text/plain": [
       "[1] 0.3764"
      ]
     },
     "metadata": {},
     "output_type": "display_data"
    }
   ],
   "source": [
    "power_1"
   ]
  },
  {
   "cell_type": "code",
   "execution_count": null,
   "metadata": {
    "vscode": {
     "languageId": "r"
    }
   },
   "outputs": [],
   "source": []
  }
 ],
 "metadata": {
  "kernelspec": {
   "display_name": "R",
   "language": "R",
   "name": "ir"
  },
  "language_info": {
   "codemirror_mode": "r",
   "file_extension": ".r",
   "mimetype": "text/x-r-source",
   "name": "R",
   "pygments_lexer": "r",
   "version": "4.4.1"
  }
 },
 "nbformat": 4,
 "nbformat_minor": 2
}
